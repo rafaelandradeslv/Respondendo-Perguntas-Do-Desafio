{
 "cells": [
  {
   "cell_type": "markdown",
   "id": "2914d5fd",
   "metadata": {},
   "source": [
    "# Teste de conexão"
   ]
  },
  {
   "cell_type": "code",
   "execution_count": 2,
   "id": "715185f6",
   "metadata": {},
   "outputs": [
    {
     "name": "stdout",
     "output_type": "stream",
     "text": [
      "Collecting pymysql\n",
      "  Using cached PyMySQL-1.0.2-py3-none-any.whl (43 kB)\n",
      "Installing collected packages: pymysql\n",
      "Successfully installed pymysql-1.0.2\n"
     ]
    }
   ],
   "source": [
    "# requirements\n",
    "# !pip install pymysql"
   ]
  },
  {
   "cell_type": "code",
   "execution_count": 37,
   "id": "0890ccf8",
   "metadata": {
    "ExecuteTime": {
     "end_time": "2021-08-11T14:44:04.979625Z",
     "start_time": "2021-08-11T14:44:04.968626Z"
    }
   },
   "outputs": [],
   "source": [
    "import pymysql\n",
    "import pandas as pd"
   ]
  },
  {
   "cell_type": "code",
   "execution_count": 38,
   "id": "c9cfeadf",
   "metadata": {
    "ExecuteTime": {
     "end_time": "2021-08-11T14:44:05.458664Z",
     "start_time": "2021-08-11T14:44:05.400661Z"
    }
   },
   "outputs": [],
   "source": [
    "# dados de credenciais apagados por segurança\n",
    "conexao = pymysql.connect(\n",
    "    host= '... .2.. .41',\n",
    "    user= '...bo...',\n",
    "    passwd='...',\n",
    "    database= '...'\n",
    ")"
   ]
  },
  {
   "cell_type": "code",
   "execution_count": 32,
   "id": "c2a297c5",
   "metadata": {
    "ExecuteTime": {
     "end_time": "2021-08-11T14:35:31.058171Z",
     "start_time": "2021-08-11T14:35:31.043171Z"
    }
   },
   "outputs": [],
   "source": [
    "cursor = conexao.cursor()"
   ]
  },
  {
   "cell_type": "code",
   "execution_count": 33,
   "id": "f7283ae1",
   "metadata": {
    "ExecuteTime": {
     "end_time": "2021-08-11T14:35:31.442203Z",
     "start_time": "2021-08-11T14:35:31.412202Z"
    }
   },
   "outputs": [
    {
     "data": {
      "text/plain": [
       "23"
      ]
     },
     "execution_count": 33,
     "metadata": {},
     "output_type": "execute_result"
    }
   ],
   "source": [
    "cursor.execute('SHOW TABLES')"
   ]
  },
  {
   "cell_type": "code",
   "execution_count": 34,
   "id": "7bc2cc15",
   "metadata": {
    "ExecuteTime": {
     "end_time": "2021-08-11T14:35:32.002249Z",
     "start_time": "2021-08-11T14:35:31.996248Z"
    }
   },
   "outputs": [
    {
     "name": "stdout",
     "output_type": "stream",
     "text": [
      "('IMDB_movies',)\n",
      "('data_product',)\n",
      "('data_product_sales',)\n",
      "('data_store_cad',)\n",
      "('data_store_sales',)\n",
      "('tabela_teste',)\n",
      "('viewIssue10',)\n",
      "('viewIssue12',)\n",
      "('viewIssue123123',)\n",
      "('viewIssue13',)\n",
      "('viewIssue15',)\n",
      "('viewIssue16',)\n",
      "('viewIssue18',)\n",
      "('viewIssue20',)\n",
      "('viewIssue21',)\n",
      "('viewIssue22',)\n",
      "('viewIssue220',)\n",
      "('viewIssue2234',)\n",
      "('viewIssue24',)\n",
      "('viewIssue26',)\n",
      "('viewIssue300',)\n",
      "('viewIssue46',)\n",
      "('viewIssueLooqbox',)\n"
     ]
    }
   ],
   "source": [
    "for i in cursor:\n",
    "    print(i)"
   ]
  },
  {
   "cell_type": "code",
   "execution_count": null,
   "id": "7f4968a0",
   "metadata": {
    "ExecuteTime": {
     "end_time": "2021-08-11T14:35:32.784311Z",
     "start_time": "2021-08-11T14:35:32.692305Z"
    }
   },
   "outputs": [],
   "source": [
    "cursor.execute('SELECT * FROM IMDB_movies')\n",
    "result = cursor.fetchall()"
   ]
  },
  {
   "cell_type": "markdown",
   "id": "3fc77180",
   "metadata": {
    "heading_collapsed": true
   },
   "source": [
    "# Processando dados"
   ]
  },
  {
   "cell_type": "markdown",
   "id": "ec79eac6",
   "metadata": {
    "heading_collapsed": true,
    "hidden": true
   },
   "source": [
    "## Teste: consulta de tabela"
   ]
  },
  {
   "cell_type": "code",
   "execution_count": 49,
   "id": "dd87ac45",
   "metadata": {
    "ExecuteTime": {
     "end_time": "2021-08-11T14:52:54.168315Z",
     "start_time": "2021-08-11T14:52:53.716279Z"
    },
    "hidden": true
   },
   "outputs": [
    {
     "data": {
      "text/plain": [
       "tuple"
      ]
     },
     "execution_count": 49,
     "metadata": {},
     "output_type": "execute_result"
    }
   ],
   "source": [
    "cursor.execute(\"SELECT * FROM data_product\")\n",
    "resposta = cursor.fetchall()\n",
    "type(resposta)"
   ]
  },
  {
   "cell_type": "code",
   "execution_count": 50,
   "id": "7dbc9e6c",
   "metadata": {
    "ExecuteTime": {
     "end_time": "2021-08-11T14:52:55.336408Z",
     "start_time": "2021-08-11T14:52:55.292406Z"
    },
    "hidden": true
   },
   "outputs": [
    {
     "data": {
      "text/html": [
       "<div>\n",
       "<style scoped>\n",
       "    .dataframe tbody tr th:only-of-type {\n",
       "        vertical-align: middle;\n",
       "    }\n",
       "\n",
       "    .dataframe tbody tr th {\n",
       "        vertical-align: top;\n",
       "    }\n",
       "\n",
       "    .dataframe thead th {\n",
       "        text-align: right;\n",
       "    }\n",
       "</style>\n",
       "<table border=\"1\" class=\"dataframe\">\n",
       "  <thead>\n",
       "    <tr style=\"text-align: right;\">\n",
       "      <th></th>\n",
       "      <th>PRODUCT_COD</th>\n",
       "      <th>PRODUCT_NAME</th>\n",
       "      <th>PRODUCT_VAL</th>\n",
       "      <th>DEP_NAME</th>\n",
       "      <th>DEP_COD</th>\n",
       "      <th>SECTION_NAME</th>\n",
       "      <th>SECTION_COD</th>\n",
       "    </tr>\n",
       "  </thead>\n",
       "  <tbody>\n",
       "    <tr>\n",
       "      <th>0</th>\n",
       "      <td>10</td>\n",
       "      <td>Acido Tranexamico 250mg Generico EMS 12 Compri...</td>\n",
       "      <td>36.71</td>\n",
       "      <td>MEDICAMENTOS GENÉRICOS</td>\n",
       "      <td>10</td>\n",
       "      <td>CIRCULAÇÃO</td>\n",
       "      <td>40</td>\n",
       "    </tr>\n",
       "    <tr>\n",
       "      <th>1</th>\n",
       "      <td>11</td>\n",
       "      <td>Bissulfato de Clopidogrel 75mg Generico Teuto ...</td>\n",
       "      <td>66.51</td>\n",
       "      <td>MEDICAMENTOS GENÉRICOS</td>\n",
       "      <td>10</td>\n",
       "      <td>CIRCULAÇÃO</td>\n",
       "      <td>40</td>\n",
       "    </tr>\n",
       "    <tr>\n",
       "      <th>2</th>\n",
       "      <td>12</td>\n",
       "      <td>Cloridrato de Amiodarona 200mg Generico Biosin...</td>\n",
       "      <td>31.17</td>\n",
       "      <td>MEDICAMENTOS GENÉRICOS</td>\n",
       "      <td>10</td>\n",
       "      <td>CIRCULAÇÃO</td>\n",
       "      <td>40</td>\n",
       "    </tr>\n",
       "    <tr>\n",
       "      <th>3</th>\n",
       "      <td>13</td>\n",
       "      <td>Acido Tranexâmico 250mg Generico Legrand 12 Co...</td>\n",
       "      <td>36.71</td>\n",
       "      <td>MEDICAMENTOS GENÉRICOS</td>\n",
       "      <td>10</td>\n",
       "      <td>CIRCULAÇÃO</td>\n",
       "      <td>40</td>\n",
       "    </tr>\n",
       "    <tr>\n",
       "      <th>4</th>\n",
       "      <td>14</td>\n",
       "      <td>Cloridrato Oximetazolina Adulto 5mg/ml Genéric...</td>\n",
       "      <td>12.08</td>\n",
       "      <td>MEDICAMENTOS GENÉRICOS</td>\n",
       "      <td>10</td>\n",
       "      <td>GRIPES E RESFRIADOS</td>\n",
       "      <td>41</td>\n",
       "    </tr>\n",
       "  </tbody>\n",
       "</table>\n",
       "</div>"
      ],
      "text/plain": [
       "   PRODUCT_COD                                       PRODUCT_NAME PRODUCT_VAL  \\\n",
       "0           10  Acido Tranexamico 250mg Generico EMS 12 Compri...       36.71   \n",
       "1           11  Bissulfato de Clopidogrel 75mg Generico Teuto ...       66.51   \n",
       "2           12  Cloridrato de Amiodarona 200mg Generico Biosin...       31.17   \n",
       "3           13  Acido Tranexâmico 250mg Generico Legrand 12 Co...       36.71   \n",
       "4           14  Cloridrato Oximetazolina Adulto 5mg/ml Genéric...       12.08   \n",
       "\n",
       "                 DEP_NAME  DEP_COD         SECTION_NAME  SECTION_COD  \n",
       "0  MEDICAMENTOS GENÉRICOS       10           CIRCULAÇÃO           40  \n",
       "1  MEDICAMENTOS GENÉRICOS       10           CIRCULAÇÃO           40  \n",
       "2  MEDICAMENTOS GENÉRICOS       10           CIRCULAÇÃO           40  \n",
       "3  MEDICAMENTOS GENÉRICOS       10           CIRCULAÇÃO           40  \n",
       "4  MEDICAMENTOS GENÉRICOS       10  GRIPES E RESFRIADOS           41  "
      ]
     },
     "execution_count": 50,
     "metadata": {},
     "output_type": "execute_result"
    }
   ],
   "source": [
    "df_product_information = pd.DataFrame(list(resposta), columns=['PRODUCT_COD', 'PRODUCT_NAME', 'PRODUCT_VAL', 'DEP_NAME', 'DEP_COD', 'SECTION_NAME', 'SECTION_COD'])\n",
    "df_product_information.head()"
   ]
  },
  {
   "cell_type": "markdown",
   "id": "32345a48",
   "metadata": {
    "heading_collapsed": true,
    "hidden": true
   },
   "source": [
    "## Funções"
   ]
  },
  {
   "cell_type": "code",
   "execution_count": 39,
   "id": "5fb69406",
   "metadata": {
    "ExecuteTime": {
     "end_time": "2021-08-11T14:44:19.593815Z",
     "start_time": "2021-08-11T14:44:19.584814Z"
    },
    "hidden": true
   },
   "outputs": [],
   "source": [
    "# função usada para selecionar tabelas\n",
    "def selectTable(tableName):\n",
    "    cursor.execute(f\"SELECT * FROM {tableName}\")\n",
    "    resposta = cursor.fetchall()\n",
    "    return resposta"
   ]
  },
  {
   "cell_type": "markdown",
   "id": "ad27ae2b",
   "metadata": {
    "hidden": true
   },
   "source": [
    "## Dados"
   ]
  },
  {
   "cell_type": "code",
   "execution_count": 40,
   "id": "7dc0fed5",
   "metadata": {
    "ExecuteTime": {
     "end_time": "2021-08-11T14:44:25.085247Z",
     "start_time": "2021-08-11T14:44:25.073258Z"
    },
    "hidden": true
   },
   "outputs": [],
   "source": [
    "tabelas = ['data_product_sales', 'data_store_cad', 'data_store_sales', 'IMDB_movies']"
   ]
  },
  {
   "cell_type": "code",
   "execution_count": 51,
   "id": "3473120c",
   "metadata": {
    "ExecuteTime": {
     "end_time": "2021-08-11T14:54:58.509345Z",
     "start_time": "2021-08-11T14:54:21.341360Z"
    },
    "hidden": true
   },
   "outputs": [],
   "source": [
    "df_data_product_sales = pd.DataFrame(selectTable(tabelas[0]), columns = ['STORE_CODE', 'PRODUCT_CODE', 'DATE', 'SALES_VALUE', 'SALES_QTY'])"
   ]
  },
  {
   "cell_type": "code",
   "execution_count": 52,
   "id": "7966f8d0",
   "metadata": {
    "ExecuteTime": {
     "end_time": "2021-08-11T14:54:59.019388Z",
     "start_time": "2021-08-11T14:54:58.988385Z"
    },
    "hidden": true
   },
   "outputs": [
    {
     "name": "stdout",
     "output_type": "stream",
     "text": [
      "(2173133, 5)\n"
     ]
    },
    {
     "data": {
      "text/html": [
       "<div>\n",
       "<style scoped>\n",
       "    .dataframe tbody tr th:only-of-type {\n",
       "        vertical-align: middle;\n",
       "    }\n",
       "\n",
       "    .dataframe tbody tr th {\n",
       "        vertical-align: top;\n",
       "    }\n",
       "\n",
       "    .dataframe thead th {\n",
       "        text-align: right;\n",
       "    }\n",
       "</style>\n",
       "<table border=\"1\" class=\"dataframe\">\n",
       "  <thead>\n",
       "    <tr style=\"text-align: right;\">\n",
       "      <th></th>\n",
       "      <th>STORE_CODE</th>\n",
       "      <th>PRODUCT_CODE</th>\n",
       "      <th>DATE</th>\n",
       "      <th>SALES_VALUE</th>\n",
       "      <th>SALES_QTY</th>\n",
       "    </tr>\n",
       "  </thead>\n",
       "  <tbody>\n",
       "    <tr>\n",
       "      <th>0</th>\n",
       "      <td>1</td>\n",
       "      <td>18</td>\n",
       "      <td>2019-01-01</td>\n",
       "      <td>708.50</td>\n",
       "      <td>65</td>\n",
       "    </tr>\n",
       "    <tr>\n",
       "      <th>1</th>\n",
       "      <td>1</td>\n",
       "      <td>18</td>\n",
       "      <td>2019-01-02</td>\n",
       "      <td>1297.10</td>\n",
       "      <td>119</td>\n",
       "    </tr>\n",
       "    <tr>\n",
       "      <th>2</th>\n",
       "      <td>1</td>\n",
       "      <td>18</td>\n",
       "      <td>2019-01-03</td>\n",
       "      <td>1144.50</td>\n",
       "      <td>105</td>\n",
       "    </tr>\n",
       "    <tr>\n",
       "      <th>3</th>\n",
       "      <td>1</td>\n",
       "      <td>18</td>\n",
       "      <td>2019-01-04</td>\n",
       "      <td>1090.00</td>\n",
       "      <td>100</td>\n",
       "    </tr>\n",
       "    <tr>\n",
       "      <th>4</th>\n",
       "      <td>1</td>\n",
       "      <td>18</td>\n",
       "      <td>2019-01-05</td>\n",
       "      <td>893.80</td>\n",
       "      <td>82</td>\n",
       "    </tr>\n",
       "  </tbody>\n",
       "</table>\n",
       "</div>"
      ],
      "text/plain": [
       "  STORE_CODE  PRODUCT_CODE        DATE SALES_VALUE SALES_QTY\n",
       "0          1            18  2019-01-01      708.50        65\n",
       "1          1            18  2019-01-02     1297.10       119\n",
       "2          1            18  2019-01-03     1144.50       105\n",
       "3          1            18  2019-01-04     1090.00       100\n",
       "4          1            18  2019-01-05      893.80        82"
      ]
     },
     "execution_count": 52,
     "metadata": {},
     "output_type": "execute_result"
    }
   ],
   "source": [
    "print(df_data_product_sales.shape)\n",
    "df_data_product_sales.head()"
   ]
  },
  {
   "cell_type": "code",
   "execution_count": 53,
   "id": "cff9f010",
   "metadata": {
    "ExecuteTime": {
     "end_time": "2021-08-11T14:55:31.068971Z",
     "start_time": "2021-08-11T14:55:30.821954Z"
    },
    "hidden": true
   },
   "outputs": [],
   "source": [
    "df_data_store_cad = pd.DataFrame(selectTable(tabelas[1]), columns = ['STORE_CODE', 'STORE_NAME', 'START_DATE', 'END_DATA', 'BUSINESS_NAME', 'BUSINESS_CODE'])"
   ]
  },
  {
   "cell_type": "code",
   "execution_count": 54,
   "id": "4457ab6f",
   "metadata": {
    "ExecuteTime": {
     "end_time": "2021-08-11T14:55:31.308991Z",
     "start_time": "2021-08-11T14:55:31.284991Z"
    },
    "hidden": true
   },
   "outputs": [
    {
     "name": "stdout",
     "output_type": "stream",
     "text": [
      "(20, 6)\n"
     ]
    },
    {
     "data": {
      "text/html": [
       "<div>\n",
       "<style scoped>\n",
       "    .dataframe tbody tr th:only-of-type {\n",
       "        vertical-align: middle;\n",
       "    }\n",
       "\n",
       "    .dataframe tbody tr th {\n",
       "        vertical-align: top;\n",
       "    }\n",
       "\n",
       "    .dataframe thead th {\n",
       "        text-align: right;\n",
       "    }\n",
       "</style>\n",
       "<table border=\"1\" class=\"dataframe\">\n",
       "  <thead>\n",
       "    <tr style=\"text-align: right;\">\n",
       "      <th></th>\n",
       "      <th>STORE_CODE</th>\n",
       "      <th>STORE_NAME</th>\n",
       "      <th>START_DATE</th>\n",
       "      <th>END_DATA</th>\n",
       "      <th>BUSINESS_NAME</th>\n",
       "      <th>BUSINESS_CODE</th>\n",
       "    </tr>\n",
       "  </thead>\n",
       "  <tbody>\n",
       "    <tr>\n",
       "      <th>0</th>\n",
       "      <td>1</td>\n",
       "      <td>Sao Paulo</td>\n",
       "      <td>2006-10-01</td>\n",
       "      <td></td>\n",
       "      <td>Varejo</td>\n",
       "      <td>1</td>\n",
       "    </tr>\n",
       "    <tr>\n",
       "      <th>1</th>\n",
       "      <td>2</td>\n",
       "      <td>Chicago</td>\n",
       "      <td>2007-10-01</td>\n",
       "      <td></td>\n",
       "      <td>Varejo</td>\n",
       "      <td>1</td>\n",
       "    </tr>\n",
       "    <tr>\n",
       "      <th>2</th>\n",
       "      <td>3</td>\n",
       "      <td>Roma</td>\n",
       "      <td>2008-10-01</td>\n",
       "      <td></td>\n",
       "      <td>Varejo</td>\n",
       "      <td>1</td>\n",
       "    </tr>\n",
       "    <tr>\n",
       "      <th>3</th>\n",
       "      <td>4</td>\n",
       "      <td>Tokio</td>\n",
       "      <td>2009-10-01</td>\n",
       "      <td></td>\n",
       "      <td>Varejo</td>\n",
       "      <td>1</td>\n",
       "    </tr>\n",
       "    <tr>\n",
       "      <th>4</th>\n",
       "      <td>5</td>\n",
       "      <td>Paris</td>\n",
       "      <td>2019-01-01</td>\n",
       "      <td></td>\n",
       "      <td>Proximidade</td>\n",
       "      <td>2</td>\n",
       "    </tr>\n",
       "  </tbody>\n",
       "</table>\n",
       "</div>"
      ],
      "text/plain": [
       "   STORE_CODE STORE_NAME  START_DATE END_DATA BUSINESS_NAME  BUSINESS_CODE\n",
       "0           1  Sao Paulo  2006-10-01                 Varejo              1\n",
       "1           2    Chicago  2007-10-01                 Varejo              1\n",
       "2           3       Roma  2008-10-01                 Varejo              1\n",
       "3           4      Tokio  2009-10-01                 Varejo              1\n",
       "4           5      Paris  2019-01-01            Proximidade              2"
      ]
     },
     "execution_count": 54,
     "metadata": {},
     "output_type": "execute_result"
    }
   ],
   "source": [
    "print(df_data_store_cad.shape)\n",
    "df_data_store_cad.head()"
   ]
  },
  {
   "cell_type": "code",
   "execution_count": 55,
   "id": "3e6bed9c",
   "metadata": {
    "ExecuteTime": {
     "end_time": "2021-08-11T14:55:55.451938Z",
     "start_time": "2021-08-11T14:55:54.909896Z"
    },
    "hidden": true
   },
   "outputs": [],
   "source": [
    "data_store_sales = pd.DataFrame(selectTable(tabelas[2]), columns = ['STORE_CODE', 'DATE', 'SALES_VALUE', 'SALES_QTY'])"
   ]
  },
  {
   "cell_type": "code",
   "execution_count": 56,
   "id": "37c7f08c",
   "metadata": {
    "ExecuteTime": {
     "end_time": "2021-08-11T14:55:57.494103Z",
     "start_time": "2021-08-11T14:55:57.469103Z"
    },
    "hidden": true
   },
   "outputs": [
    {
     "name": "stdout",
     "output_type": "stream",
     "text": [
      "(35762, 4)\n"
     ]
    },
    {
     "data": {
      "text/html": [
       "<div>\n",
       "<style scoped>\n",
       "    .dataframe tbody tr th:only-of-type {\n",
       "        vertical-align: middle;\n",
       "    }\n",
       "\n",
       "    .dataframe tbody tr th {\n",
       "        vertical-align: top;\n",
       "    }\n",
       "\n",
       "    .dataframe thead th {\n",
       "        text-align: right;\n",
       "    }\n",
       "</style>\n",
       "<table border=\"1\" class=\"dataframe\">\n",
       "  <thead>\n",
       "    <tr style=\"text-align: right;\">\n",
       "      <th></th>\n",
       "      <th>STORE_CODE</th>\n",
       "      <th>DATE</th>\n",
       "      <th>SALES_VALUE</th>\n",
       "      <th>SALES_QTY</th>\n",
       "    </tr>\n",
       "  </thead>\n",
       "  <tbody>\n",
       "    <tr>\n",
       "      <th>0</th>\n",
       "      <td>1</td>\n",
       "      <td>2014-11-23</td>\n",
       "      <td>111387.87</td>\n",
       "      <td>7227</td>\n",
       "    </tr>\n",
       "    <tr>\n",
       "      <th>1</th>\n",
       "      <td>10</td>\n",
       "      <td>2014-11-23</td>\n",
       "      <td>63256.35</td>\n",
       "      <td>4362</td>\n",
       "    </tr>\n",
       "    <tr>\n",
       "      <th>2</th>\n",
       "      <td>11</td>\n",
       "      <td>2014-11-23</td>\n",
       "      <td>62680.86</td>\n",
       "      <td>4257</td>\n",
       "    </tr>\n",
       "    <tr>\n",
       "      <th>3</th>\n",
       "      <td>12</td>\n",
       "      <td>2014-11-23</td>\n",
       "      <td>62680.86</td>\n",
       "      <td>4257</td>\n",
       "    </tr>\n",
       "    <tr>\n",
       "      <th>4</th>\n",
       "      <td>13</td>\n",
       "      <td>2014-11-23</td>\n",
       "      <td>111387.87</td>\n",
       "      <td>7227</td>\n",
       "    </tr>\n",
       "  </tbody>\n",
       "</table>\n",
       "</div>"
      ],
      "text/plain": [
       "   STORE_CODE        DATE  SALES_VALUE  SALES_QTY\n",
       "0           1  2014-11-23    111387.87       7227\n",
       "1          10  2014-11-23     63256.35       4362\n",
       "2          11  2014-11-23     62680.86       4257\n",
       "3          12  2014-11-23     62680.86       4257\n",
       "4          13  2014-11-23    111387.87       7227"
      ]
     },
     "execution_count": 56,
     "metadata": {},
     "output_type": "execute_result"
    }
   ],
   "source": [
    "print(data_store_sales.shape)\n",
    "data_store_sales.head()"
   ]
  },
  {
   "cell_type": "code",
   "execution_count": 45,
   "id": "8d3838cb",
   "metadata": {
    "ExecuteTime": {
     "end_time": "2021-08-11T14:46:33.905638Z",
     "start_time": "2021-08-11T14:46:33.841635Z"
    },
    "hidden": true
   },
   "outputs": [],
   "source": [
    "df_IMDB_movies = pd.DataFrame(selectTable(tabelas[3]), columns = ['id', 'title', 'genre', 'director', 'actors','year','runtime','rating','votes','revenueMillions','metascore'])"
   ]
  },
  {
   "cell_type": "code",
   "execution_count": 46,
   "id": "c3c6ec14",
   "metadata": {
    "ExecuteTime": {
     "end_time": "2021-08-11T14:46:42.980381Z",
     "start_time": "2021-08-11T14:46:42.955380Z"
    },
    "hidden": true
   },
   "outputs": [
    {
     "name": "stdout",
     "output_type": "stream",
     "text": [
      "(1000, 11)\n"
     ]
    },
    {
     "data": {
      "text/html": [
       "<div>\n",
       "<style scoped>\n",
       "    .dataframe tbody tr th:only-of-type {\n",
       "        vertical-align: middle;\n",
       "    }\n",
       "\n",
       "    .dataframe tbody tr th {\n",
       "        vertical-align: top;\n",
       "    }\n",
       "\n",
       "    .dataframe thead th {\n",
       "        text-align: right;\n",
       "    }\n",
       "</style>\n",
       "<table border=\"1\" class=\"dataframe\">\n",
       "  <thead>\n",
       "    <tr style=\"text-align: right;\">\n",
       "      <th></th>\n",
       "      <th>id</th>\n",
       "      <th>title</th>\n",
       "      <th>genre</th>\n",
       "      <th>director</th>\n",
       "      <th>actors</th>\n",
       "      <th>year</th>\n",
       "      <th>runtime</th>\n",
       "      <th>rating</th>\n",
       "      <th>votes</th>\n",
       "      <th>revenueMillions</th>\n",
       "      <th>metascore</th>\n",
       "    </tr>\n",
       "  </thead>\n",
       "  <tbody>\n",
       "    <tr>\n",
       "      <th>0</th>\n",
       "      <td>1</td>\n",
       "      <td>Guardians of the Galaxy</td>\n",
       "      <td>Action,Adventure,Sci-Fi</td>\n",
       "      <td>James Gunn</td>\n",
       "      <td>Chris Pratt, Vin Diesel, Bradley Cooper, Zoe S...</td>\n",
       "      <td>2014</td>\n",
       "      <td>121</td>\n",
       "      <td>8</td>\n",
       "      <td>757074</td>\n",
       "      <td>333</td>\n",
       "      <td>76.0</td>\n",
       "    </tr>\n",
       "    <tr>\n",
       "      <th>1</th>\n",
       "      <td>2</td>\n",
       "      <td>Prometheus</td>\n",
       "      <td>Adventure,Mystery,Sci-Fi</td>\n",
       "      <td>Ridley Scott</td>\n",
       "      <td>Noomi Rapace, Logan Marshall-Green, Michael Fa...</td>\n",
       "      <td>2012</td>\n",
       "      <td>124</td>\n",
       "      <td>7</td>\n",
       "      <td>485820</td>\n",
       "      <td>126</td>\n",
       "      <td>65.0</td>\n",
       "    </tr>\n",
       "    <tr>\n",
       "      <th>2</th>\n",
       "      <td>3</td>\n",
       "      <td>Split</td>\n",
       "      <td>Horror,Thriller</td>\n",
       "      <td>M. Night Shyamalan</td>\n",
       "      <td>James McAvoy, Anya Taylor-Joy, Haley Lu Richar...</td>\n",
       "      <td>2016</td>\n",
       "      <td>117</td>\n",
       "      <td>7</td>\n",
       "      <td>157606</td>\n",
       "      <td>138</td>\n",
       "      <td>62.0</td>\n",
       "    </tr>\n",
       "    <tr>\n",
       "      <th>3</th>\n",
       "      <td>4</td>\n",
       "      <td>Sing</td>\n",
       "      <td>Animation,Comedy,Family</td>\n",
       "      <td>Christophe Lourdelet</td>\n",
       "      <td>Matthew McConaughey,Reese Witherspoon, Seth Ma...</td>\n",
       "      <td>2016</td>\n",
       "      <td>108</td>\n",
       "      <td>7</td>\n",
       "      <td>60545</td>\n",
       "      <td>270</td>\n",
       "      <td>59.0</td>\n",
       "    </tr>\n",
       "    <tr>\n",
       "      <th>4</th>\n",
       "      <td>5</td>\n",
       "      <td>Suicide Squad</td>\n",
       "      <td>Action,Adventure,Fantasy</td>\n",
       "      <td>David Ayer</td>\n",
       "      <td>Will Smith, Jared Leto, Margot Robbie, Viola D...</td>\n",
       "      <td>2016</td>\n",
       "      <td>123</td>\n",
       "      <td>6</td>\n",
       "      <td>393727</td>\n",
       "      <td>325</td>\n",
       "      <td>40.0</td>\n",
       "    </tr>\n",
       "  </tbody>\n",
       "</table>\n",
       "</div>"
      ],
      "text/plain": [
       "   id                    title                     genre  \\\n",
       "0   1  Guardians of the Galaxy   Action,Adventure,Sci-Fi   \n",
       "1   2               Prometheus  Adventure,Mystery,Sci-Fi   \n",
       "2   3                    Split           Horror,Thriller   \n",
       "3   4                     Sing   Animation,Comedy,Family   \n",
       "4   5            Suicide Squad  Action,Adventure,Fantasy   \n",
       "\n",
       "               director                                             actors  \\\n",
       "0            James Gunn  Chris Pratt, Vin Diesel, Bradley Cooper, Zoe S...   \n",
       "1          Ridley Scott  Noomi Rapace, Logan Marshall-Green, Michael Fa...   \n",
       "2    M. Night Shyamalan  James McAvoy, Anya Taylor-Joy, Haley Lu Richar...   \n",
       "3  Christophe Lourdelet  Matthew McConaughey,Reese Witherspoon, Seth Ma...   \n",
       "4            David Ayer  Will Smith, Jared Leto, Margot Robbie, Viola D...   \n",
       "\n",
       "   year  runtime rating   votes revenueMillions  metascore  \n",
       "0  2014      121      8  757074             333       76.0  \n",
       "1  2012      124      7  485820             126       65.0  \n",
       "2  2016      117      7  157606             138       62.0  \n",
       "3  2016      108      7   60545             270       59.0  \n",
       "4  2016      123      6  393727             325       40.0  "
      ]
     },
     "execution_count": 46,
     "metadata": {},
     "output_type": "execute_result"
    }
   ],
   "source": [
    "print(df_IMDB_movies.shape)\n",
    "df_IMDB_movies.head()"
   ]
  },
  {
   "cell_type": "markdown",
   "id": "73e23269",
   "metadata": {
    "heading_collapsed": true
   },
   "source": [
    "# Salvando datasets em csv \n",
    "\n",
    "> ( não é necessário, mas faço para encurtar caminho nas consultas e não precisar rodar todas as linhas novamente por perda de conexão nesse momento.)"
   ]
  },
  {
   "cell_type": "code",
   "execution_count": 58,
   "id": "6f1f1b08",
   "metadata": {
    "ExecuteTime": {
     "end_time": "2021-08-11T14:59:49.390811Z",
     "start_time": "2021-08-11T14:59:40.959132Z"
    },
    "hidden": true
   },
   "outputs": [],
   "source": [
    "df_product_information.to_csv('docs_csv/data_product_info.csv', index=False)\n",
    "df_data_product_sales.to_csv('docs_csv/data_product_sales.csv', index=False)\n",
    "df_data_store_cad.to_csv('docs_csv/data_store_info.csv', index=False)\n",
    "data_store_sales.to_csv('docs_csv/data_store_sales.csv', index=False)\n",
    "df_IMDB_movies.to_csv('docs_csv/IMDB_movies.csv', index=False)"
   ]
  }
 ],
 "metadata": {
  "kernelspec": {
   "display_name": "Python 3",
   "language": "python",
   "name": "python3"
  },
  "language_info": {
   "codemirror_mode": {
    "name": "ipython",
    "version": 3
   },
   "file_extension": ".py",
   "mimetype": "text/x-python",
   "name": "python",
   "nbconvert_exporter": "python",
   "pygments_lexer": "ipython3",
   "version": "3.8.8"
  },
  "toc": {
   "base_numbering": 1,
   "nav_menu": {},
   "number_sections": true,
   "sideBar": true,
   "skip_h1_title": false,
   "title_cell": "Table of Contents",
   "title_sidebar": "Contents",
   "toc_cell": false,
   "toc_position": {},
   "toc_section_display": true,
   "toc_window_display": false
  },
  "varInspector": {
   "cols": {
    "lenName": 16,
    "lenType": 16,
    "lenVar": 40
   },
   "kernels_config": {
    "python": {
     "delete_cmd_postfix": "",
     "delete_cmd_prefix": "del ",
     "library": "var_list.py",
     "varRefreshCmd": "print(var_dic_list())"
    },
    "r": {
     "delete_cmd_postfix": ") ",
     "delete_cmd_prefix": "rm(",
     "library": "var_list.r",
     "varRefreshCmd": "cat(var_dic_list()) "
    }
   },
   "types_to_exclude": [
    "module",
    "function",
    "builtin_function_or_method",
    "instance",
    "_Feature"
   ],
   "window_display": false
  }
 },
 "nbformat": 4,
 "nbformat_minor": 5
}
