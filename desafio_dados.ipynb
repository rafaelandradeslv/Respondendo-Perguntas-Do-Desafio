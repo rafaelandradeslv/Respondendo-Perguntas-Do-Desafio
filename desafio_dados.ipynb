{
 "cells": [
  {
   "cell_type": "markdown",
   "id": "78105c2d",
   "metadata": {},
   "source": [
    "# Inicio Processo"
   ]
  },
  {
   "cell_type": "markdown",
   "id": "83d84227",
   "metadata": {},
   "source": [
    "### Libs"
   ]
  },
  {
   "cell_type": "code",
   "execution_count": null,
   "id": "519adb18",
   "metadata": {
    "ExecuteTime": {
     "end_time": "2021-08-13T10:54:57.592633Z",
     "start_time": "2021-08-13T10:54:57.587634Z"
    }
   },
   "outputs": [],
   "source": [
    "import pandas as pd\n",
    "import numpy as np\n",
    "import plotly.offline"
   ]
  },
  {
   "cell_type": "markdown",
   "id": "4105e270",
   "metadata": {
    "code_folding": []
   },
   "source": [
    "# Importando dadaos & VIsualização de Tabelas"
   ]
  },
  {
   "cell_type": "markdown",
   "id": "f44071b6",
   "metadata": {
    "ExecuteTime": {
     "end_time": "2021-08-08T19:47:25.776021Z",
     "start_time": "2021-08-08T19:47:25.758016Z"
    }
   },
   "source": [
    "### Datasets"
   ]
  },
  {
   "cell_type": "code",
   "execution_count": null,
   "id": "1fc9ffa4",
   "metadata": {
    "ExecuteTime": {
     "end_time": "2021-08-13T10:54:58.934746Z",
     "start_time": "2021-08-13T10:54:57.678642Z"
    }
   },
   "outputs": [],
   "source": [
    "dataStoretInfo = pd.read_csv('docs_csv/data_store_info.csv')\n",
    "dataStoreSales = pd.read_csv('docs_csv/data_store_sales.csv')\n",
    "dataProductSales = pd.read_csv('docs_csv/data_product_sales.csv')\n",
    "productInformation = pd.read_csv('docs_csv/data_product_info.csv')\n",
    "IMDB_movies = pd.read_csv('docs_csv/IMDB_movies.csv')"
   ]
  },
  {
   "cell_type": "markdown",
   "id": "4f0402bb",
   "metadata": {
    "heading_collapsed": true
   },
   "source": [
    "### Visualizando dados"
   ]
  },
  {
   "cell_type": "code",
   "execution_count": null,
   "id": "61024912",
   "metadata": {
    "ExecuteTime": {
     "end_time": "2021-08-13T10:54:59.094759Z",
     "start_time": "2021-08-13T10:54:58.936746Z"
    },
    "hidden": true
   },
   "outputs": [],
   "source": [
    "print(f'Quantidade de itens: {dataStoretInfo.shape}')\n",
    "print('\\n', dataStoretInfo.head())\n",
    "print('\\n_______________INFORMAÇÕES_______________')\n",
    "print(dataStoretInfo.info())\n",
    "print('\\n_______________VALORES NULOS_______________')\n",
    "print(dataStoretInfo.isnull().sum())"
   ]
  },
  {
   "cell_type": "code",
   "execution_count": null,
   "id": "7a1cdaeb",
   "metadata": {
    "ExecuteTime": {
     "end_time": "2021-08-13T10:54:59.237771Z",
     "start_time": "2021-08-13T10:54:59.096760Z"
    },
    "hidden": true
   },
   "outputs": [],
   "source": [
    "print(f'Quantidade de itens: {dataProductSales.shape}')\n",
    "print('\\n_______________INFORMAÇÕES_______________')\n",
    "print(dataProductSales.info())\n",
    "print('\\n_______________VALORES NULOS_______________')\n",
    "print(dataProductSales.isnull().sum())\n",
    "dataProductSales.head()"
   ]
  },
  {
   "cell_type": "code",
   "execution_count": null,
   "id": "c59984e2",
   "metadata": {
    "ExecuteTime": {
     "end_time": "2021-08-13T10:54:59.365782Z",
     "start_time": "2021-08-13T10:54:59.239773Z"
    },
    "hidden": true
   },
   "outputs": [],
   "source": [
    "print(f'Quantidade de itens: {dataStoreSales.shape}')\n",
    "print('\\n_______________INFORMAÇÕES_______________')\n",
    "print(dataStoreSales.info())\n",
    "print('\\n_______________VALORES NULOS_______________')\n",
    "print(dataProductSales.isnull().sum())\n",
    "dataStoreSales.head()"
   ]
  },
  {
   "cell_type": "code",
   "execution_count": null,
   "id": "b0519f1f",
   "metadata": {
    "ExecuteTime": {
     "end_time": "2021-08-13T10:54:59.397785Z",
     "start_time": "2021-08-13T10:54:59.366783Z"
    },
    "hidden": true
   },
   "outputs": [],
   "source": [
    "print(f'Quantidade de itens: {productInformation.shape}')\n",
    "print('\\n_______________INFORMAÇÕES_______________')\n",
    "print(productInformation.info())\n",
    "print('\\n_______________VALORES NULOS_______________')\n",
    "print(productInformation.isnull().sum())\n",
    "productInformation.head()"
   ]
  },
  {
   "cell_type": "markdown",
   "id": "6c7bc4d6",
   "metadata": {},
   "source": [
    "# Perguntas"
   ]
  },
  {
   "cell_type": "markdown",
   "id": "39419602",
   "metadata": {
    "ExecuteTime": {
     "end_time": "2021-08-08T09:10:35.714865Z",
     "start_time": "2021-08-08T09:10:35.701856Z"
    },
    "heading_collapsed": true
   },
   "source": [
    "### <strong>Quantos produtos a empresa possui? </strong>"
   ]
  },
  {
   "cell_type": "markdown",
   "id": "848e453e",
   "metadata": {
    "hidden": true
   },
   "source": [
    " > R: A empresa possui <strong>9962</strong> produtos\n",
    " \n",
    " <span class=\"mark\">Observação</span> : Existem produtos com nomes duplicados, a diferença está apenas no código do produto e outros no preço.\n",
    "    Se essa diferença não for significante, afirmo que existem <strong>9962</strong> produtos cadastrados, caso contrário considere um total de <strong>9994</strong> produtos.<br>Abaixo deixo o dataset apenas com os itens duplicados para averiguar."
   ]
  },
  {
   "cell_type": "markdown",
   "id": "d75982f5",
   "metadata": {
    "ExecuteTime": {
     "end_time": "2021-08-11T15:29:57.592673Z",
     "start_time": "2021-08-11T15:29:57.582686Z"
    },
    "heading_collapsed": true,
    "hidden": true
   },
   "source": [
    "#### linhas de código - pergunta 1"
   ]
  },
  {
   "cell_type": "code",
   "execution_count": null,
   "id": "7acea519",
   "metadata": {
    "ExecuteTime": {
     "end_time": "2021-08-13T10:54:59.413787Z",
     "start_time": "2021-08-13T10:54:59.398786Z"
    },
    "hidden": true
   },
   "outputs": [],
   "source": [
    "print(f\"Quantidade de produtos: \",len(pd.unique(productInformation['PRODUCT_NAME'])))"
   ]
  },
  {
   "cell_type": "code",
   "execution_count": null,
   "id": "a761e89d",
   "metadata": {
    "ExecuteTime": {
     "end_time": "2021-08-13T10:54:59.429787Z",
     "start_time": "2021-08-13T10:54:59.414787Z"
    },
    "hidden": true
   },
   "outputs": [],
   "source": [
    "print(f\"Valores Nulos: \", productInformation['PRODUCT_NAME'].isnull().sum())\n",
    "print(f\"Produtos com nomes duplicados: \", productInformation['PRODUCT_NAME'].duplicated().sum())"
   ]
  },
  {
   "cell_type": "code",
   "execution_count": null,
   "id": "7571db01",
   "metadata": {
    "ExecuteTime": {
     "end_time": "2021-08-13T10:54:59.477791Z",
     "start_time": "2021-08-13T10:54:59.431788Z"
    },
    "hidden": true
   },
   "outputs": [],
   "source": [
    "produtosDuplicados = productInformation.loc[productInformation['PRODUCT_NAME'].duplicated() == True]"
   ]
  },
  {
   "cell_type": "code",
   "execution_count": null,
   "id": "3070c6de",
   "metadata": {
    "ExecuteTime": {
     "end_time": "2021-08-13T10:54:59.493793Z",
     "start_time": "2021-08-13T10:54:59.480796Z"
    },
    "hidden": true
   },
   "outputs": [],
   "source": [
    "lista = []"
   ]
  },
  {
   "cell_type": "code",
   "execution_count": null,
   "id": "aa8ac956",
   "metadata": {
    "ExecuteTime": {
     "end_time": "2021-08-13T10:54:59.557799Z",
     "start_time": "2021-08-13T10:54:59.495794Z"
    },
    "hidden": true
   },
   "outputs": [],
   "source": [
    "for i, v in enumerate(produtosDuplicados['PRODUCT_NAME']):\n",
    "    lista.append(productInformation.loc[productInformation['PRODUCT_NAME'] == v].values)"
   ]
  },
  {
   "cell_type": "code",
   "execution_count": null,
   "id": "d384c4e3",
   "metadata": {
    "ExecuteTime": {
     "end_time": "2021-08-13T10:54:59.573800Z",
     "start_time": "2021-08-13T10:54:59.559799Z"
    },
    "hidden": true
   },
   "outputs": [],
   "source": [
    "df = pd.DataFrame(lista[0], columns = ['PRODUCT_COD','PRODUCT_NAME','PRODUCT_VAL','DEP_NAME', 'DEP_COD','SECTION_NAME','SECTION_COD'])"
   ]
  },
  {
   "cell_type": "code",
   "execution_count": null,
   "id": "76bcb0b1",
   "metadata": {
    "ExecuteTime": {
     "end_time": "2021-08-13T10:54:59.829822Z",
     "start_time": "2021-08-13T10:54:59.575804Z"
    },
    "hidden": true
   },
   "outputs": [],
   "source": [
    "for i, v in enumerate(lista, start=1):\n",
    "    try:\n",
    "        contador = 0\n",
    "        \n",
    "        while True:\n",
    "            if contador == 2:\n",
    "                break\n",
    "            else:\n",
    "                df.loc[len(df)+1] = lista[i][contador]\n",
    "                contador += 1\n",
    "    except:\n",
    "        print('Finalizado')"
   ]
  },
  {
   "cell_type": "code",
   "execution_count": null,
   "id": "5f93a307",
   "metadata": {
    "ExecuteTime": {
     "end_time": "2021-08-13T10:54:59.861828Z",
     "start_time": "2021-08-13T10:54:59.831822Z"
    },
    "hidden": true
   },
   "outputs": [],
   "source": [
    "df['DOUBLE'] = df['PRODUCT_NAME'].duplicated()\n",
    "print(df.shape)\n",
    "df.head(50)"
   ]
  },
  {
   "cell_type": "markdown",
   "id": "edcb56e9",
   "metadata": {
    "heading_collapsed": true
   },
   "source": [
    "### <strong>Quais são os 10 produtos mais caros da empresa?</strong>"
   ]
  },
  {
   "cell_type": "markdown",
   "id": "db59a436",
   "metadata": {
    "hidden": true
   },
   "source": [
    " > R: Os 10 produtos mais caros da empresa estão listados na tabela abaixo\n"
   ]
  },
  {
   "cell_type": "code",
   "execution_count": null,
   "id": "520f2403",
   "metadata": {
    "ExecuteTime": {
     "end_time": "2021-08-13T10:54:59.877827Z",
     "start_time": "2021-08-13T10:54:59.863827Z"
    },
    "hidden": true
   },
   "outputs": [],
   "source": [
    "print('Esses são os 10 produtos mais caros da empresa: ')\n",
    "info_produto = productInformation[['PRODUCT_NAME', 'PRODUCT_VAL']].sort_values('PRODUCT_VAL', ascending=False).head(10)\n",
    "info_produto = info_produto.rename(columns={'PRODUCT_NAME':'NOME DO PRODUTO','PRODUCT_VAL':'VALOR DO PRODUTO'})\n",
    "info_produto"
   ]
  },
  {
   "cell_type": "markdown",
   "id": "4ee32fe3",
   "metadata": {
    "heading_collapsed": true
   },
   "source": [
    "### <strong>Quais são as seções dos departamentos 'BEBIDAS' e 'PADARIA'?</strong>"
   ]
  },
  {
   "cell_type": "code",
   "execution_count": null,
   "id": "b72a4a2f",
   "metadata": {
    "ExecuteTime": {
     "end_time": "2021-08-13T10:54:59.893828Z",
     "start_time": "2021-08-13T10:54:59.879828Z"
    },
    "hidden": true
   },
   "outputs": [],
   "source": [
    "productInformation.head()"
   ]
  },
  {
   "cell_type": "code",
   "execution_count": null,
   "id": "624bc17f",
   "metadata": {
    "ExecuteTime": {
     "end_time": "2021-08-13T10:54:59.909829Z",
     "start_time": "2021-08-13T10:54:59.896829Z"
    },
    "hidden": true
   },
   "outputs": [],
   "source": [
    "departamentoPadaria = productInformation.loc[productInformation['DEP_NAME'] == 'PADARIA']\n",
    "departamentoBebidas = productInformation.loc[productInformation['DEP_NAME'] == 'BEBIDAS']\n",
    "\n",
    "print('Essas são as seções do \\ndepartamento de padaria: ',pd.unique(departamentoPadaria['SECTION_NAME']))\n",
    "print('\\nEssas são as seções do \\ndepartamento de bebidas: ',pd.unique(departamentoBebidas['SECTION_NAME']))"
   ]
  },
  {
   "cell_type": "markdown",
   "id": "14f4bec3",
   "metadata": {
    "heading_collapsed": true
   },
   "source": [
    "### <strong>Qual loja vendeu <span class=\"girk\"><span class=\"mark\">mais</span></span> produtos em um dia? Qual dia?</strong>"
   ]
  },
  {
   "cell_type": "markdown",
   "id": "b727c899",
   "metadata": {
    "ExecuteTime": {
     "end_time": "2021-08-11T20:24:17.652111Z",
     "start_time": "2021-08-11T20:24:16.997068Z"
    },
    "hidden": true
   },
   "source": [
    " > R: A empresa de código <strong>2</strong> foi a que mais vendeu no dia <strong>03-07-2019</strong>, um total de <strong>24332</strong> produtos.\n",
    " "
   ]
  },
  {
   "cell_type": "code",
   "execution_count": null,
   "id": "b64c9433",
   "metadata": {
    "ExecuteTime": {
     "end_time": "2021-08-13T10:54:59.925832Z",
     "start_time": "2021-08-13T10:54:59.911832Z"
    },
    "hidden": true
   },
   "outputs": [],
   "source": [
    "dataStoreSales.head()"
   ]
  },
  {
   "cell_type": "code",
   "execution_count": null,
   "id": "31271e44",
   "metadata": {
    "ExecuteTime": {
     "end_time": "2021-08-13T10:54:59.941832Z",
     "start_time": "2021-08-13T10:54:59.927831Z"
    },
    "hidden": true
   },
   "outputs": [],
   "source": [
    "dataStoreSales.loc[dataStoreSales['SALES_QTY'] == dataStoreSales['SALES_QTY'].max()]"
   ]
  },
  {
   "cell_type": "markdown",
   "id": "10db24a8",
   "metadata": {},
   "source": [
    "### <strong><span class=\"girk\">Bônus</span>!! Qual foi a venda total de produtos (em $) de cada área de negócio no primeiro trimestre de 2019?</strong>"
   ]
  },
  {
   "cell_type": "code",
   "execution_count": null,
   "id": "d42a5575",
   "metadata": {
    "ExecuteTime": {
     "end_time": "2021-08-13T10:54:59.957832Z",
     "start_time": "2021-08-13T10:54:59.942832Z"
    }
   },
   "outputs": [],
   "source": [
    "dataStoreSales.head(1)"
   ]
  },
  {
   "cell_type": "code",
   "execution_count": null,
   "id": "5a769c0e",
   "metadata": {
    "ExecuteTime": {
     "end_time": "2021-08-13T10:54:59.989835Z",
     "start_time": "2021-08-13T10:54:59.959836Z"
    }
   },
   "outputs": [],
   "source": [
    "dataStoreSales['DATE'] = pd.to_datetime(dataStoreSales['DATE'])\n",
    "dataStoreSales.head(1)"
   ]
  },
  {
   "cell_type": "code",
   "execution_count": null,
   "id": "504dc978",
   "metadata": {
    "ExecuteTime": {
     "end_time": "2021-08-13T10:55:00.005837Z",
     "start_time": "2021-08-13T10:54:59.991844Z"
    }
   },
   "outputs": [],
   "source": [
    "dataStoreSales.info()"
   ]
  },
  {
   "cell_type": "code",
   "execution_count": null,
   "id": "6fa4b424",
   "metadata": {
    "ExecuteTime": {
     "end_time": "2021-08-13T10:55:00.036839Z",
     "start_time": "2021-08-13T10:55:00.008844Z"
    }
   },
   "outputs": [],
   "source": [
    "dataStoreSales['TRIMESTRE'] = dataStoreSales['DATE'].dt.quarter\n",
    "dataStoreSales.head(2)"
   ]
  },
  {
   "cell_type": "code",
   "execution_count": null,
   "id": "8bf327b1",
   "metadata": {
    "ExecuteTime": {
     "end_time": "2021-08-13T10:55:00.052840Z",
     "start_time": "2021-08-13T10:55:00.041841Z"
    }
   },
   "outputs": [],
   "source": [
    "ano2019 = dataStoreSales.loc[(dataStoreSales['DATE'].dt.year == 2019) & (dataStoreSales['TRIMESTRE'] == 1)]"
   ]
  },
  {
   "cell_type": "code",
   "execution_count": null,
   "id": "a15ea287",
   "metadata": {
    "ExecuteTime": {
     "end_time": "2021-08-13T10:55:00.068843Z",
     "start_time": "2021-08-13T10:55:00.055841Z"
    }
   },
   "outputs": [],
   "source": [
    "ano2019.head(2)"
   ]
  },
  {
   "cell_type": "code",
   "execution_count": null,
   "id": "eded3de6",
   "metadata": {
    "ExecuteTime": {
     "end_time": "2021-08-13T10:55:00.084845Z",
     "start_time": "2021-08-13T10:55:00.070844Z"
    }
   },
   "outputs": [],
   "source": [
    "totalPrimeiroTrimestre = ano2019[['STORE_CODE', 'SALES_VALUE']].groupby('STORE_CODE').sum().reset_index()\n",
    "totalPrimeiroTrimestre.head()"
   ]
  },
  {
   "cell_type": "code",
   "execution_count": null,
   "id": "fd00b28a",
   "metadata": {
    "ExecuteTime": {
     "end_time": "2021-08-13T10:55:00.100846Z",
     "start_time": "2021-08-13T10:55:00.086847Z"
    }
   },
   "outputs": [],
   "source": [
    "dataStoretInfo.head(1)"
   ]
  },
  {
   "cell_type": "code",
   "execution_count": null,
   "id": "51361a18",
   "metadata": {
    "ExecuteTime": {
     "end_time": "2021-08-13T10:55:00.115847Z",
     "start_time": "2021-08-13T10:55:00.103848Z"
    }
   },
   "outputs": [],
   "source": [
    "totalPrimeiroTrimestre['BUSINESS_NAME'] = dataStoretInfo['BUSINESS_NAME']\n",
    "totalPrimeiroTrimestre.head()"
   ]
  },
  {
   "cell_type": "code",
   "execution_count": null,
   "id": "37a4ee0a",
   "metadata": {
    "ExecuteTime": {
     "end_time": "2021-08-13T10:55:00.131849Z",
     "start_time": "2021-08-13T10:55:00.117847Z"
    }
   },
   "outputs": [],
   "source": [
    "totalPorArea = totalPrimeiroTrimestre[['BUSINESS_NAME', 'SALES_VALUE']].groupby('BUSINESS_NAME').sum().reset_index()"
   ]
  },
  {
   "cell_type": "code",
   "execution_count": null,
   "id": "54fe2211-2e26-45ac-bba0-37a81333cf4f",
   "metadata": {
    "ExecuteTime": {
     "end_time": "2021-08-13T10:55:00.147848Z",
     "start_time": "2021-08-13T10:55:00.133850Z"
    }
   },
   "outputs": [],
   "source": [
    "totalPorArea = totalPorArea.rename(columns = {'BUSINESS_NAME': 'ÁREA RESPONSÁVEL', \n",
    "                                              'SALES_VALUE': 'VALOR TOTAL DE VENDAS'}) "
   ]
  },
  {
   "cell_type": "code",
   "execution_count": null,
   "id": "5985a220",
   "metadata": {
    "ExecuteTime": {
     "end_time": "2021-08-13T10:55:00.163852Z",
     "start_time": "2021-08-13T10:55:00.149851Z"
    }
   },
   "outputs": [],
   "source": [
    "totalPorArea.info()"
   ]
  },
  {
   "cell_type": "code",
   "execution_count": null,
   "id": "7b9b1b50",
   "metadata": {
    "ExecuteTime": {
     "end_time": "2021-08-13T10:55:20.396565Z",
     "start_time": "2021-08-13T10:55:00.165853Z"
    }
   },
   "outputs": [],
   "source": [
    "import plotly.express as px\n",
    "fig = px.bar(totalPorArea, \n",
    "             x='ÁREA RESPONSÁVEL', \n",
    "             y='VALOR TOTAL DE VENDAS', \n",
    "             title=\"Vendas 1° Trismestre de 2019\",\n",
    "             color=totalPorArea['ÁREA RESPONSÁVEL'],\n",
    "             height=600, \n",
    "             width=900\n",
    "            )\n",
    "fig.show()"
   ]
  },
  {
   "cell_type": "markdown",
   "id": "18b1d1fd",
   "metadata": {
    "ExecuteTime": {
     "end_time": "2021-08-13T11:05:22.834710Z",
     "start_time": "2021-08-13T11:05:22.818698Z"
    }
   },
   "source": [
    "<img src=\"_img/vendasprimTri2019.svg\" alt=\"rafaelandradeslv\" />"
   ]
  },
  {
   "cell_type": "code",
   "execution_count": 51,
   "id": "fa33cd30",
   "metadata": {
    "ExecuteTime": {
     "end_time": "2021-08-13T11:05:17.061178Z",
     "start_time": "2021-08-13T11:05:17.044171Z"
    }
   },
   "outputs": [],
   "source": [
    "# import plotly.io as pio\n",
    "\n",
    "# pio.write_html(fig, file='_img/vendasprimTri2019.html')\n",
    "# pio.write_image(fig, file='_img/vendasprimTri2019.svg')\n"
   ]
  },
  {
   "cell_type": "markdown",
   "id": "08fd2569",
   "metadata": {
    "ExecuteTime": {
     "end_time": "2021-08-11T21:09:26.591931Z",
     "start_time": "2021-08-11T21:09:26.536934Z"
    }
   },
   "source": [
    "# Construindo visualizaçõ IMDB_movies"
   ]
  },
  {
   "cell_type": "markdown",
   "id": "e342b0a7",
   "metadata": {
    "heading_collapsed": true
   },
   "source": [
    "## Análise"
   ]
  },
  {
   "cell_type": "code",
   "execution_count": null,
   "id": "6898a8fc",
   "metadata": {
    "ExecuteTime": {
     "end_time": "2021-08-13T10:55:20.444570Z",
     "start_time": "2021-08-13T10:55:20.414569Z"
    },
    "hidden": true
   },
   "outputs": [],
   "source": [
    "data = IMDB_movies\n",
    "data.head()"
   ]
  },
  {
   "cell_type": "code",
   "execution_count": null,
   "id": "e77c703a",
   "metadata": {
    "ExecuteTime": {
     "end_time": "2021-08-13T10:55:20.460571Z",
     "start_time": "2021-08-13T10:55:20.447575Z"
    },
    "hidden": true
   },
   "outputs": [],
   "source": [
    "data.info()"
   ]
  },
  {
   "cell_type": "code",
   "execution_count": null,
   "id": "a258ac44",
   "metadata": {
    "ExecuteTime": {
     "end_time": "2021-08-13T10:55:20.476574Z",
     "start_time": "2021-08-13T10:55:20.462578Z"
    },
    "hidden": true
   },
   "outputs": [],
   "source": [
    "# colunas com valores nulos\n",
    "data.isnull().sum()"
   ]
  },
  {
   "cell_type": "code",
   "execution_count": null,
   "id": "af6e127e",
   "metadata": {
    "ExecuteTime": {
     "end_time": "2021-08-13T10:55:20.524576Z",
     "start_time": "2021-08-13T10:55:20.478573Z"
    },
    "hidden": true
   },
   "outputs": [],
   "source": [
    "# valores duplicados ? \n",
    "data.duplicated().sum()"
   ]
  },
  {
   "cell_type": "markdown",
   "id": "ec57267c",
   "metadata": {
    "ExecuteTime": {
     "end_time": "2021-08-11T21:26:04.662890Z",
     "start_time": "2021-08-11T21:26:04.648891Z"
    },
    "heading_collapsed": true
   },
   "source": [
    "## Filmes a partir de 2016"
   ]
  },
  {
   "cell_type": "code",
   "execution_count": null,
   "id": "b4d3fc4e",
   "metadata": {
    "ExecuteTime": {
     "end_time": "2021-08-13T10:55:20.540579Z",
     "start_time": "2021-08-13T10:55:20.526578Z"
    },
    "hidden": true
   },
   "outputs": [],
   "source": [
    "print(f\"Ano mais recente: {data['year'].max()}\")\n",
    "print(f\"Ano mais antigo: {data['year'].min()}\")"
   ]
  },
  {
   "cell_type": "markdown",
   "id": "59c17eac",
   "metadata": {
    "hidden": true
   },
   "source": [
    "Filtrando apenas o ano de 2016"
   ]
  },
  {
   "cell_type": "code",
   "execution_count": null,
   "id": "3a371335",
   "metadata": {
    "ExecuteTime": {
     "end_time": "2021-08-13T10:55:20.556579Z",
     "start_time": "2021-08-13T10:55:20.542580Z"
    },
    "hidden": true
   },
   "outputs": [],
   "source": [
    "data2016 = data.loc[data['year'] == 2016]\n",
    "data2016.shape"
   ]
  },
  {
   "cell_type": "code",
   "execution_count": null,
   "id": "edca6fcb",
   "metadata": {
    "ExecuteTime": {
     "end_time": "2021-08-13T10:55:20.572580Z",
     "start_time": "2021-08-13T10:55:20.558580Z"
    },
    "hidden": true
   },
   "outputs": [],
   "source": [
    "# 5 filmes mais votados de 2016\n",
    "filmesMaisVotados = data2016[['title','votes']].sort_values('votes', ascending=False).head()\n",
    "primeiroGrafico = filmesMaisVotados\n",
    "primeiroGrafico = primeiroGrafico.sort_values('votes')"
   ]
  },
  {
   "cell_type": "code",
   "execution_count": null,
   "id": "64905943",
   "metadata": {
    "ExecuteTime": {
     "end_time": "2021-08-13T10:55:20.603583Z",
     "start_time": "2021-08-13T10:55:20.574582Z"
    },
    "hidden": true
   },
   "outputs": [],
   "source": [
    "df = data[['director','rating']].groupby('director').mean().reset_index().sort_values('rating', ascending=False)\n",
    "df.loc[df['rating'] == 9]"
   ]
  },
  {
   "cell_type": "code",
   "execution_count": null,
   "id": "7c7f5c82",
   "metadata": {
    "ExecuteTime": {
     "end_time": "2021-08-13T10:55:20.619585Z",
     "start_time": "2021-08-13T10:55:20.605584Z"
    },
    "hidden": true
   },
   "outputs": [],
   "source": [
    "# O diretor que mais publicou filmes\n",
    "data[['title','director']].groupby('director').count().reset_index().sort_values('title',ascending=False).head()"
   ]
  },
  {
   "cell_type": "code",
   "execution_count": null,
   "id": "93148874",
   "metadata": {
    "ExecuteTime": {
     "end_time": "2021-08-13T10:55:20.635586Z",
     "start_time": "2021-08-13T10:55:20.621586Z"
    },
    "hidden": true
   },
   "outputs": [],
   "source": [
    "# O diretor com filmes mais votados\n",
    "data[['director','title','votes','rating','year']].sort_values('votes',ascending=False).head()"
   ]
  },
  {
   "cell_type": "code",
   "execution_count": null,
   "id": "d57937f2",
   "metadata": {
    "ExecuteTime": {
     "end_time": "2021-08-13T10:55:20.667589Z",
     "start_time": "2021-08-13T10:55:20.636587Z"
    },
    "hidden": true
   },
   "outputs": [],
   "source": [
    "# Comparando o histórico de votos do diretor que mais publicou filmes com mais votado \n",
    "df1 = data[['director','title','votes','rating','year','genre']].loc[data['director'] == 'Christopher Nolan']\n",
    "df2 = data[['director','title','votes','rating','year','genre']].loc[data['director'] == 'Ridley Scott'] \n",
    "segundoGrafico = pd.concat([df1,df2])\n",
    "segundoGrafico"
   ]
  },
  {
   "cell_type": "markdown",
   "id": "21b038c6",
   "metadata": {},
   "source": [
    "## Gráficos"
   ]
  },
  {
   "cell_type": "markdown",
   "id": "8d270537",
   "metadata": {
    "ExecuteTime": {
     "end_time": "2021-08-12T06:46:51.255328Z",
     "start_time": "2021-08-12T06:46:51.242340Z"
    }
   },
   "source": [
    "#### Gráfico 1 : Porque escolhi esse gráfico : \n",
    "\n",
    "> Queria saber qual foi o filme mais votado. <br>Se fosse uma competição, o filme Deadpool ganharia disparado com pouco mais de 600 mil votos."
   ]
  },
  {
   "cell_type": "markdown",
   "id": "4056ab77",
   "metadata": {},
   "source": [
    "<img src=\"_img/vendasprimTri2019.svg\" alt=\"rafaelandradeslv\" />"
   ]
  },
  {
   "cell_type": "code",
   "execution_count": null,
   "id": "8e297c3b",
   "metadata": {
    "ExecuteTime": {
     "end_time": "2021-08-13T10:55:21.082624Z",
     "start_time": "2021-08-13T10:55:20.672592Z"
    },
    "scrolled": true
   },
   "outputs": [],
   "source": [
    "import plotly.express as px\n",
    "\n",
    "fig = px.bar(primeiroGrafico.sort_values('votes'), x='votes',y='title',\n",
    "             orientation='h', \n",
    "             title='Os 5 Filmes Mais Votados de 2016',\n",
    "             color=[1,2,3,4,5], \n",
    "             height=600, \n",
    "             width=900)\n",
    "fig.show()"
   ]
  },
  {
   "cell_type": "code",
   "execution_count": null,
   "id": "ad69ec75",
   "metadata": {
    "ExecuteTime": {
     "end_time": "2021-08-13T10:55:21.098625Z",
     "start_time": "2021-08-13T10:55:21.084627Z"
    }
   },
   "outputs": [],
   "source": [
    "# import plotly.io as pio\n",
    "\n",
    "# pio.write_html(fig, file='_img/Os 5 Filmes Mais Votados de 2016.html')\n",
    "# pio.write_image(fig, file='_img/Os 5 Filmes Mais Votados de 2016.svg')\n"
   ]
  },
  {
   "cell_type": "markdown",
   "id": "ee64d695",
   "metadata": {},
   "source": [
    "#### Gráfico 2 : Porque escolhi esse gráfico : \n",
    ">Queria visualizar qual foi o diretor que mais publicou filmes e se isso garantia uma boa avaliação e votos ao longo do tempo.<br>\n",
    ">A partir dessa visualização, vejo que mesmo o diretor Ridley Scott tenha publicado mais filmes ao longo dos anos, não alcançou um número de votos e de avaliações consideráveis quando comparado com o diretor Christopher Nolan"
   ]
  },
  {
   "cell_type": "code",
   "execution_count": null,
   "id": "0f60888b",
   "metadata": {
    "ExecuteTime": {
     "end_time": "2021-08-13T10:55:21.385649Z",
     "start_time": "2021-08-13T10:55:21.101629Z"
    }
   },
   "outputs": [],
   "source": [
    "import plotly.express as px\n",
    "df = px.data.tips()\n",
    "fig = px.bar(segundoGrafico, x=\"year\", y=\"votes\",\n",
    "             title='Diretor Mais Votado x Diretor Com Mais Filmes',\n",
    "             color='director',hover_data=[\"rating\", \"title\"],\n",
    "             height=600, \n",
    "             width=900)\n",
    "fig.show()"
   ]
  },
  {
   "cell_type": "code",
   "execution_count": null,
   "id": "6dc23057-f9a3-4b2b-a303-698555386447",
   "metadata": {
    "ExecuteTime": {
     "end_time": "2021-08-13T10:55:21.401652Z",
     "start_time": "2021-08-13T10:55:21.388652Z"
    }
   },
   "outputs": [],
   "source": [
    "# import plotly.io as pio\n",
    "\n",
    "# pio.write_html(fig, file='_img/Diretor Mais Votado x Diretor Com Mais Filmes.html')\n",
    "# pio.write_image(fig, file='_img/Diretor Mais Votado x Diretor Com Mais Filmes.svg')\n"
   ]
  },
  {
   "cell_type": "markdown",
   "id": "6c839866",
   "metadata": {},
   "source": [
    "# Considerações da última revisão :\n",
    ">Salvei os gráficos de visualização deste notebook na pasta \"_img\" para garantir que consigam visualizar as imagens.<br>As imagens de extensão .html, devem apresentar informações hover, enquanto as svg não irão apresentar esta informação."
   ]
  },
  {
   "cell_type": "markdown",
   "id": "f288b659",
   "metadata": {
    "ExecuteTime": {
     "end_time": "2021-08-13T11:00:57.483798Z",
     "start_time": "2021-08-13T11:00:57.466785Z"
    }
   },
   "source": []
  },
  {
   "cell_type": "markdown",
   "id": "00cba60d",
   "metadata": {},
   "source": [
    "<a href=\"_img/vendasprimTri2019.html\">\n",
    "    <img alt=\"Issues\" src=\"_img/vendasprimTri2019.html\" />\n",
    "</a>"
   ]
  },
  {
   "cell_type": "code",
   "execution_count": null,
   "id": "957b62de",
   "metadata": {},
   "outputs": [],
   "source": []
  }
 ],
 "metadata": {
  "kernelspec": {
   "display_name": "Python 3",
   "language": "python",
   "name": "python3"
  },
  "language_info": {
   "codemirror_mode": {
    "name": "ipython",
    "version": 3
   },
   "file_extension": ".py",
   "mimetype": "text/x-python",
   "name": "python",
   "nbconvert_exporter": "python",
   "pygments_lexer": "ipython3",
   "version": "3.8.10"
  },
  "toc": {
   "base_numbering": 1,
   "nav_menu": {},
   "number_sections": true,
   "sideBar": true,
   "skip_h1_title": false,
   "title_cell": "Table of Contents",
   "title_sidebar": "Contents",
   "toc_cell": false,
   "toc_position": {
    "height": "calc(100% - 180px)",
    "left": "10px",
    "top": "150px",
    "width": "165px"
   },
   "toc_section_display": true,
   "toc_window_display": true
  },
  "varInspector": {
   "cols": {
    "lenName": 16,
    "lenType": 16,
    "lenVar": 40
   },
   "kernels_config": {
    "python": {
     "delete_cmd_postfix": "",
     "delete_cmd_prefix": "del ",
     "library": "var_list.py",
     "varRefreshCmd": "print(var_dic_list())"
    },
    "r": {
     "delete_cmd_postfix": ") ",
     "delete_cmd_prefix": "rm(",
     "library": "var_list.r",
     "varRefreshCmd": "cat(var_dic_list()) "
    }
   },
   "types_to_exclude": [
    "module",
    "function",
    "builtin_function_or_method",
    "instance",
    "_Feature"
   ],
   "window_display": false
  }
 },
 "nbformat": 4,
 "nbformat_minor": 5
}
