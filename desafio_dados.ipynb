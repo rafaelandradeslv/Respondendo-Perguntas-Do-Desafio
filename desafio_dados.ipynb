{
 "cells": [
  {
   "cell_type": "markdown",
   "id": "78105c2d",
   "metadata": {},
   "source": [
    "# Inicio Processo"
   ]
  },
  {
   "cell_type": "markdown",
   "id": "83d84227",
   "metadata": {},
   "source": [
    "### Libs"
   ]
  },
  {
   "cell_type": "code",
   "execution_count": 1,
   "id": "519adb18",
   "metadata": {
    "ExecuteTime": {
     "end_time": "2021-08-12T12:02:27.214669Z",
     "start_time": "2021-08-12T12:02:26.672644Z"
    }
   },
   "outputs": [],
   "source": [
    "import pandas as pd\n",
    "import numpy as np"
   ]
  },
  {
   "cell_type": "markdown",
   "id": "4105e270",
   "metadata": {
    "code_folding": []
   },
   "source": [
    "# Importando dadaos & VIsualização de Tabelas"
   ]
  },
  {
   "cell_type": "markdown",
   "id": "f44071b6",
   "metadata": {
    "ExecuteTime": {
     "end_time": "2021-08-08T19:47:25.776021Z",
     "start_time": "2021-08-08T19:47:25.758016Z"
    }
   },
   "source": [
    "### Datasets"
   ]
  },
  {
   "cell_type": "code",
   "execution_count": 2,
   "id": "1fc9ffa4",
   "metadata": {
    "ExecuteTime": {
     "end_time": "2021-08-12T12:02:28.397763Z",
     "start_time": "2021-08-12T12:02:27.216671Z"
    }
   },
   "outputs": [],
   "source": [
    "dataStoretInfo = pd.read_csv('docs_csv/data_store_info.csv')\n",
    "dataStoreSales = pd.read_csv('docs_csv/data_store_sales.csv')\n",
    "dataProductSales = pd.read_csv('docs_csv/data_product_sales.csv')\n",
    "productInformation = pd.read_csv('docs_csv/data_product_info.csv')\n",
    "IMDB_movies = pd.read_csv('docs_csv/IMDB_movies.csv')"
   ]
  },
  {
   "cell_type": "markdown",
   "id": "4f0402bb",
   "metadata": {
    "heading_collapsed": true
   },
   "source": [
    "### Visualizando dados"
   ]
  },
  {
   "cell_type": "code",
   "execution_count": 3,
   "id": "61024912",
   "metadata": {
    "ExecuteTime": {
     "end_time": "2021-08-12T12:02:28.429767Z",
     "start_time": "2021-08-12T12:02:28.399766Z"
    },
    "hidden": true
   },
   "outputs": [
    {
     "name": "stdout",
     "output_type": "stream",
     "text": [
      "Quantidade de itens: (20, 6)\n",
      "\n",
      "    STORE_CODE STORE_NAME  START_DATE  END_DATA BUSINESS_NAME  BUSINESS_CODE\n",
      "0           1  Sao Paulo  2006-10-01       NaN        Varejo              1\n",
      "1           2    Chicago  2007-10-01       NaN        Varejo              1\n",
      "2           3       Roma  2008-10-01       NaN        Varejo              1\n",
      "3           4      Tokio  2009-10-01       NaN        Varejo              1\n",
      "4           5      Paris  2019-01-01       NaN   Proximidade              2\n",
      "\n",
      "_______________INFORMAÇÕES_______________\n",
      "<class 'pandas.core.frame.DataFrame'>\n",
      "RangeIndex: 20 entries, 0 to 19\n",
      "Data columns (total 6 columns):\n",
      " #   Column         Non-Null Count  Dtype  \n",
      "---  ------         --------------  -----  \n",
      " 0   STORE_CODE     20 non-null     int64  \n",
      " 1   STORE_NAME     20 non-null     object \n",
      " 2   START_DATE     20 non-null     object \n",
      " 3   END_DATA       0 non-null      float64\n",
      " 4   BUSINESS_NAME  20 non-null     object \n",
      " 5   BUSINESS_CODE  20 non-null     int64  \n",
      "dtypes: float64(1), int64(2), object(3)\n",
      "memory usage: 1.1+ KB\n",
      "None\n",
      "\n",
      "_______________VALORES NULOS_______________\n",
      "STORE_CODE        0\n",
      "STORE_NAME        0\n",
      "START_DATE        0\n",
      "END_DATA         20\n",
      "BUSINESS_NAME     0\n",
      "BUSINESS_CODE     0\n",
      "dtype: int64\n"
     ]
    }
   ],
   "source": [
    "print(f'Quantidade de itens: {dataStoretInfo.shape}')\n",
    "print('\\n', dataStoretInfo.head())\n",
    "print('\\n_______________INFORMAÇÕES_______________')\n",
    "print(dataStoretInfo.info())\n",
    "print('\\n_______________VALORES NULOS_______________')\n",
    "print(dataStoretInfo.isnull().sum())"
   ]
  },
  {
   "cell_type": "code",
   "execution_count": 4,
   "id": "7a1cdaeb",
   "metadata": {
    "ExecuteTime": {
     "end_time": "2021-08-12T12:02:28.557777Z",
     "start_time": "2021-08-12T12:02:28.431771Z"
    },
    "hidden": true
   },
   "outputs": [
    {
     "name": "stdout",
     "output_type": "stream",
     "text": [
      "Quantidade de itens: (2173133, 5)\n",
      "\n",
      "_______________INFORMAÇÕES_______________\n",
      "<class 'pandas.core.frame.DataFrame'>\n",
      "RangeIndex: 2173133 entries, 0 to 2173132\n",
      "Data columns (total 5 columns):\n",
      " #   Column        Dtype  \n",
      "---  ------        -----  \n",
      " 0   STORE_CODE    int64  \n",
      " 1   PRODUCT_CODE  int64  \n",
      " 2   DATE          object \n",
      " 3   SALES_VALUE   float64\n",
      " 4   SALES_QTY     int64  \n",
      "dtypes: float64(1), int64(3), object(1)\n",
      "memory usage: 82.9+ MB\n",
      "None\n",
      "\n",
      "_______________VALORES NULOS_______________\n",
      "STORE_CODE      0\n",
      "PRODUCT_CODE    0\n",
      "DATE            0\n",
      "SALES_VALUE     0\n",
      "SALES_QTY       0\n",
      "dtype: int64\n"
     ]
    },
    {
     "data": {
      "text/html": [
       "<div>\n",
       "<style scoped>\n",
       "    .dataframe tbody tr th:only-of-type {\n",
       "        vertical-align: middle;\n",
       "    }\n",
       "\n",
       "    .dataframe tbody tr th {\n",
       "        vertical-align: top;\n",
       "    }\n",
       "\n",
       "    .dataframe thead th {\n",
       "        text-align: right;\n",
       "    }\n",
       "</style>\n",
       "<table border=\"1\" class=\"dataframe\">\n",
       "  <thead>\n",
       "    <tr style=\"text-align: right;\">\n",
       "      <th></th>\n",
       "      <th>STORE_CODE</th>\n",
       "      <th>PRODUCT_CODE</th>\n",
       "      <th>DATE</th>\n",
       "      <th>SALES_VALUE</th>\n",
       "      <th>SALES_QTY</th>\n",
       "    </tr>\n",
       "  </thead>\n",
       "  <tbody>\n",
       "    <tr>\n",
       "      <th>0</th>\n",
       "      <td>1</td>\n",
       "      <td>18</td>\n",
       "      <td>2019-01-01</td>\n",
       "      <td>708.5</td>\n",
       "      <td>65</td>\n",
       "    </tr>\n",
       "    <tr>\n",
       "      <th>1</th>\n",
       "      <td>1</td>\n",
       "      <td>18</td>\n",
       "      <td>2019-01-02</td>\n",
       "      <td>1297.1</td>\n",
       "      <td>119</td>\n",
       "    </tr>\n",
       "    <tr>\n",
       "      <th>2</th>\n",
       "      <td>1</td>\n",
       "      <td>18</td>\n",
       "      <td>2019-01-03</td>\n",
       "      <td>1144.5</td>\n",
       "      <td>105</td>\n",
       "    </tr>\n",
       "    <tr>\n",
       "      <th>3</th>\n",
       "      <td>1</td>\n",
       "      <td>18</td>\n",
       "      <td>2019-01-04</td>\n",
       "      <td>1090.0</td>\n",
       "      <td>100</td>\n",
       "    </tr>\n",
       "    <tr>\n",
       "      <th>4</th>\n",
       "      <td>1</td>\n",
       "      <td>18</td>\n",
       "      <td>2019-01-05</td>\n",
       "      <td>893.8</td>\n",
       "      <td>82</td>\n",
       "    </tr>\n",
       "  </tbody>\n",
       "</table>\n",
       "</div>"
      ],
      "text/plain": [
       "   STORE_CODE  PRODUCT_CODE        DATE  SALES_VALUE  SALES_QTY\n",
       "0           1            18  2019-01-01        708.5         65\n",
       "1           1            18  2019-01-02       1297.1        119\n",
       "2           1            18  2019-01-03       1144.5        105\n",
       "3           1            18  2019-01-04       1090.0        100\n",
       "4           1            18  2019-01-05        893.8         82"
      ]
     },
     "execution_count": 4,
     "metadata": {},
     "output_type": "execute_result"
    }
   ],
   "source": [
    "print(f'Quantidade de itens: {dataProductSales.shape}')\n",
    "print('\\n_______________INFORMAÇÕES_______________')\n",
    "print(dataProductSales.info())\n",
    "print('\\n_______________VALORES NULOS_______________')\n",
    "print(dataProductSales.isnull().sum())\n",
    "dataProductSales.head()"
   ]
  },
  {
   "cell_type": "code",
   "execution_count": 5,
   "id": "c59984e2",
   "metadata": {
    "ExecuteTime": {
     "end_time": "2021-08-12T12:02:28.669787Z",
     "start_time": "2021-08-12T12:02:28.558779Z"
    },
    "hidden": true
   },
   "outputs": [
    {
     "name": "stdout",
     "output_type": "stream",
     "text": [
      "Quantidade de itens: (35762, 4)\n",
      "\n",
      "_______________INFORMAÇÕES_______________\n",
      "<class 'pandas.core.frame.DataFrame'>\n",
      "RangeIndex: 35762 entries, 0 to 35761\n",
      "Data columns (total 4 columns):\n",
      " #   Column       Non-Null Count  Dtype  \n",
      "---  ------       --------------  -----  \n",
      " 0   STORE_CODE   35762 non-null  int64  \n",
      " 1   DATE         35762 non-null  object \n",
      " 2   SALES_VALUE  35762 non-null  float64\n",
      " 3   SALES_QTY    35762 non-null  int64  \n",
      "dtypes: float64(1), int64(2), object(1)\n",
      "memory usage: 1.1+ MB\n",
      "None\n",
      "\n",
      "_______________VALORES NULOS_______________\n",
      "STORE_CODE      0\n",
      "PRODUCT_CODE    0\n",
      "DATE            0\n",
      "SALES_VALUE     0\n",
      "SALES_QTY       0\n",
      "dtype: int64\n"
     ]
    },
    {
     "data": {
      "text/html": [
       "<div>\n",
       "<style scoped>\n",
       "    .dataframe tbody tr th:only-of-type {\n",
       "        vertical-align: middle;\n",
       "    }\n",
       "\n",
       "    .dataframe tbody tr th {\n",
       "        vertical-align: top;\n",
       "    }\n",
       "\n",
       "    .dataframe thead th {\n",
       "        text-align: right;\n",
       "    }\n",
       "</style>\n",
       "<table border=\"1\" class=\"dataframe\">\n",
       "  <thead>\n",
       "    <tr style=\"text-align: right;\">\n",
       "      <th></th>\n",
       "      <th>STORE_CODE</th>\n",
       "      <th>DATE</th>\n",
       "      <th>SALES_VALUE</th>\n",
       "      <th>SALES_QTY</th>\n",
       "    </tr>\n",
       "  </thead>\n",
       "  <tbody>\n",
       "    <tr>\n",
       "      <th>0</th>\n",
       "      <td>1</td>\n",
       "      <td>2014-11-23</td>\n",
       "      <td>111387.87</td>\n",
       "      <td>7227</td>\n",
       "    </tr>\n",
       "    <tr>\n",
       "      <th>1</th>\n",
       "      <td>10</td>\n",
       "      <td>2014-11-23</td>\n",
       "      <td>63256.35</td>\n",
       "      <td>4362</td>\n",
       "    </tr>\n",
       "    <tr>\n",
       "      <th>2</th>\n",
       "      <td>11</td>\n",
       "      <td>2014-11-23</td>\n",
       "      <td>62680.86</td>\n",
       "      <td>4257</td>\n",
       "    </tr>\n",
       "    <tr>\n",
       "      <th>3</th>\n",
       "      <td>12</td>\n",
       "      <td>2014-11-23</td>\n",
       "      <td>62680.86</td>\n",
       "      <td>4257</td>\n",
       "    </tr>\n",
       "    <tr>\n",
       "      <th>4</th>\n",
       "      <td>13</td>\n",
       "      <td>2014-11-23</td>\n",
       "      <td>111387.87</td>\n",
       "      <td>7227</td>\n",
       "    </tr>\n",
       "  </tbody>\n",
       "</table>\n",
       "</div>"
      ],
      "text/plain": [
       "   STORE_CODE        DATE  SALES_VALUE  SALES_QTY\n",
       "0           1  2014-11-23    111387.87       7227\n",
       "1          10  2014-11-23     63256.35       4362\n",
       "2          11  2014-11-23     62680.86       4257\n",
       "3          12  2014-11-23     62680.86       4257\n",
       "4          13  2014-11-23    111387.87       7227"
      ]
     },
     "execution_count": 5,
     "metadata": {},
     "output_type": "execute_result"
    }
   ],
   "source": [
    "print(f'Quantidade de itens: {dataStoreSales.shape}')\n",
    "print('\\n_______________INFORMAÇÕES_______________')\n",
    "print(dataStoreSales.info())\n",
    "print('\\n_______________VALORES NULOS_______________')\n",
    "print(dataProductSales.isnull().sum())\n",
    "dataStoreSales.head()"
   ]
  },
  {
   "cell_type": "code",
   "execution_count": 6,
   "id": "b0519f1f",
   "metadata": {
    "ExecuteTime": {
     "end_time": "2021-08-12T12:02:28.701788Z",
     "start_time": "2021-08-12T12:02:28.671789Z"
    },
    "hidden": true
   },
   "outputs": [
    {
     "name": "stdout",
     "output_type": "stream",
     "text": [
      "Quantidade de itens: (9994, 7)\n",
      "\n",
      "_______________INFORMAÇÕES_______________\n",
      "<class 'pandas.core.frame.DataFrame'>\n",
      "RangeIndex: 9994 entries, 0 to 9993\n",
      "Data columns (total 7 columns):\n",
      " #   Column        Non-Null Count  Dtype  \n",
      "---  ------        --------------  -----  \n",
      " 0   PRODUCT_COD   9994 non-null   int64  \n",
      " 1   PRODUCT_NAME  9994 non-null   object \n",
      " 2   PRODUCT_VAL   9994 non-null   float64\n",
      " 3   DEP_NAME      9994 non-null   object \n",
      " 4   DEP_COD       9994 non-null   int64  \n",
      " 5   SECTION_NAME  9994 non-null   object \n",
      " 6   SECTION_COD   9994 non-null   int64  \n",
      "dtypes: float64(1), int64(3), object(3)\n",
      "memory usage: 546.7+ KB\n",
      "None\n",
      "\n",
      "_______________VALORES NULOS_______________\n",
      "PRODUCT_COD     0\n",
      "PRODUCT_NAME    0\n",
      "PRODUCT_VAL     0\n",
      "DEP_NAME        0\n",
      "DEP_COD         0\n",
      "SECTION_NAME    0\n",
      "SECTION_COD     0\n",
      "dtype: int64\n"
     ]
    },
    {
     "data": {
      "text/html": [
       "<div>\n",
       "<style scoped>\n",
       "    .dataframe tbody tr th:only-of-type {\n",
       "        vertical-align: middle;\n",
       "    }\n",
       "\n",
       "    .dataframe tbody tr th {\n",
       "        vertical-align: top;\n",
       "    }\n",
       "\n",
       "    .dataframe thead th {\n",
       "        text-align: right;\n",
       "    }\n",
       "</style>\n",
       "<table border=\"1\" class=\"dataframe\">\n",
       "  <thead>\n",
       "    <tr style=\"text-align: right;\">\n",
       "      <th></th>\n",
       "      <th>PRODUCT_COD</th>\n",
       "      <th>PRODUCT_NAME</th>\n",
       "      <th>PRODUCT_VAL</th>\n",
       "      <th>DEP_NAME</th>\n",
       "      <th>DEP_COD</th>\n",
       "      <th>SECTION_NAME</th>\n",
       "      <th>SECTION_COD</th>\n",
       "    </tr>\n",
       "  </thead>\n",
       "  <tbody>\n",
       "    <tr>\n",
       "      <th>0</th>\n",
       "      <td>10</td>\n",
       "      <td>Acido Tranexamico 250mg Generico EMS 12 Compri...</td>\n",
       "      <td>36.71</td>\n",
       "      <td>MEDICAMENTOS GENÉRICOS</td>\n",
       "      <td>10</td>\n",
       "      <td>CIRCULAÇÃO</td>\n",
       "      <td>40</td>\n",
       "    </tr>\n",
       "    <tr>\n",
       "      <th>1</th>\n",
       "      <td>11</td>\n",
       "      <td>Bissulfato de Clopidogrel 75mg Generico Teuto ...</td>\n",
       "      <td>66.51</td>\n",
       "      <td>MEDICAMENTOS GENÉRICOS</td>\n",
       "      <td>10</td>\n",
       "      <td>CIRCULAÇÃO</td>\n",
       "      <td>40</td>\n",
       "    </tr>\n",
       "    <tr>\n",
       "      <th>2</th>\n",
       "      <td>12</td>\n",
       "      <td>Cloridrato de Amiodarona 200mg Generico Biosin...</td>\n",
       "      <td>31.17</td>\n",
       "      <td>MEDICAMENTOS GENÉRICOS</td>\n",
       "      <td>10</td>\n",
       "      <td>CIRCULAÇÃO</td>\n",
       "      <td>40</td>\n",
       "    </tr>\n",
       "    <tr>\n",
       "      <th>3</th>\n",
       "      <td>13</td>\n",
       "      <td>Acido Tranexâmico 250mg Generico Legrand 12 Co...</td>\n",
       "      <td>36.71</td>\n",
       "      <td>MEDICAMENTOS GENÉRICOS</td>\n",
       "      <td>10</td>\n",
       "      <td>CIRCULAÇÃO</td>\n",
       "      <td>40</td>\n",
       "    </tr>\n",
       "    <tr>\n",
       "      <th>4</th>\n",
       "      <td>14</td>\n",
       "      <td>Cloridrato Oximetazolina Adulto 5mg/ml Genéric...</td>\n",
       "      <td>12.08</td>\n",
       "      <td>MEDICAMENTOS GENÉRICOS</td>\n",
       "      <td>10</td>\n",
       "      <td>GRIPES E RESFRIADOS</td>\n",
       "      <td>41</td>\n",
       "    </tr>\n",
       "  </tbody>\n",
       "</table>\n",
       "</div>"
      ],
      "text/plain": [
       "   PRODUCT_COD                                       PRODUCT_NAME  \\\n",
       "0           10  Acido Tranexamico 250mg Generico EMS 12 Compri...   \n",
       "1           11  Bissulfato de Clopidogrel 75mg Generico Teuto ...   \n",
       "2           12  Cloridrato de Amiodarona 200mg Generico Biosin...   \n",
       "3           13  Acido Tranexâmico 250mg Generico Legrand 12 Co...   \n",
       "4           14  Cloridrato Oximetazolina Adulto 5mg/ml Genéric...   \n",
       "\n",
       "   PRODUCT_VAL                DEP_NAME  DEP_COD         SECTION_NAME  \\\n",
       "0        36.71  MEDICAMENTOS GENÉRICOS       10           CIRCULAÇÃO   \n",
       "1        66.51  MEDICAMENTOS GENÉRICOS       10           CIRCULAÇÃO   \n",
       "2        31.17  MEDICAMENTOS GENÉRICOS       10           CIRCULAÇÃO   \n",
       "3        36.71  MEDICAMENTOS GENÉRICOS       10           CIRCULAÇÃO   \n",
       "4        12.08  MEDICAMENTOS GENÉRICOS       10  GRIPES E RESFRIADOS   \n",
       "\n",
       "   SECTION_COD  \n",
       "0           40  \n",
       "1           40  \n",
       "2           40  \n",
       "3           40  \n",
       "4           41  "
      ]
     },
     "execution_count": 6,
     "metadata": {},
     "output_type": "execute_result"
    }
   ],
   "source": [
    "print(f'Quantidade de itens: {productInformation.shape}')\n",
    "print('\\n_______________INFORMAÇÕES_______________')\n",
    "print(productInformation.info())\n",
    "print('\\n_______________VALORES NULOS_______________')\n",
    "print(productInformation.isnull().sum())\n",
    "productInformation.head()"
   ]
  },
  {
   "cell_type": "markdown",
   "id": "6c7bc4d6",
   "metadata": {},
   "source": [
    "# Perguntas"
   ]
  },
  {
   "cell_type": "markdown",
   "id": "39419602",
   "metadata": {
    "ExecuteTime": {
     "end_time": "2021-08-08T09:10:35.714865Z",
     "start_time": "2021-08-08T09:10:35.701856Z"
    },
    "heading_collapsed": true
   },
   "source": [
    "### <strong>Quantos produtos a empresa possui? </strong>"
   ]
  },
  {
   "cell_type": "markdown",
   "id": "848e453e",
   "metadata": {
    "hidden": true
   },
   "source": [
    " > R: A empresa possui <strong>9962</strong> produtos\n",
    " \n",
    " <span class=\"mark\">Observação</span> : Existem produtos com nomes duplicados, a diferença está apenas no código do produto e outros no preço.\n",
    "    Se essa diferença não for significante, afirmo que existem <strong>9962</strong> produtos cadastrados, caso contrário considere um total de <strong>9994</strong> produtos.<br>Abaixo deixo o dataset apenas com os itens duplicados para averiguar."
   ]
  },
  {
   "cell_type": "markdown",
   "id": "d75982f5",
   "metadata": {
    "ExecuteTime": {
     "end_time": "2021-08-11T15:29:57.592673Z",
     "start_time": "2021-08-11T15:29:57.582686Z"
    },
    "heading_collapsed": true,
    "hidden": true
   },
   "source": [
    "#### linhas de código - pergunta 1"
   ]
  },
  {
   "cell_type": "code",
   "execution_count": 7,
   "id": "7acea519",
   "metadata": {
    "ExecuteTime": {
     "end_time": "2021-08-12T12:02:28.733795Z",
     "start_time": "2021-08-12T12:02:28.703788Z"
    },
    "hidden": true
   },
   "outputs": [
    {
     "name": "stdout",
     "output_type": "stream",
     "text": [
      "Quantidade de produtos:  9962\n"
     ]
    }
   ],
   "source": [
    "print(f\"Quantidade de produtos: \",len(pd.unique(productInformation['PRODUCT_NAME'])))"
   ]
  },
  {
   "cell_type": "code",
   "execution_count": 8,
   "id": "a761e89d",
   "metadata": {
    "ExecuteTime": {
     "end_time": "2021-08-12T12:02:28.749792Z",
     "start_time": "2021-08-12T12:02:28.737792Z"
    },
    "hidden": true
   },
   "outputs": [
    {
     "name": "stdout",
     "output_type": "stream",
     "text": [
      "Valores Nulos:  0\n",
      "Produtos com nomes duplicados:  32\n"
     ]
    }
   ],
   "source": [
    "print(f\"Valores Nulos: \", productInformation['PRODUCT_NAME'].isnull().sum())\n",
    "print(f\"Produtos com nomes duplicados: \", productInformation['PRODUCT_NAME'].duplicated().sum())"
   ]
  },
  {
   "cell_type": "code",
   "execution_count": 9,
   "id": "7571db01",
   "metadata": {
    "ExecuteTime": {
     "end_time": "2021-08-12T12:02:28.781794Z",
     "start_time": "2021-08-12T12:02:28.752792Z"
    },
    "hidden": true
   },
   "outputs": [],
   "source": [
    "produtosDuplicados = productInformation.loc[productInformation['PRODUCT_NAME'].duplicated() == True]"
   ]
  },
  {
   "cell_type": "code",
   "execution_count": 10,
   "id": "3070c6de",
   "metadata": {
    "ExecuteTime": {
     "end_time": "2021-08-12T12:02:28.797796Z",
     "start_time": "2021-08-12T12:02:28.783795Z"
    },
    "hidden": true
   },
   "outputs": [],
   "source": [
    "lista = []"
   ]
  },
  {
   "cell_type": "code",
   "execution_count": 11,
   "id": "aa8ac956",
   "metadata": {
    "ExecuteTime": {
     "end_time": "2021-08-12T12:02:28.861801Z",
     "start_time": "2021-08-12T12:02:28.799799Z"
    },
    "hidden": true
   },
   "outputs": [],
   "source": [
    "for i, v in enumerate(produtosDuplicados['PRODUCT_NAME']):\n",
    "    lista.append(productInformation.loc[productInformation['PRODUCT_NAME'] == v].values)"
   ]
  },
  {
   "cell_type": "code",
   "execution_count": 12,
   "id": "d384c4e3",
   "metadata": {
    "ExecuteTime": {
     "end_time": "2021-08-12T12:02:28.877802Z",
     "start_time": "2021-08-12T12:02:28.863803Z"
    },
    "hidden": true
   },
   "outputs": [],
   "source": [
    "df = pd.DataFrame(lista[0], columns = ['PRODUCT_COD','PRODUCT_NAME','PRODUCT_VAL','DEP_NAME', 'DEP_COD','SECTION_NAME','SECTION_COD'])"
   ]
  },
  {
   "cell_type": "code",
   "execution_count": 13,
   "id": "76bcb0b1",
   "metadata": {
    "ExecuteTime": {
     "end_time": "2021-08-12T12:02:29.164827Z",
     "start_time": "2021-08-12T12:02:28.878803Z"
    },
    "hidden": true
   },
   "outputs": [
    {
     "name": "stdout",
     "output_type": "stream",
     "text": [
      "Finalizado\n"
     ]
    }
   ],
   "source": [
    "for i, v in enumerate(lista, start=1):\n",
    "    try:\n",
    "        contador = 0\n",
    "        \n",
    "        while True:\n",
    "            if contador == 2:\n",
    "                break\n",
    "            else:\n",
    "                df.loc[len(df)+1] = lista[i][contador]\n",
    "                contador += 1\n",
    "    except:\n",
    "        print('Finalizado')"
   ]
  },
  {
   "cell_type": "code",
   "execution_count": 14,
   "id": "5f93a307",
   "metadata": {
    "ExecuteTime": {
     "end_time": "2021-08-12T12:02:29.196830Z",
     "start_time": "2021-08-12T12:02:29.166827Z"
    },
    "hidden": true
   },
   "outputs": [
    {
     "name": "stdout",
     "output_type": "stream",
     "text": [
      "(64, 8)\n"
     ]
    },
    {
     "data": {
      "text/html": [
       "<div>\n",
       "<style scoped>\n",
       "    .dataframe tbody tr th:only-of-type {\n",
       "        vertical-align: middle;\n",
       "    }\n",
       "\n",
       "    .dataframe tbody tr th {\n",
       "        vertical-align: top;\n",
       "    }\n",
       "\n",
       "    .dataframe thead th {\n",
       "        text-align: right;\n",
       "    }\n",
       "</style>\n",
       "<table border=\"1\" class=\"dataframe\">\n",
       "  <thead>\n",
       "    <tr style=\"text-align: right;\">\n",
       "      <th></th>\n",
       "      <th>PRODUCT_COD</th>\n",
       "      <th>PRODUCT_NAME</th>\n",
       "      <th>PRODUCT_VAL</th>\n",
       "      <th>DEP_NAME</th>\n",
       "      <th>DEP_COD</th>\n",
       "      <th>SECTION_NAME</th>\n",
       "      <th>SECTION_COD</th>\n",
       "      <th>DOUBLE</th>\n",
       "    </tr>\n",
       "  </thead>\n",
       "  <tbody>\n",
       "    <tr>\n",
       "      <th>0</th>\n",
       "      <td>12508</td>\n",
       "      <td>Absorvente INTIMUS GEL Tripla Protecao sem Aba...</td>\n",
       "      <td>3.59</td>\n",
       "      <td>PERFUMARIA</td>\n",
       "      <td>8</td>\n",
       "      <td>PERFUMARIA</td>\n",
       "      <td>20</td>\n",
       "      <td>False</td>\n",
       "    </tr>\n",
       "    <tr>\n",
       "      <th>1</th>\n",
       "      <td>13369</td>\n",
       "      <td>Absorvente INTIMUS GEL Tripla Protecao sem Aba...</td>\n",
       "      <td>3.59</td>\n",
       "      <td>PERFUMARIA</td>\n",
       "      <td>8</td>\n",
       "      <td>PERFUMARIA</td>\n",
       "      <td>20</td>\n",
       "      <td>True</td>\n",
       "    </tr>\n",
       "    <tr>\n",
       "      <th>3</th>\n",
       "      <td>12619</td>\n",
       "      <td>Queijo Gouda SERRABELLA Pedaco 200g</td>\n",
       "      <td>16.94</td>\n",
       "      <td>MERCEARIA</td>\n",
       "      <td>6</td>\n",
       "      <td>MATINAIS</td>\n",
       "      <td>15</td>\n",
       "      <td>False</td>\n",
       "    </tr>\n",
       "    <tr>\n",
       "      <th>4</th>\n",
       "      <td>15787</td>\n",
       "      <td>Queijo Gouda SERRABELLA Pedaco 200g</td>\n",
       "      <td>19.06</td>\n",
       "      <td>MERCEARIA</td>\n",
       "      <td>6</td>\n",
       "      <td>MATINAIS</td>\n",
       "      <td>15</td>\n",
       "      <td>True</td>\n",
       "    </tr>\n",
       "    <tr>\n",
       "      <th>5</th>\n",
       "      <td>38218</td>\n",
       "      <td>Cereal Integral a Base de Aveia CROQUI Origina...</td>\n",
       "      <td>9.99</td>\n",
       "      <td>MERCEARIA</td>\n",
       "      <td>6</td>\n",
       "      <td>MATINAIS</td>\n",
       "      <td>15</td>\n",
       "      <td>False</td>\n",
       "    </tr>\n",
       "    <tr>\n",
       "      <th>6</th>\n",
       "      <td>38515</td>\n",
       "      <td>Cereal Integral a Base de Aveia CROQUI Origina...</td>\n",
       "      <td>10.5</td>\n",
       "      <td>MERCEARIA</td>\n",
       "      <td>6</td>\n",
       "      <td>MATINAIS</td>\n",
       "      <td>15</td>\n",
       "      <td>True</td>\n",
       "    </tr>\n",
       "    <tr>\n",
       "      <th>7</th>\n",
       "      <td>22330</td>\n",
       "      <td>Lustra Moveis Lavanda BRAVO Johnsons Frasco 500ml</td>\n",
       "      <td>9.55</td>\n",
       "      <td>MERCEARIA</td>\n",
       "      <td>6</td>\n",
       "      <td>LIMPEZA</td>\n",
       "      <td>12</td>\n",
       "      <td>False</td>\n",
       "    </tr>\n",
       "    <tr>\n",
       "      <th>8</th>\n",
       "      <td>50160</td>\n",
       "      <td>Lustra Moveis Lavanda BRAVO Johnsons Frasco 500ml</td>\n",
       "      <td>8.19</td>\n",
       "      <td>MERCEARIA</td>\n",
       "      <td>6</td>\n",
       "      <td>LIMPEZA</td>\n",
       "      <td>12</td>\n",
       "      <td>True</td>\n",
       "    </tr>\n",
       "    <tr>\n",
       "      <th>9</th>\n",
       "      <td>99550</td>\n",
       "      <td>Abacaxi Hawai Super Unidade</td>\n",
       "      <td>7.69</td>\n",
       "      <td>FLV</td>\n",
       "      <td>4</td>\n",
       "      <td>FEIRA</td>\n",
       "      <td>10</td>\n",
       "      <td>False</td>\n",
       "    </tr>\n",
       "    <tr>\n",
       "      <th>10</th>\n",
       "      <td>136399</td>\n",
       "      <td>Abacaxi Hawai Super Unidade</td>\n",
       "      <td>5.59</td>\n",
       "      <td>FLV</td>\n",
       "      <td>4</td>\n",
       "      <td>FEIRA</td>\n",
       "      <td>10</td>\n",
       "      <td>True</td>\n",
       "    </tr>\n",
       "    <tr>\n",
       "      <th>11</th>\n",
       "      <td>51912</td>\n",
       "      <td>Aparelho de Barbear GILLETTE Prestobarba Ultra...</td>\n",
       "      <td>8.99</td>\n",
       "      <td>PERFUMARIA</td>\n",
       "      <td>8</td>\n",
       "      <td>PERFUMARIA</td>\n",
       "      <td>20</td>\n",
       "      <td>False</td>\n",
       "    </tr>\n",
       "    <tr>\n",
       "      <th>12</th>\n",
       "      <td>137888</td>\n",
       "      <td>Aparelho de Barbear GILLETTE Prestobarba Ultra...</td>\n",
       "      <td>8.99</td>\n",
       "      <td>PERFUMARIA</td>\n",
       "      <td>8</td>\n",
       "      <td>PERFUMARIA</td>\n",
       "      <td>20</td>\n",
       "      <td>True</td>\n",
       "    </tr>\n",
       "    <tr>\n",
       "      <th>13</th>\n",
       "      <td>277222</td>\n",
       "      <td>Desodorante Roll On NIVEA Stress Protect 50ml</td>\n",
       "      <td>7.09</td>\n",
       "      <td>PERFUMARIA</td>\n",
       "      <td>8</td>\n",
       "      <td>DESODORANTES</td>\n",
       "      <td>37</td>\n",
       "      <td>False</td>\n",
       "    </tr>\n",
       "    <tr>\n",
       "      <th>14</th>\n",
       "      <td>277223</td>\n",
       "      <td>Desodorante Roll On NIVEA Stress Protect 50ml</td>\n",
       "      <td>7.09</td>\n",
       "      <td>PERFUMARIA</td>\n",
       "      <td>8</td>\n",
       "      <td>DESODORANTES</td>\n",
       "      <td>37</td>\n",
       "      <td>True</td>\n",
       "    </tr>\n",
       "    <tr>\n",
       "      <th>15</th>\n",
       "      <td>278880</td>\n",
       "      <td>Creme Dental COLGATE Sensitive Pro-Alivio Bran...</td>\n",
       "      <td>11.65</td>\n",
       "      <td>PERFUMARIA</td>\n",
       "      <td>8</td>\n",
       "      <td>HIGIENE BUCAL</td>\n",
       "      <td>39</td>\n",
       "      <td>False</td>\n",
       "    </tr>\n",
       "    <tr>\n",
       "      <th>16</th>\n",
       "      <td>279177</td>\n",
       "      <td>Creme Dental COLGATE Sensitive Pro-Alivio Bran...</td>\n",
       "      <td>11.65</td>\n",
       "      <td>PERFUMARIA</td>\n",
       "      <td>8</td>\n",
       "      <td>HIGIENE BUCAL</td>\n",
       "      <td>39</td>\n",
       "      <td>True</td>\n",
       "    </tr>\n",
       "    <tr>\n",
       "      <th>17</th>\n",
       "      <td>295368</td>\n",
       "      <td>Cachaca Brasilizar YPIOCA Ouro Garrafa 965ml</td>\n",
       "      <td>13.9</td>\n",
       "      <td>BEBIDAS</td>\n",
       "      <td>2</td>\n",
       "      <td>BEBIDAS</td>\n",
       "      <td>4</td>\n",
       "      <td>False</td>\n",
       "    </tr>\n",
       "    <tr>\n",
       "      <th>18</th>\n",
       "      <td>295369</td>\n",
       "      <td>Cachaca Brasilizar YPIOCA Ouro Garrafa 965ml</td>\n",
       "      <td>21.9</td>\n",
       "      <td>BEBIDAS</td>\n",
       "      <td>2</td>\n",
       "      <td>BEBIDAS</td>\n",
       "      <td>4</td>\n",
       "      <td>True</td>\n",
       "    </tr>\n",
       "    <tr>\n",
       "      <th>19</th>\n",
       "      <td>33025</td>\n",
       "      <td>Racao para Gatos Sabor Carne WHISKAS Pratos Fa...</td>\n",
       "      <td>1.65</td>\n",
       "      <td>PET-SHOP</td>\n",
       "      <td>9</td>\n",
       "      <td>RACAO</td>\n",
       "      <td>23</td>\n",
       "      <td>False</td>\n",
       "    </tr>\n",
       "    <tr>\n",
       "      <th>20</th>\n",
       "      <td>310989</td>\n",
       "      <td>Racao para Gatos Sabor Carne WHISKAS Pratos Fa...</td>\n",
       "      <td>1.65</td>\n",
       "      <td>PET-SHOP</td>\n",
       "      <td>9</td>\n",
       "      <td>RACAO</td>\n",
       "      <td>23</td>\n",
       "      <td>True</td>\n",
       "    </tr>\n",
       "    <tr>\n",
       "      <th>21</th>\n",
       "      <td>21730</td>\n",
       "      <td>Salsicha Hot Dog SEARA 500g</td>\n",
       "      <td>6.79</td>\n",
       "      <td>CARNES</td>\n",
       "      <td>3</td>\n",
       "      <td>CARNES</td>\n",
       "      <td>6</td>\n",
       "      <td>False</td>\n",
       "    </tr>\n",
       "    <tr>\n",
       "      <th>22</th>\n",
       "      <td>315838</td>\n",
       "      <td>Salsicha Hot Dog SEARA 500g</td>\n",
       "      <td>3.7</td>\n",
       "      <td>CARNES</td>\n",
       "      <td>3</td>\n",
       "      <td>CARNES</td>\n",
       "      <td>6</td>\n",
       "      <td>True</td>\n",
       "    </tr>\n",
       "    <tr>\n",
       "      <th>23</th>\n",
       "      <td>91384</td>\n",
       "      <td>Achocolatado Liquido TODDYNHO 200ml</td>\n",
       "      <td>1.59</td>\n",
       "      <td>BEBIDAS</td>\n",
       "      <td>2</td>\n",
       "      <td>BEBIDAS</td>\n",
       "      <td>4</td>\n",
       "      <td>False</td>\n",
       "    </tr>\n",
       "    <tr>\n",
       "      <th>24</th>\n",
       "      <td>319352</td>\n",
       "      <td>Achocolatado Liquido TODDYNHO 200ml</td>\n",
       "      <td>2.85</td>\n",
       "      <td>BEBIDAS</td>\n",
       "      <td>2</td>\n",
       "      <td>BEBIDAS</td>\n",
       "      <td>4</td>\n",
       "      <td>True</td>\n",
       "    </tr>\n",
       "    <tr>\n",
       "      <th>25</th>\n",
       "      <td>60253</td>\n",
       "      <td>Bala de Gelatina Tubinhos FINI Pacote 80g</td>\n",
       "      <td>4.09</td>\n",
       "      <td>PADARIA</td>\n",
       "      <td>7</td>\n",
       "      <td>DOCES-E-SOBREMESAS</td>\n",
       "      <td>8</td>\n",
       "      <td>False</td>\n",
       "    </tr>\n",
       "    <tr>\n",
       "      <th>26</th>\n",
       "      <td>324949</td>\n",
       "      <td>Bala de Gelatina Tubinhos FINI Pacote 80g</td>\n",
       "      <td>3.99</td>\n",
       "      <td>PADARIA</td>\n",
       "      <td>7</td>\n",
       "      <td>DOCES-E-SOBREMESAS</td>\n",
       "      <td>8</td>\n",
       "      <td>True</td>\n",
       "    </tr>\n",
       "    <tr>\n",
       "      <th>27</th>\n",
       "      <td>326534</td>\n",
       "      <td>Kit com 3 Caixas de Fraldas PAMPERS Premium Ca...</td>\n",
       "      <td>185.8</td>\n",
       "      <td>MERCEARIA</td>\n",
       "      <td>6</td>\n",
       "      <td>LIMPEZA</td>\n",
       "      <td>12</td>\n",
       "      <td>False</td>\n",
       "    </tr>\n",
       "    <tr>\n",
       "      <th>28</th>\n",
       "      <td>326560</td>\n",
       "      <td>Kit com 3 Caixas de Fraldas PAMPERS Premium Ca...</td>\n",
       "      <td>278.7</td>\n",
       "      <td>MERCEARIA</td>\n",
       "      <td>6</td>\n",
       "      <td>LIMPEZA</td>\n",
       "      <td>12</td>\n",
       "      <td>True</td>\n",
       "    </tr>\n",
       "    <tr>\n",
       "      <th>29</th>\n",
       "      <td>326655</td>\n",
       "      <td>Kit com 2 Fraldas HUGGIES Veste Facil Jumbo Gr...</td>\n",
       "      <td>43.5</td>\n",
       "      <td>BEBES</td>\n",
       "      <td>1</td>\n",
       "      <td>FRALDA</td>\n",
       "      <td>26</td>\n",
       "      <td>False</td>\n",
       "    </tr>\n",
       "    <tr>\n",
       "      <th>30</th>\n",
       "      <td>326718</td>\n",
       "      <td>Kit com 2 Fraldas HUGGIES Veste Facil Jumbo Gr...</td>\n",
       "      <td>43.5</td>\n",
       "      <td>BEBES</td>\n",
       "      <td>1</td>\n",
       "      <td>FRALDA</td>\n",
       "      <td>26</td>\n",
       "      <td>True</td>\n",
       "    </tr>\n",
       "    <tr>\n",
       "      <th>31</th>\n",
       "      <td>326711</td>\n",
       "      <td>Kit com 2 Fraldas TURMA DA MONICA Mega Extra G...</td>\n",
       "      <td>76.78</td>\n",
       "      <td>BEBES</td>\n",
       "      <td>1</td>\n",
       "      <td>FRALDA</td>\n",
       "      <td>26</td>\n",
       "      <td>False</td>\n",
       "    </tr>\n",
       "    <tr>\n",
       "      <th>32</th>\n",
       "      <td>326719</td>\n",
       "      <td>Kit com 2 Fraldas TURMA DA MONICA Mega Extra G...</td>\n",
       "      <td>76.78</td>\n",
       "      <td>BEBES</td>\n",
       "      <td>1</td>\n",
       "      <td>FRALDA</td>\n",
       "      <td>26</td>\n",
       "      <td>True</td>\n",
       "    </tr>\n",
       "    <tr>\n",
       "      <th>33</th>\n",
       "      <td>326713</td>\n",
       "      <td>Kit com 2 Fraldas HUGGIES Veste Facil Jumbo Ex...</td>\n",
       "      <td>43.5</td>\n",
       "      <td>BEBES</td>\n",
       "      <td>1</td>\n",
       "      <td>FRALDA</td>\n",
       "      <td>26</td>\n",
       "      <td>False</td>\n",
       "    </tr>\n",
       "    <tr>\n",
       "      <th>34</th>\n",
       "      <td>326720</td>\n",
       "      <td>Kit com 2 Fraldas HUGGIES Veste Facil Jumbo Ex...</td>\n",
       "      <td>43.5</td>\n",
       "      <td>BEBES</td>\n",
       "      <td>1</td>\n",
       "      <td>FRALDA</td>\n",
       "      <td>26</td>\n",
       "      <td>True</td>\n",
       "    </tr>\n",
       "    <tr>\n",
       "      <th>35</th>\n",
       "      <td>326730</td>\n",
       "      <td>Kit com 2 Fraldas TURMA DA MONICA Media Pacote...</td>\n",
       "      <td>60.98</td>\n",
       "      <td>BEBES</td>\n",
       "      <td>1</td>\n",
       "      <td>FRALDA</td>\n",
       "      <td>26</td>\n",
       "      <td>False</td>\n",
       "    </tr>\n",
       "    <tr>\n",
       "      <th>36</th>\n",
       "      <td>326732</td>\n",
       "      <td>Kit com 2 Fraldas TURMA DA MONICA Media Pacote...</td>\n",
       "      <td>60.98</td>\n",
       "      <td>BEBES</td>\n",
       "      <td>1</td>\n",
       "      <td>FRALDA</td>\n",
       "      <td>26</td>\n",
       "      <td>True</td>\n",
       "    </tr>\n",
       "    <tr>\n",
       "      <th>37</th>\n",
       "      <td>326712</td>\n",
       "      <td>Kit com 2 Fraldas TURMA DA MONICA Mega Media P...</td>\n",
       "      <td>76.78</td>\n",
       "      <td>BEBES</td>\n",
       "      <td>1</td>\n",
       "      <td>FRALDA</td>\n",
       "      <td>26</td>\n",
       "      <td>False</td>\n",
       "    </tr>\n",
       "    <tr>\n",
       "      <th>38</th>\n",
       "      <td>326733</td>\n",
       "      <td>Kit com 2 Fraldas TURMA DA MONICA Mega Media P...</td>\n",
       "      <td>76.78</td>\n",
       "      <td>BEBES</td>\n",
       "      <td>1</td>\n",
       "      <td>FRALDA</td>\n",
       "      <td>26</td>\n",
       "      <td>True</td>\n",
       "    </tr>\n",
       "    <tr>\n",
       "      <th>39</th>\n",
       "      <td>326731</td>\n",
       "      <td>Kit com 2 Fraldas TURMA DA MONICA Jumbo Grande...</td>\n",
       "      <td>60.98</td>\n",
       "      <td>BEBES</td>\n",
       "      <td>1</td>\n",
       "      <td>FRALDA</td>\n",
       "      <td>26</td>\n",
       "      <td>False</td>\n",
       "    </tr>\n",
       "    <tr>\n",
       "      <th>40</th>\n",
       "      <td>326734</td>\n",
       "      <td>Kit com 2 Fraldas TURMA DA MONICA Jumbo Grande...</td>\n",
       "      <td>60.98</td>\n",
       "      <td>BEBES</td>\n",
       "      <td>1</td>\n",
       "      <td>FRALDA</td>\n",
       "      <td>26</td>\n",
       "      <td>True</td>\n",
       "    </tr>\n",
       "    <tr>\n",
       "      <th>41</th>\n",
       "      <td>326715</td>\n",
       "      <td>Kit com 2 Fraldas TURMA DA MONICA Pequena Paco...</td>\n",
       "      <td>60.98</td>\n",
       "      <td>BEBES</td>\n",
       "      <td>1</td>\n",
       "      <td>FRALDA</td>\n",
       "      <td>26</td>\n",
       "      <td>False</td>\n",
       "    </tr>\n",
       "    <tr>\n",
       "      <th>42</th>\n",
       "      <td>326735</td>\n",
       "      <td>Kit com 2 Fraldas TURMA DA MONICA Pequena Paco...</td>\n",
       "      <td>60.98</td>\n",
       "      <td>BEBES</td>\n",
       "      <td>1</td>\n",
       "      <td>FRALDA</td>\n",
       "      <td>26</td>\n",
       "      <td>True</td>\n",
       "    </tr>\n",
       "    <tr>\n",
       "      <th>43</th>\n",
       "      <td>326716</td>\n",
       "      <td>Kit com 2 Fraldas TURMA DA MONICA Extra Grande...</td>\n",
       "      <td>60.98</td>\n",
       "      <td>BEBES</td>\n",
       "      <td>1</td>\n",
       "      <td>FRALDA</td>\n",
       "      <td>26</td>\n",
       "      <td>False</td>\n",
       "    </tr>\n",
       "    <tr>\n",
       "      <th>44</th>\n",
       "      <td>326736</td>\n",
       "      <td>Kit com 2 Fraldas TURMA DA MONICA Extra Grande...</td>\n",
       "      <td>60.98</td>\n",
       "      <td>BEBES</td>\n",
       "      <td>1</td>\n",
       "      <td>FRALDA</td>\n",
       "      <td>26</td>\n",
       "      <td>True</td>\n",
       "    </tr>\n",
       "    <tr>\n",
       "      <th>45</th>\n",
       "      <td>326717</td>\n",
       "      <td>Kit com 2 Fraldas TURMA DA MONICA Grande Pacot...</td>\n",
       "      <td>76.78</td>\n",
       "      <td>BEBES</td>\n",
       "      <td>1</td>\n",
       "      <td>FRALDA</td>\n",
       "      <td>26</td>\n",
       "      <td>False</td>\n",
       "    </tr>\n",
       "    <tr>\n",
       "      <th>46</th>\n",
       "      <td>326737</td>\n",
       "      <td>Kit com 2 Fraldas TURMA DA MONICA Grande Pacot...</td>\n",
       "      <td>76.78</td>\n",
       "      <td>BEBES</td>\n",
       "      <td>1</td>\n",
       "      <td>FRALDA</td>\n",
       "      <td>26</td>\n",
       "      <td>True</td>\n",
       "    </tr>\n",
       "    <tr>\n",
       "      <th>47</th>\n",
       "      <td>326721</td>\n",
       "      <td>Kit com 3 Fraldas TURMA DA MONICA Media Pacote...</td>\n",
       "      <td>91.47</td>\n",
       "      <td>BEBES</td>\n",
       "      <td>1</td>\n",
       "      <td>FRALDA</td>\n",
       "      <td>26</td>\n",
       "      <td>False</td>\n",
       "    </tr>\n",
       "    <tr>\n",
       "      <th>48</th>\n",
       "      <td>326739</td>\n",
       "      <td>Kit com 3 Fraldas TURMA DA MONICA Media Pacote...</td>\n",
       "      <td>91.47</td>\n",
       "      <td>BEBES</td>\n",
       "      <td>1</td>\n",
       "      <td>FRALDA</td>\n",
       "      <td>26</td>\n",
       "      <td>True</td>\n",
       "    </tr>\n",
       "    <tr>\n",
       "      <th>49</th>\n",
       "      <td>326740</td>\n",
       "      <td>Kit com 3 Fraldas TURMA DA MONICA Pequena Paco...</td>\n",
       "      <td>91.47</td>\n",
       "      <td>BEBES</td>\n",
       "      <td>1</td>\n",
       "      <td>FRALDA</td>\n",
       "      <td>26</td>\n",
       "      <td>False</td>\n",
       "    </tr>\n",
       "    <tr>\n",
       "      <th>50</th>\n",
       "      <td>326745</td>\n",
       "      <td>Kit com 3 Fraldas TURMA DA MONICA Pequena Paco...</td>\n",
       "      <td>91.47</td>\n",
       "      <td>BEBES</td>\n",
       "      <td>1</td>\n",
       "      <td>FRALDA</td>\n",
       "      <td>26</td>\n",
       "      <td>True</td>\n",
       "    </tr>\n",
       "  </tbody>\n",
       "</table>\n",
       "</div>"
      ],
      "text/plain": [
       "   PRODUCT_COD                                       PRODUCT_NAME PRODUCT_VAL  \\\n",
       "0        12508  Absorvente INTIMUS GEL Tripla Protecao sem Aba...        3.59   \n",
       "1        13369  Absorvente INTIMUS GEL Tripla Protecao sem Aba...        3.59   \n",
       "3        12619                Queijo Gouda SERRABELLA Pedaco 200g       16.94   \n",
       "4        15787                Queijo Gouda SERRABELLA Pedaco 200g       19.06   \n",
       "5        38218  Cereal Integral a Base de Aveia CROQUI Origina...        9.99   \n",
       "6        38515  Cereal Integral a Base de Aveia CROQUI Origina...        10.5   \n",
       "7        22330  Lustra Moveis Lavanda BRAVO Johnsons Frasco 500ml        9.55   \n",
       "8        50160  Lustra Moveis Lavanda BRAVO Johnsons Frasco 500ml        8.19   \n",
       "9        99550                        Abacaxi Hawai Super Unidade        7.69   \n",
       "10      136399                        Abacaxi Hawai Super Unidade        5.59   \n",
       "11       51912  Aparelho de Barbear GILLETTE Prestobarba Ultra...        8.99   \n",
       "12      137888  Aparelho de Barbear GILLETTE Prestobarba Ultra...        8.99   \n",
       "13      277222      Desodorante Roll On NIVEA Stress Protect 50ml        7.09   \n",
       "14      277223      Desodorante Roll On NIVEA Stress Protect 50ml        7.09   \n",
       "15      278880  Creme Dental COLGATE Sensitive Pro-Alivio Bran...       11.65   \n",
       "16      279177  Creme Dental COLGATE Sensitive Pro-Alivio Bran...       11.65   \n",
       "17      295368       Cachaca Brasilizar YPIOCA Ouro Garrafa 965ml        13.9   \n",
       "18      295369       Cachaca Brasilizar YPIOCA Ouro Garrafa 965ml        21.9   \n",
       "19       33025  Racao para Gatos Sabor Carne WHISKAS Pratos Fa...        1.65   \n",
       "20      310989  Racao para Gatos Sabor Carne WHISKAS Pratos Fa...        1.65   \n",
       "21       21730                        Salsicha Hot Dog SEARA 500g        6.79   \n",
       "22      315838                        Salsicha Hot Dog SEARA 500g         3.7   \n",
       "23       91384                Achocolatado Liquido TODDYNHO 200ml        1.59   \n",
       "24      319352                Achocolatado Liquido TODDYNHO 200ml        2.85   \n",
       "25       60253          Bala de Gelatina Tubinhos FINI Pacote 80g        4.09   \n",
       "26      324949          Bala de Gelatina Tubinhos FINI Pacote 80g        3.99   \n",
       "27      326534  Kit com 3 Caixas de Fraldas PAMPERS Premium Ca...       185.8   \n",
       "28      326560  Kit com 3 Caixas de Fraldas PAMPERS Premium Ca...       278.7   \n",
       "29      326655  Kit com 2 Fraldas HUGGIES Veste Facil Jumbo Gr...        43.5   \n",
       "30      326718  Kit com 2 Fraldas HUGGIES Veste Facil Jumbo Gr...        43.5   \n",
       "31      326711  Kit com 2 Fraldas TURMA DA MONICA Mega Extra G...       76.78   \n",
       "32      326719  Kit com 2 Fraldas TURMA DA MONICA Mega Extra G...       76.78   \n",
       "33      326713  Kit com 2 Fraldas HUGGIES Veste Facil Jumbo Ex...        43.5   \n",
       "34      326720  Kit com 2 Fraldas HUGGIES Veste Facil Jumbo Ex...        43.5   \n",
       "35      326730  Kit com 2 Fraldas TURMA DA MONICA Media Pacote...       60.98   \n",
       "36      326732  Kit com 2 Fraldas TURMA DA MONICA Media Pacote...       60.98   \n",
       "37      326712  Kit com 2 Fraldas TURMA DA MONICA Mega Media P...       76.78   \n",
       "38      326733  Kit com 2 Fraldas TURMA DA MONICA Mega Media P...       76.78   \n",
       "39      326731  Kit com 2 Fraldas TURMA DA MONICA Jumbo Grande...       60.98   \n",
       "40      326734  Kit com 2 Fraldas TURMA DA MONICA Jumbo Grande...       60.98   \n",
       "41      326715  Kit com 2 Fraldas TURMA DA MONICA Pequena Paco...       60.98   \n",
       "42      326735  Kit com 2 Fraldas TURMA DA MONICA Pequena Paco...       60.98   \n",
       "43      326716  Kit com 2 Fraldas TURMA DA MONICA Extra Grande...       60.98   \n",
       "44      326736  Kit com 2 Fraldas TURMA DA MONICA Extra Grande...       60.98   \n",
       "45      326717  Kit com 2 Fraldas TURMA DA MONICA Grande Pacot...       76.78   \n",
       "46      326737  Kit com 2 Fraldas TURMA DA MONICA Grande Pacot...       76.78   \n",
       "47      326721  Kit com 3 Fraldas TURMA DA MONICA Media Pacote...       91.47   \n",
       "48      326739  Kit com 3 Fraldas TURMA DA MONICA Media Pacote...       91.47   \n",
       "49      326740  Kit com 3 Fraldas TURMA DA MONICA Pequena Paco...       91.47   \n",
       "50      326745  Kit com 3 Fraldas TURMA DA MONICA Pequena Paco...       91.47   \n",
       "\n",
       "      DEP_NAME DEP_COD        SECTION_NAME SECTION_COD  DOUBLE  \n",
       "0   PERFUMARIA       8          PERFUMARIA          20   False  \n",
       "1   PERFUMARIA       8          PERFUMARIA          20    True  \n",
       "3    MERCEARIA       6            MATINAIS          15   False  \n",
       "4    MERCEARIA       6            MATINAIS          15    True  \n",
       "5    MERCEARIA       6            MATINAIS          15   False  \n",
       "6    MERCEARIA       6            MATINAIS          15    True  \n",
       "7    MERCEARIA       6             LIMPEZA          12   False  \n",
       "8    MERCEARIA       6             LIMPEZA          12    True  \n",
       "9          FLV       4               FEIRA          10   False  \n",
       "10         FLV       4               FEIRA          10    True  \n",
       "11  PERFUMARIA       8          PERFUMARIA          20   False  \n",
       "12  PERFUMARIA       8          PERFUMARIA          20    True  \n",
       "13  PERFUMARIA       8        DESODORANTES          37   False  \n",
       "14  PERFUMARIA       8        DESODORANTES          37    True  \n",
       "15  PERFUMARIA       8       HIGIENE BUCAL          39   False  \n",
       "16  PERFUMARIA       8       HIGIENE BUCAL          39    True  \n",
       "17     BEBIDAS       2             BEBIDAS           4   False  \n",
       "18     BEBIDAS       2             BEBIDAS           4    True  \n",
       "19    PET-SHOP       9               RACAO          23   False  \n",
       "20    PET-SHOP       9               RACAO          23    True  \n",
       "21      CARNES       3              CARNES           6   False  \n",
       "22      CARNES       3              CARNES           6    True  \n",
       "23     BEBIDAS       2             BEBIDAS           4   False  \n",
       "24     BEBIDAS       2             BEBIDAS           4    True  \n",
       "25     PADARIA       7  DOCES-E-SOBREMESAS           8   False  \n",
       "26     PADARIA       7  DOCES-E-SOBREMESAS           8    True  \n",
       "27   MERCEARIA       6             LIMPEZA          12   False  \n",
       "28   MERCEARIA       6             LIMPEZA          12    True  \n",
       "29       BEBES       1              FRALDA          26   False  \n",
       "30       BEBES       1              FRALDA          26    True  \n",
       "31       BEBES       1              FRALDA          26   False  \n",
       "32       BEBES       1              FRALDA          26    True  \n",
       "33       BEBES       1              FRALDA          26   False  \n",
       "34       BEBES       1              FRALDA          26    True  \n",
       "35       BEBES       1              FRALDA          26   False  \n",
       "36       BEBES       1              FRALDA          26    True  \n",
       "37       BEBES       1              FRALDA          26   False  \n",
       "38       BEBES       1              FRALDA          26    True  \n",
       "39       BEBES       1              FRALDA          26   False  \n",
       "40       BEBES       1              FRALDA          26    True  \n",
       "41       BEBES       1              FRALDA          26   False  \n",
       "42       BEBES       1              FRALDA          26    True  \n",
       "43       BEBES       1              FRALDA          26   False  \n",
       "44       BEBES       1              FRALDA          26    True  \n",
       "45       BEBES       1              FRALDA          26   False  \n",
       "46       BEBES       1              FRALDA          26    True  \n",
       "47       BEBES       1              FRALDA          26   False  \n",
       "48       BEBES       1              FRALDA          26    True  \n",
       "49       BEBES       1              FRALDA          26   False  \n",
       "50       BEBES       1              FRALDA          26    True  "
      ]
     },
     "execution_count": 14,
     "metadata": {},
     "output_type": "execute_result"
    }
   ],
   "source": [
    "df['DOUBLE'] = df['PRODUCT_NAME'].duplicated()\n",
    "print(df.shape)\n",
    "df.head(50)"
   ]
  },
  {
   "cell_type": "markdown",
   "id": "edcb56e9",
   "metadata": {
    "heading_collapsed": true
   },
   "source": [
    "### <strong>Quais são os 10 produtos mais caros da empresa?</strong>"
   ]
  },
  {
   "cell_type": "markdown",
   "id": "db59a436",
   "metadata": {
    "hidden": true
   },
   "source": [
    " > R: Os 10 produtos mais caros da empresa estão listados na tabela abaixo\n"
   ]
  },
  {
   "cell_type": "code",
   "execution_count": 15,
   "id": "520f2403",
   "metadata": {
    "ExecuteTime": {
     "end_time": "2021-08-12T12:02:29.228831Z",
     "start_time": "2021-08-12T12:02:29.198831Z"
    },
    "hidden": true
   },
   "outputs": [
    {
     "name": "stdout",
     "output_type": "stream",
     "text": [
      "Esses são os 10 produtos mais caros da empresa: \n"
     ]
    },
    {
     "data": {
      "text/html": [
       "<div>\n",
       "<style scoped>\n",
       "    .dataframe tbody tr th:only-of-type {\n",
       "        vertical-align: middle;\n",
       "    }\n",
       "\n",
       "    .dataframe tbody tr th {\n",
       "        vertical-align: top;\n",
       "    }\n",
       "\n",
       "    .dataframe thead th {\n",
       "        text-align: right;\n",
       "    }\n",
       "</style>\n",
       "<table border=\"1\" class=\"dataframe\">\n",
       "  <thead>\n",
       "    <tr style=\"text-align: right;\">\n",
       "      <th></th>\n",
       "      <th>NOME DO PRODUTO</th>\n",
       "      <th>VALOR DO PRODUTO</th>\n",
       "    </tr>\n",
       "  </thead>\n",
       "  <tbody>\n",
       "    <tr>\n",
       "      <th>7942</th>\n",
       "      <td>Whisky Escoces THE MACALLAN Ruby Garrafa 700ml...</td>\n",
       "      <td>741.99</td>\n",
       "    </tr>\n",
       "    <tr>\n",
       "      <th>5374</th>\n",
       "      <td>Whisky Escoces JOHNNIE WALKER Blue Label Garra...</td>\n",
       "      <td>735.90</td>\n",
       "    </tr>\n",
       "    <tr>\n",
       "      <th>9032</th>\n",
       "      <td>Cafeteira Expresso 3 CORACOES Tres Modo Vermelho</td>\n",
       "      <td>499.00</td>\n",
       "    </tr>\n",
       "    <tr>\n",
       "      <th>3057</th>\n",
       "      <td>Vinho Portugues Tinto Vintage QUINTA DO CRASTO...</td>\n",
       "      <td>445.90</td>\n",
       "    </tr>\n",
       "    <tr>\n",
       "      <th>9237</th>\n",
       "      <td>Escova Dental Eletrica ORAL B D34 Professional...</td>\n",
       "      <td>399.90</td>\n",
       "    </tr>\n",
       "    <tr>\n",
       "      <th>5677</th>\n",
       "      <td>Champagne Rose VEUVE CLICQUOT PONSARDIM Garraf...</td>\n",
       "      <td>366.90</td>\n",
       "    </tr>\n",
       "    <tr>\n",
       "      <th>4640</th>\n",
       "      <td>Champagne Frances Brut Imperial MOET Rose Garr...</td>\n",
       "      <td>359.90</td>\n",
       "    </tr>\n",
       "    <tr>\n",
       "      <th>8647</th>\n",
       "      <td>Conjunto de Panelas Allegra em Inox TRAMONTINA...</td>\n",
       "      <td>359.00</td>\n",
       "    </tr>\n",
       "    <tr>\n",
       "      <th>4449</th>\n",
       "      <td>Whisky Escoces CHIVAS REGAL 18 Anos Garrafa 750ml</td>\n",
       "      <td>329.90</td>\n",
       "    </tr>\n",
       "    <tr>\n",
       "      <th>4669</th>\n",
       "      <td>Champagne Frances Brut Imperial MOET &amp; CHANDON...</td>\n",
       "      <td>315.90</td>\n",
       "    </tr>\n",
       "  </tbody>\n",
       "</table>\n",
       "</div>"
      ],
      "text/plain": [
       "                                        NOME DO PRODUTO  VALOR DO PRODUTO\n",
       "7942  Whisky Escoces THE MACALLAN Ruby Garrafa 700ml...            741.99\n",
       "5374  Whisky Escoces JOHNNIE WALKER Blue Label Garra...            735.90\n",
       "9032   Cafeteira Expresso 3 CORACOES Tres Modo Vermelho            499.00\n",
       "3057  Vinho Portugues Tinto Vintage QUINTA DO CRASTO...            445.90\n",
       "9237  Escova Dental Eletrica ORAL B D34 Professional...            399.90\n",
       "5677  Champagne Rose VEUVE CLICQUOT PONSARDIM Garraf...            366.90\n",
       "4640  Champagne Frances Brut Imperial MOET Rose Garr...            359.90\n",
       "8647  Conjunto de Panelas Allegra em Inox TRAMONTINA...            359.00\n",
       "4449  Whisky Escoces CHIVAS REGAL 18 Anos Garrafa 750ml            329.90\n",
       "4669  Champagne Frances Brut Imperial MOET & CHANDON...            315.90"
      ]
     },
     "execution_count": 15,
     "metadata": {},
     "output_type": "execute_result"
    }
   ],
   "source": [
    "print('Esses são os 10 produtos mais caros da empresa: ')\n",
    "info_produto = productInformation[['PRODUCT_NAME', 'PRODUCT_VAL']].sort_values('PRODUCT_VAL', ascending=False).head(10)\n",
    "info_produto = info_produto.rename(columns={'PRODUCT_NAME':'NOME DO PRODUTO','PRODUCT_VAL':'VALOR DO PRODUTO'})\n",
    "info_produto"
   ]
  },
  {
   "cell_type": "markdown",
   "id": "4ee32fe3",
   "metadata": {
    "heading_collapsed": true
   },
   "source": [
    "### <strong>Quais são as seções dos departamentos 'BEBIDAS' e 'PADARIA'?</strong>"
   ]
  },
  {
   "cell_type": "code",
   "execution_count": 16,
   "id": "b72a4a2f",
   "metadata": {
    "ExecuteTime": {
     "end_time": "2021-08-12T12:02:29.244834Z",
     "start_time": "2021-08-12T12:02:29.230833Z"
    },
    "hidden": true
   },
   "outputs": [
    {
     "data": {
      "text/html": [
       "<div>\n",
       "<style scoped>\n",
       "    .dataframe tbody tr th:only-of-type {\n",
       "        vertical-align: middle;\n",
       "    }\n",
       "\n",
       "    .dataframe tbody tr th {\n",
       "        vertical-align: top;\n",
       "    }\n",
       "\n",
       "    .dataframe thead th {\n",
       "        text-align: right;\n",
       "    }\n",
       "</style>\n",
       "<table border=\"1\" class=\"dataframe\">\n",
       "  <thead>\n",
       "    <tr style=\"text-align: right;\">\n",
       "      <th></th>\n",
       "      <th>PRODUCT_COD</th>\n",
       "      <th>PRODUCT_NAME</th>\n",
       "      <th>PRODUCT_VAL</th>\n",
       "      <th>DEP_NAME</th>\n",
       "      <th>DEP_COD</th>\n",
       "      <th>SECTION_NAME</th>\n",
       "      <th>SECTION_COD</th>\n",
       "    </tr>\n",
       "  </thead>\n",
       "  <tbody>\n",
       "    <tr>\n",
       "      <th>0</th>\n",
       "      <td>10</td>\n",
       "      <td>Acido Tranexamico 250mg Generico EMS 12 Compri...</td>\n",
       "      <td>36.71</td>\n",
       "      <td>MEDICAMENTOS GENÉRICOS</td>\n",
       "      <td>10</td>\n",
       "      <td>CIRCULAÇÃO</td>\n",
       "      <td>40</td>\n",
       "    </tr>\n",
       "    <tr>\n",
       "      <th>1</th>\n",
       "      <td>11</td>\n",
       "      <td>Bissulfato de Clopidogrel 75mg Generico Teuto ...</td>\n",
       "      <td>66.51</td>\n",
       "      <td>MEDICAMENTOS GENÉRICOS</td>\n",
       "      <td>10</td>\n",
       "      <td>CIRCULAÇÃO</td>\n",
       "      <td>40</td>\n",
       "    </tr>\n",
       "    <tr>\n",
       "      <th>2</th>\n",
       "      <td>12</td>\n",
       "      <td>Cloridrato de Amiodarona 200mg Generico Biosin...</td>\n",
       "      <td>31.17</td>\n",
       "      <td>MEDICAMENTOS GENÉRICOS</td>\n",
       "      <td>10</td>\n",
       "      <td>CIRCULAÇÃO</td>\n",
       "      <td>40</td>\n",
       "    </tr>\n",
       "    <tr>\n",
       "      <th>3</th>\n",
       "      <td>13</td>\n",
       "      <td>Acido Tranexâmico 250mg Generico Legrand 12 Co...</td>\n",
       "      <td>36.71</td>\n",
       "      <td>MEDICAMENTOS GENÉRICOS</td>\n",
       "      <td>10</td>\n",
       "      <td>CIRCULAÇÃO</td>\n",
       "      <td>40</td>\n",
       "    </tr>\n",
       "    <tr>\n",
       "      <th>4</th>\n",
       "      <td>14</td>\n",
       "      <td>Cloridrato Oximetazolina Adulto 5mg/ml Genéric...</td>\n",
       "      <td>12.08</td>\n",
       "      <td>MEDICAMENTOS GENÉRICOS</td>\n",
       "      <td>10</td>\n",
       "      <td>GRIPES E RESFRIADOS</td>\n",
       "      <td>41</td>\n",
       "    </tr>\n",
       "  </tbody>\n",
       "</table>\n",
       "</div>"
      ],
      "text/plain": [
       "   PRODUCT_COD                                       PRODUCT_NAME  \\\n",
       "0           10  Acido Tranexamico 250mg Generico EMS 12 Compri...   \n",
       "1           11  Bissulfato de Clopidogrel 75mg Generico Teuto ...   \n",
       "2           12  Cloridrato de Amiodarona 200mg Generico Biosin...   \n",
       "3           13  Acido Tranexâmico 250mg Generico Legrand 12 Co...   \n",
       "4           14  Cloridrato Oximetazolina Adulto 5mg/ml Genéric...   \n",
       "\n",
       "   PRODUCT_VAL                DEP_NAME  DEP_COD         SECTION_NAME  \\\n",
       "0        36.71  MEDICAMENTOS GENÉRICOS       10           CIRCULAÇÃO   \n",
       "1        66.51  MEDICAMENTOS GENÉRICOS       10           CIRCULAÇÃO   \n",
       "2        31.17  MEDICAMENTOS GENÉRICOS       10           CIRCULAÇÃO   \n",
       "3        36.71  MEDICAMENTOS GENÉRICOS       10           CIRCULAÇÃO   \n",
       "4        12.08  MEDICAMENTOS GENÉRICOS       10  GRIPES E RESFRIADOS   \n",
       "\n",
       "   SECTION_COD  \n",
       "0           40  \n",
       "1           40  \n",
       "2           40  \n",
       "3           40  \n",
       "4           41  "
      ]
     },
     "execution_count": 16,
     "metadata": {},
     "output_type": "execute_result"
    }
   ],
   "source": [
    "productInformation.head()"
   ]
  },
  {
   "cell_type": "code",
   "execution_count": 17,
   "id": "624bc17f",
   "metadata": {
    "ExecuteTime": {
     "end_time": "2021-08-12T12:02:29.260833Z",
     "start_time": "2021-08-12T12:02:29.247835Z"
    },
    "hidden": true
   },
   "outputs": [
    {
     "name": "stdout",
     "output_type": "stream",
     "text": [
      "Essas são as seções do \n",
      "departamento de padaria:  ['DOCES-E-SOBREMESAS' 'QUEIJOS-E-FRIOS' 'PADARIA' 'GESTANTE']\n",
      "\n",
      "Essas são as seções do \n",
      "departamento de bebidas:  ['BEBIDAS' 'VINHOS' 'CERVEJAS' 'REFRESCOS']\n"
     ]
    }
   ],
   "source": [
    "departamentoPadaria = productInformation.loc[productInformation['DEP_NAME'] == 'PADARIA']\n",
    "departamentoBebidas = productInformation.loc[productInformation['DEP_NAME'] == 'BEBIDAS']\n",
    "\n",
    "print('Essas são as seções do \\ndepartamento de padaria: ',pd.unique(departamentoPadaria['SECTION_NAME']))\n",
    "print('\\nEssas são as seções do \\ndepartamento de bebidas: ',pd.unique(departamentoBebidas['SECTION_NAME']))"
   ]
  },
  {
   "cell_type": "markdown",
   "id": "14f4bec3",
   "metadata": {
    "heading_collapsed": true
   },
   "source": [
    "### <strong>Qual loja vendeu <span class=\"girk\"><span class=\"mark\">mais</span></span> produtos em um dia? Qual dia?</strong>"
   ]
  },
  {
   "cell_type": "markdown",
   "id": "b727c899",
   "metadata": {
    "ExecuteTime": {
     "end_time": "2021-08-11T20:24:17.652111Z",
     "start_time": "2021-08-11T20:24:16.997068Z"
    },
    "hidden": true
   },
   "source": [
    " > R: A empresa de código <strong>2</strong> foi a que mais vendeu no dia <strong>03-07-2019</strong>, um total de <strong>24332</strong> produtos.\n",
    " "
   ]
  },
  {
   "cell_type": "code",
   "execution_count": 18,
   "id": "b64c9433",
   "metadata": {
    "ExecuteTime": {
     "end_time": "2021-08-12T12:02:29.292836Z",
     "start_time": "2021-08-12T12:02:29.262836Z"
    },
    "hidden": true
   },
   "outputs": [
    {
     "data": {
      "text/html": [
       "<div>\n",
       "<style scoped>\n",
       "    .dataframe tbody tr th:only-of-type {\n",
       "        vertical-align: middle;\n",
       "    }\n",
       "\n",
       "    .dataframe tbody tr th {\n",
       "        vertical-align: top;\n",
       "    }\n",
       "\n",
       "    .dataframe thead th {\n",
       "        text-align: right;\n",
       "    }\n",
       "</style>\n",
       "<table border=\"1\" class=\"dataframe\">\n",
       "  <thead>\n",
       "    <tr style=\"text-align: right;\">\n",
       "      <th></th>\n",
       "      <th>STORE_CODE</th>\n",
       "      <th>DATE</th>\n",
       "      <th>SALES_VALUE</th>\n",
       "      <th>SALES_QTY</th>\n",
       "    </tr>\n",
       "  </thead>\n",
       "  <tbody>\n",
       "    <tr>\n",
       "      <th>0</th>\n",
       "      <td>1</td>\n",
       "      <td>2014-11-23</td>\n",
       "      <td>111387.87</td>\n",
       "      <td>7227</td>\n",
       "    </tr>\n",
       "    <tr>\n",
       "      <th>1</th>\n",
       "      <td>10</td>\n",
       "      <td>2014-11-23</td>\n",
       "      <td>63256.35</td>\n",
       "      <td>4362</td>\n",
       "    </tr>\n",
       "    <tr>\n",
       "      <th>2</th>\n",
       "      <td>11</td>\n",
       "      <td>2014-11-23</td>\n",
       "      <td>62680.86</td>\n",
       "      <td>4257</td>\n",
       "    </tr>\n",
       "    <tr>\n",
       "      <th>3</th>\n",
       "      <td>12</td>\n",
       "      <td>2014-11-23</td>\n",
       "      <td>62680.86</td>\n",
       "      <td>4257</td>\n",
       "    </tr>\n",
       "    <tr>\n",
       "      <th>4</th>\n",
       "      <td>13</td>\n",
       "      <td>2014-11-23</td>\n",
       "      <td>111387.87</td>\n",
       "      <td>7227</td>\n",
       "    </tr>\n",
       "  </tbody>\n",
       "</table>\n",
       "</div>"
      ],
      "text/plain": [
       "   STORE_CODE        DATE  SALES_VALUE  SALES_QTY\n",
       "0           1  2014-11-23    111387.87       7227\n",
       "1          10  2014-11-23     63256.35       4362\n",
       "2          11  2014-11-23     62680.86       4257\n",
       "3          12  2014-11-23     62680.86       4257\n",
       "4          13  2014-11-23    111387.87       7227"
      ]
     },
     "execution_count": 18,
     "metadata": {},
     "output_type": "execute_result"
    }
   ],
   "source": [
    "dataStoreSales.head()"
   ]
  },
  {
   "cell_type": "code",
   "execution_count": 19,
   "id": "31271e44",
   "metadata": {
    "ExecuteTime": {
     "end_time": "2021-08-12T12:02:29.308837Z",
     "start_time": "2021-08-12T12:02:29.294839Z"
    },
    "hidden": true
   },
   "outputs": [
    {
     "data": {
      "text/html": [
       "<div>\n",
       "<style scoped>\n",
       "    .dataframe tbody tr th:only-of-type {\n",
       "        vertical-align: middle;\n",
       "    }\n",
       "\n",
       "    .dataframe tbody tr th {\n",
       "        vertical-align: top;\n",
       "    }\n",
       "\n",
       "    .dataframe thead th {\n",
       "        text-align: right;\n",
       "    }\n",
       "</style>\n",
       "<table border=\"1\" class=\"dataframe\">\n",
       "  <thead>\n",
       "    <tr style=\"text-align: right;\">\n",
       "      <th></th>\n",
       "      <th>STORE_CODE</th>\n",
       "      <th>DATE</th>\n",
       "      <th>SALES_VALUE</th>\n",
       "      <th>SALES_QTY</th>\n",
       "    </tr>\n",
       "  </thead>\n",
       "  <tbody>\n",
       "    <tr>\n",
       "      <th>32133</th>\n",
       "      <td>2</td>\n",
       "      <td>2019-07-03</td>\n",
       "      <td>377886.88</td>\n",
       "      <td>24332</td>\n",
       "    </tr>\n",
       "  </tbody>\n",
       "</table>\n",
       "</div>"
      ],
      "text/plain": [
       "       STORE_CODE        DATE  SALES_VALUE  SALES_QTY\n",
       "32133           2  2019-07-03    377886.88      24332"
      ]
     },
     "execution_count": 19,
     "metadata": {},
     "output_type": "execute_result"
    }
   ],
   "source": [
    "dataStoreSales.loc[dataStoreSales['SALES_QTY'] == dataStoreSales['SALES_QTY'].max()]"
   ]
  },
  {
   "cell_type": "markdown",
   "id": "10db24a8",
   "metadata": {
    "heading_collapsed": true
   },
   "source": [
    "### <strong><span class=\"girk\">Bônus</span>!! Qual foi a venda total de produtos (em $) de cada área de negócio no primeiro trimestre de 2019?</strong>"
   ]
  },
  {
   "cell_type": "code",
   "execution_count": 20,
   "id": "d42a5575",
   "metadata": {
    "ExecuteTime": {
     "end_time": "2021-08-12T12:02:29.340840Z",
     "start_time": "2021-08-12T12:02:29.310842Z"
    },
    "hidden": true
   },
   "outputs": [
    {
     "data": {
      "text/html": [
       "<div>\n",
       "<style scoped>\n",
       "    .dataframe tbody tr th:only-of-type {\n",
       "        vertical-align: middle;\n",
       "    }\n",
       "\n",
       "    .dataframe tbody tr th {\n",
       "        vertical-align: top;\n",
       "    }\n",
       "\n",
       "    .dataframe thead th {\n",
       "        text-align: right;\n",
       "    }\n",
       "</style>\n",
       "<table border=\"1\" class=\"dataframe\">\n",
       "  <thead>\n",
       "    <tr style=\"text-align: right;\">\n",
       "      <th></th>\n",
       "      <th>STORE_CODE</th>\n",
       "      <th>DATE</th>\n",
       "      <th>SALES_VALUE</th>\n",
       "      <th>SALES_QTY</th>\n",
       "    </tr>\n",
       "  </thead>\n",
       "  <tbody>\n",
       "    <tr>\n",
       "      <th>0</th>\n",
       "      <td>1</td>\n",
       "      <td>2014-11-23</td>\n",
       "      <td>111387.87</td>\n",
       "      <td>7227</td>\n",
       "    </tr>\n",
       "  </tbody>\n",
       "</table>\n",
       "</div>"
      ],
      "text/plain": [
       "   STORE_CODE        DATE  SALES_VALUE  SALES_QTY\n",
       "0           1  2014-11-23    111387.87       7227"
      ]
     },
     "execution_count": 20,
     "metadata": {},
     "output_type": "execute_result"
    }
   ],
   "source": [
    "dataStoreSales.head(1)"
   ]
  },
  {
   "cell_type": "code",
   "execution_count": 21,
   "id": "5a769c0e",
   "metadata": {
    "ExecuteTime": {
     "end_time": "2021-08-12T12:02:29.372843Z",
     "start_time": "2021-08-12T12:02:29.342841Z"
    },
    "hidden": true
   },
   "outputs": [
    {
     "data": {
      "text/html": [
       "<div>\n",
       "<style scoped>\n",
       "    .dataframe tbody tr th:only-of-type {\n",
       "        vertical-align: middle;\n",
       "    }\n",
       "\n",
       "    .dataframe tbody tr th {\n",
       "        vertical-align: top;\n",
       "    }\n",
       "\n",
       "    .dataframe thead th {\n",
       "        text-align: right;\n",
       "    }\n",
       "</style>\n",
       "<table border=\"1\" class=\"dataframe\">\n",
       "  <thead>\n",
       "    <tr style=\"text-align: right;\">\n",
       "      <th></th>\n",
       "      <th>STORE_CODE</th>\n",
       "      <th>DATE</th>\n",
       "      <th>SALES_VALUE</th>\n",
       "      <th>SALES_QTY</th>\n",
       "    </tr>\n",
       "  </thead>\n",
       "  <tbody>\n",
       "    <tr>\n",
       "      <th>0</th>\n",
       "      <td>1</td>\n",
       "      <td>2014-11-23</td>\n",
       "      <td>111387.87</td>\n",
       "      <td>7227</td>\n",
       "    </tr>\n",
       "  </tbody>\n",
       "</table>\n",
       "</div>"
      ],
      "text/plain": [
       "   STORE_CODE       DATE  SALES_VALUE  SALES_QTY\n",
       "0           1 2014-11-23    111387.87       7227"
      ]
     },
     "execution_count": 21,
     "metadata": {},
     "output_type": "execute_result"
    }
   ],
   "source": [
    "dataStoreSales['DATE'] = pd.to_datetime(dataStoreSales['DATE'])\n",
    "dataStoreSales.head(1)"
   ]
  },
  {
   "cell_type": "code",
   "execution_count": 22,
   "id": "504dc978",
   "metadata": {
    "ExecuteTime": {
     "end_time": "2021-08-12T12:02:29.388845Z",
     "start_time": "2021-08-12T12:02:29.374844Z"
    },
    "hidden": true
   },
   "outputs": [
    {
     "name": "stdout",
     "output_type": "stream",
     "text": [
      "<class 'pandas.core.frame.DataFrame'>\n",
      "RangeIndex: 35762 entries, 0 to 35761\n",
      "Data columns (total 4 columns):\n",
      " #   Column       Non-Null Count  Dtype         \n",
      "---  ------       --------------  -----         \n",
      " 0   STORE_CODE   35762 non-null  int64         \n",
      " 1   DATE         35762 non-null  datetime64[ns]\n",
      " 2   SALES_VALUE  35762 non-null  float64       \n",
      " 3   SALES_QTY    35762 non-null  int64         \n",
      "dtypes: datetime64[ns](1), float64(1), int64(2)\n",
      "memory usage: 1.1 MB\n"
     ]
    }
   ],
   "source": [
    "dataStoreSales.info()"
   ]
  },
  {
   "cell_type": "code",
   "execution_count": 23,
   "id": "6fa4b424",
   "metadata": {
    "ExecuteTime": {
     "end_time": "2021-08-12T12:02:29.436848Z",
     "start_time": "2021-08-12T12:02:29.392845Z"
    },
    "hidden": true
   },
   "outputs": [
    {
     "data": {
      "text/html": [
       "<div>\n",
       "<style scoped>\n",
       "    .dataframe tbody tr th:only-of-type {\n",
       "        vertical-align: middle;\n",
       "    }\n",
       "\n",
       "    .dataframe tbody tr th {\n",
       "        vertical-align: top;\n",
       "    }\n",
       "\n",
       "    .dataframe thead th {\n",
       "        text-align: right;\n",
       "    }\n",
       "</style>\n",
       "<table border=\"1\" class=\"dataframe\">\n",
       "  <thead>\n",
       "    <tr style=\"text-align: right;\">\n",
       "      <th></th>\n",
       "      <th>STORE_CODE</th>\n",
       "      <th>DATE</th>\n",
       "      <th>SALES_VALUE</th>\n",
       "      <th>SALES_QTY</th>\n",
       "      <th>TRIMESTRE</th>\n",
       "    </tr>\n",
       "  </thead>\n",
       "  <tbody>\n",
       "    <tr>\n",
       "      <th>0</th>\n",
       "      <td>1</td>\n",
       "      <td>2014-11-23</td>\n",
       "      <td>111387.87</td>\n",
       "      <td>7227</td>\n",
       "      <td>4</td>\n",
       "    </tr>\n",
       "    <tr>\n",
       "      <th>1</th>\n",
       "      <td>10</td>\n",
       "      <td>2014-11-23</td>\n",
       "      <td>63256.35</td>\n",
       "      <td>4362</td>\n",
       "      <td>4</td>\n",
       "    </tr>\n",
       "  </tbody>\n",
       "</table>\n",
       "</div>"
      ],
      "text/plain": [
       "   STORE_CODE       DATE  SALES_VALUE  SALES_QTY  TRIMESTRE\n",
       "0           1 2014-11-23    111387.87       7227          4\n",
       "1          10 2014-11-23     63256.35       4362          4"
      ]
     },
     "execution_count": 23,
     "metadata": {},
     "output_type": "execute_result"
    }
   ],
   "source": [
    "dataStoreSales['TRIMESTRE'] = dataStoreSales['DATE'].dt.quarter\n",
    "dataStoreSales.head(2)"
   ]
  },
  {
   "cell_type": "code",
   "execution_count": 24,
   "id": "8bf327b1",
   "metadata": {
    "ExecuteTime": {
     "end_time": "2021-08-12T12:02:29.452849Z",
     "start_time": "2021-08-12T12:02:29.439850Z"
    },
    "hidden": true
   },
   "outputs": [],
   "source": [
    "ano2019 = dataStoreSales.loc[(dataStoreSales['DATE'].dt.year == 2019) & (dataStoreSales['TRIMESTRE'] == 1)]"
   ]
  },
  {
   "cell_type": "code",
   "execution_count": 25,
   "id": "a15ea287",
   "metadata": {
    "ExecuteTime": {
     "end_time": "2021-08-12T12:02:29.468851Z",
     "start_time": "2021-08-12T12:02:29.454851Z"
    },
    "hidden": true
   },
   "outputs": [
    {
     "data": {
      "text/html": [
       "<div>\n",
       "<style scoped>\n",
       "    .dataframe tbody tr th:only-of-type {\n",
       "        vertical-align: middle;\n",
       "    }\n",
       "\n",
       "    .dataframe tbody tr th {\n",
       "        vertical-align: top;\n",
       "    }\n",
       "\n",
       "    .dataframe thead th {\n",
       "        text-align: right;\n",
       "    }\n",
       "</style>\n",
       "<table border=\"1\" class=\"dataframe\">\n",
       "  <thead>\n",
       "    <tr style=\"text-align: right;\">\n",
       "      <th></th>\n",
       "      <th>STORE_CODE</th>\n",
       "      <th>DATE</th>\n",
       "      <th>SALES_VALUE</th>\n",
       "      <th>SALES_QTY</th>\n",
       "      <th>TRIMESTRE</th>\n",
       "    </tr>\n",
       "  </thead>\n",
       "  <tbody>\n",
       "    <tr>\n",
       "      <th>28462</th>\n",
       "      <td>1</td>\n",
       "      <td>2019-01-01</td>\n",
       "      <td>196623.22</td>\n",
       "      <td>12838</td>\n",
       "      <td>1</td>\n",
       "    </tr>\n",
       "    <tr>\n",
       "      <th>28463</th>\n",
       "      <td>10</td>\n",
       "      <td>2019-01-01</td>\n",
       "      <td>126795.44</td>\n",
       "      <td>4933</td>\n",
       "      <td>1</td>\n",
       "    </tr>\n",
       "  </tbody>\n",
       "</table>\n",
       "</div>"
      ],
      "text/plain": [
       "       STORE_CODE       DATE  SALES_VALUE  SALES_QTY  TRIMESTRE\n",
       "28462           1 2019-01-01    196623.22      12838          1\n",
       "28463          10 2019-01-01    126795.44       4933          1"
      ]
     },
     "execution_count": 25,
     "metadata": {},
     "output_type": "execute_result"
    }
   ],
   "source": [
    "ano2019.head(2)"
   ]
  },
  {
   "cell_type": "code",
   "execution_count": 26,
   "id": "eded3de6",
   "metadata": {
    "ExecuteTime": {
     "end_time": "2021-08-12T12:02:29.499854Z",
     "start_time": "2021-08-12T12:02:29.470852Z"
    },
    "hidden": true
   },
   "outputs": [
    {
     "data": {
      "text/html": [
       "<div>\n",
       "<style scoped>\n",
       "    .dataframe tbody tr th:only-of-type {\n",
       "        vertical-align: middle;\n",
       "    }\n",
       "\n",
       "    .dataframe tbody tr th {\n",
       "        vertical-align: top;\n",
       "    }\n",
       "\n",
       "    .dataframe thead th {\n",
       "        text-align: right;\n",
       "    }\n",
       "</style>\n",
       "<table border=\"1\" class=\"dataframe\">\n",
       "  <thead>\n",
       "    <tr style=\"text-align: right;\">\n",
       "      <th></th>\n",
       "      <th>STORE_CODE</th>\n",
       "      <th>SALES_VALUE</th>\n",
       "    </tr>\n",
       "  </thead>\n",
       "  <tbody>\n",
       "    <tr>\n",
       "      <th>0</th>\n",
       "      <td>1</td>\n",
       "      <td>20096221.15</td>\n",
       "    </tr>\n",
       "    <tr>\n",
       "      <th>1</th>\n",
       "      <td>2</td>\n",
       "      <td>20743684.20</td>\n",
       "    </tr>\n",
       "    <tr>\n",
       "      <th>2</th>\n",
       "      <td>3</td>\n",
       "      <td>20096221.15</td>\n",
       "    </tr>\n",
       "    <tr>\n",
       "      <th>3</th>\n",
       "      <td>4</td>\n",
       "      <td>20096221.15</td>\n",
       "    </tr>\n",
       "    <tr>\n",
       "      <th>4</th>\n",
       "      <td>5</td>\n",
       "      <td>20096221.15</td>\n",
       "    </tr>\n",
       "  </tbody>\n",
       "</table>\n",
       "</div>"
      ],
      "text/plain": [
       "   STORE_CODE  SALES_VALUE\n",
       "0           1  20096221.15\n",
       "1           2  20743684.20\n",
       "2           3  20096221.15\n",
       "3           4  20096221.15\n",
       "4           5  20096221.15"
      ]
     },
     "execution_count": 26,
     "metadata": {},
     "output_type": "execute_result"
    }
   ],
   "source": [
    "totalPrimeiroTrimestre = ano2019[['STORE_CODE', 'SALES_VALUE']].groupby('STORE_CODE').sum().reset_index()\n",
    "totalPrimeiroTrimestre.head()"
   ]
  },
  {
   "cell_type": "code",
   "execution_count": 27,
   "id": "fd00b28a",
   "metadata": {
    "ExecuteTime": {
     "end_time": "2021-08-12T12:02:29.515856Z",
     "start_time": "2021-08-12T12:02:29.501855Z"
    },
    "hidden": true
   },
   "outputs": [
    {
     "data": {
      "text/html": [
       "<div>\n",
       "<style scoped>\n",
       "    .dataframe tbody tr th:only-of-type {\n",
       "        vertical-align: middle;\n",
       "    }\n",
       "\n",
       "    .dataframe tbody tr th {\n",
       "        vertical-align: top;\n",
       "    }\n",
       "\n",
       "    .dataframe thead th {\n",
       "        text-align: right;\n",
       "    }\n",
       "</style>\n",
       "<table border=\"1\" class=\"dataframe\">\n",
       "  <thead>\n",
       "    <tr style=\"text-align: right;\">\n",
       "      <th></th>\n",
       "      <th>STORE_CODE</th>\n",
       "      <th>STORE_NAME</th>\n",
       "      <th>START_DATE</th>\n",
       "      <th>END_DATA</th>\n",
       "      <th>BUSINESS_NAME</th>\n",
       "      <th>BUSINESS_CODE</th>\n",
       "    </tr>\n",
       "  </thead>\n",
       "  <tbody>\n",
       "    <tr>\n",
       "      <th>0</th>\n",
       "      <td>1</td>\n",
       "      <td>Sao Paulo</td>\n",
       "      <td>2006-10-01</td>\n",
       "      <td>NaN</td>\n",
       "      <td>Varejo</td>\n",
       "      <td>1</td>\n",
       "    </tr>\n",
       "  </tbody>\n",
       "</table>\n",
       "</div>"
      ],
      "text/plain": [
       "   STORE_CODE STORE_NAME  START_DATE  END_DATA BUSINESS_NAME  BUSINESS_CODE\n",
       "0           1  Sao Paulo  2006-10-01       NaN        Varejo              1"
      ]
     },
     "execution_count": 27,
     "metadata": {},
     "output_type": "execute_result"
    }
   ],
   "source": [
    "dataStoretInfo.head(1)"
   ]
  },
  {
   "cell_type": "code",
   "execution_count": 28,
   "id": "51361a18",
   "metadata": {
    "ExecuteTime": {
     "end_time": "2021-08-12T12:02:29.531856Z",
     "start_time": "2021-08-12T12:02:29.518856Z"
    },
    "hidden": true
   },
   "outputs": [
    {
     "data": {
      "text/html": [
       "<div>\n",
       "<style scoped>\n",
       "    .dataframe tbody tr th:only-of-type {\n",
       "        vertical-align: middle;\n",
       "    }\n",
       "\n",
       "    .dataframe tbody tr th {\n",
       "        vertical-align: top;\n",
       "    }\n",
       "\n",
       "    .dataframe thead th {\n",
       "        text-align: right;\n",
       "    }\n",
       "</style>\n",
       "<table border=\"1\" class=\"dataframe\">\n",
       "  <thead>\n",
       "    <tr style=\"text-align: right;\">\n",
       "      <th></th>\n",
       "      <th>STORE_CODE</th>\n",
       "      <th>SALES_VALUE</th>\n",
       "      <th>BUSINESS_NAME</th>\n",
       "    </tr>\n",
       "  </thead>\n",
       "  <tbody>\n",
       "    <tr>\n",
       "      <th>0</th>\n",
       "      <td>1</td>\n",
       "      <td>20096221.15</td>\n",
       "      <td>Varejo</td>\n",
       "    </tr>\n",
       "    <tr>\n",
       "      <th>1</th>\n",
       "      <td>2</td>\n",
       "      <td>20743684.20</td>\n",
       "      <td>Varejo</td>\n",
       "    </tr>\n",
       "    <tr>\n",
       "      <th>2</th>\n",
       "      <td>3</td>\n",
       "      <td>20096221.15</td>\n",
       "      <td>Varejo</td>\n",
       "    </tr>\n",
       "    <tr>\n",
       "      <th>3</th>\n",
       "      <td>4</td>\n",
       "      <td>20096221.15</td>\n",
       "      <td>Varejo</td>\n",
       "    </tr>\n",
       "    <tr>\n",
       "      <th>4</th>\n",
       "      <td>5</td>\n",
       "      <td>20096221.15</td>\n",
       "      <td>Proximidade</td>\n",
       "    </tr>\n",
       "  </tbody>\n",
       "</table>\n",
       "</div>"
      ],
      "text/plain": [
       "   STORE_CODE  SALES_VALUE BUSINESS_NAME\n",
       "0           1  20096221.15        Varejo\n",
       "1           2  20743684.20        Varejo\n",
       "2           3  20096221.15        Varejo\n",
       "3           4  20096221.15        Varejo\n",
       "4           5  20096221.15   Proximidade"
      ]
     },
     "execution_count": 28,
     "metadata": {},
     "output_type": "execute_result"
    }
   ],
   "source": [
    "totalPrimeiroTrimestre['BUSINESS_NAME'] = dataStoretInfo['BUSINESS_NAME']\n",
    "totalPrimeiroTrimestre.head()"
   ]
  },
  {
   "cell_type": "code",
   "execution_count": 29,
   "id": "37a4ee0a",
   "metadata": {
    "ExecuteTime": {
     "end_time": "2021-08-12T12:02:29.547858Z",
     "start_time": "2021-08-12T12:02:29.533857Z"
    },
    "hidden": true
   },
   "outputs": [],
   "source": [
    "totalPorArea = totalPrimeiroTrimestre[['BUSINESS_NAME', 'SALES_VALUE']].groupby('BUSINESS_NAME').sum().reset_index()"
   ]
  },
  {
   "cell_type": "code",
   "execution_count": 30,
   "id": "54fe2211-2e26-45ac-bba0-37a81333cf4f",
   "metadata": {
    "ExecuteTime": {
     "end_time": "2021-08-12T12:02:29.563859Z",
     "start_time": "2021-08-12T12:02:29.548859Z"
    },
    "hidden": true
   },
   "outputs": [],
   "source": [
    "totalPorArea = totalPorArea.rename(columns = {'BUSINESS_NAME': 'ÁREA RESPONSÁVEL', \n",
    "                                              'SALES_VALUE': 'VALOR TOTAL DE VENDAS'}) "
   ]
  },
  {
   "cell_type": "code",
   "execution_count": 31,
   "id": "5985a220",
   "metadata": {
    "ExecuteTime": {
     "end_time": "2021-08-12T12:02:29.579864Z",
     "start_time": "2021-08-12T12:02:29.565860Z"
    },
    "hidden": true
   },
   "outputs": [
    {
     "name": "stdout",
     "output_type": "stream",
     "text": [
      "<class 'pandas.core.frame.DataFrame'>\n",
      "RangeIndex: 5 entries, 0 to 4\n",
      "Data columns (total 2 columns):\n",
      " #   Column                 Non-Null Count  Dtype  \n",
      "---  ------                 --------------  -----  \n",
      " 0   ÁREA RESPONSÁVEL       5 non-null      object \n",
      " 1   VALOR TOTAL DE VENDAS  5 non-null      float64\n",
      "dtypes: float64(1), object(1)\n",
      "memory usage: 208.0+ bytes\n"
     ]
    }
   ],
   "source": [
    "totalPorArea.info()"
   ]
  },
  {
   "cell_type": "code",
   "execution_count": 58,
   "id": "7b9b1b50",
   "metadata": {
    "ExecuteTime": {
     "end_time": "2021-08-12T12:18:31.316441Z",
     "start_time": "2021-08-12T12:18:31.169428Z"
    },
    "hidden": true
   },
   "outputs": [
    {
     "data": {
      "application/vnd.plotly.v1+json": {
       "config": {
        "plotlyServerURL": "https://plot.ly"
       },
       "data": [
        {
         "alignmentgroup": "True",
         "hovertemplate": "ÁREA RESPONSÁVEL=%{x}<br>VALOR TOTAL DE VENDAS=%{y}<extra></extra>",
         "legendgroup": "Atacado",
         "marker": {
          "color": "#636efa",
          "pattern": {
           "shape": ""
          }
         },
         "name": "Atacado",
         "offsetgroup": "Atacado",
         "orientation": "v",
         "showlegend": true,
         "textposition": "auto",
         "type": "bar",
         "x": [
          "Atacado"
         ],
         "xaxis": "x",
         "y": [
          80384884.6
         ],
         "yaxis": "y"
        },
        {
         "alignmentgroup": "True",
         "hovertemplate": "ÁREA RESPONSÁVEL=%{x}<br>VALOR TOTAL DE VENDAS=%{y}<extra></extra>",
         "legendgroup": "Farma",
         "marker": {
          "color": "#EF553B",
          "pattern": {
           "shape": ""
          }
         },
         "name": "Farma",
         "offsetgroup": "Farma",
         "orientation": "v",
         "showlegend": true,
         "textposition": "auto",
         "type": "bar",
         "x": [
          "Farma"
         ],
         "xaxis": "x",
         "y": [
          81776691.73000002
         ],
         "yaxis": "y"
        },
        {
         "alignmentgroup": "True",
         "hovertemplate": "ÁREA RESPONSÁVEL=%{x}<br>VALOR TOTAL DE VENDAS=%{y}<extra></extra>",
         "legendgroup": "Posto",
         "marker": {
          "color": "#00cc96",
          "pattern": {
           "shape": ""
          }
         },
         "name": "Posto",
         "offsetgroup": "Posto",
         "orientation": "v",
         "showlegend": true,
         "textposition": "auto",
         "type": "bar",
         "x": [
          "Posto"
         ],
         "xaxis": "x",
         "y": [
          32072326.39999999
         ],
         "yaxis": "y"
        },
        {
         "alignmentgroup": "True",
         "hovertemplate": "ÁREA RESPONSÁVEL=%{x}<br>VALOR TOTAL DE VENDAS=%{y}<extra></extra>",
         "legendgroup": "Proximidade",
         "marker": {
          "color": "#ab63fa",
          "pattern": {
           "shape": ""
          }
         },
         "name": "Proximidade",
         "offsetgroup": "Proximidade",
         "orientation": "v",
         "showlegend": true,
         "textposition": "auto",
         "type": "bar",
         "x": [
          "Proximidade"
         ],
         "xaxis": "x",
         "y": [
          80171122.8
         ],
         "yaxis": "y"
        },
        {
         "alignmentgroup": "True",
         "hovertemplate": "ÁREA RESPONSÁVEL=%{x}<br>VALOR TOTAL DE VENDAS=%{y}<extra></extra>",
         "legendgroup": "Varejo",
         "marker": {
          "color": "#FFA15A",
          "pattern": {
           "shape": ""
          }
         },
         "name": "Varejo",
         "offsetgroup": "Varejo",
         "orientation": "v",
         "showlegend": true,
         "textposition": "auto",
         "type": "bar",
         "x": [
          "Varejo"
         ],
         "xaxis": "x",
         "y": [
          81032347.65
         ],
         "yaxis": "y"
        }
       ],
       "layout": {
        "barmode": "relative",
        "height": 600,
        "legend": {
         "title": {
          "text": "ÁREA RESPONSÁVEL"
         },
         "tracegroupgap": 0
        },
        "template": {
         "data": {
          "bar": [
           {
            "error_x": {
             "color": "#2a3f5f"
            },
            "error_y": {
             "color": "#2a3f5f"
            },
            "marker": {
             "line": {
              "color": "#E5ECF6",
              "width": 0.5
             },
             "pattern": {
              "fillmode": "overlay",
              "size": 10,
              "solidity": 0.2
             }
            },
            "type": "bar"
           }
          ],
          "barpolar": [
           {
            "marker": {
             "line": {
              "color": "#E5ECF6",
              "width": 0.5
             },
             "pattern": {
              "fillmode": "overlay",
              "size": 10,
              "solidity": 0.2
             }
            },
            "type": "barpolar"
           }
          ],
          "carpet": [
           {
            "aaxis": {
             "endlinecolor": "#2a3f5f",
             "gridcolor": "white",
             "linecolor": "white",
             "minorgridcolor": "white",
             "startlinecolor": "#2a3f5f"
            },
            "baxis": {
             "endlinecolor": "#2a3f5f",
             "gridcolor": "white",
             "linecolor": "white",
             "minorgridcolor": "white",
             "startlinecolor": "#2a3f5f"
            },
            "type": "carpet"
           }
          ],
          "choropleth": [
           {
            "colorbar": {
             "outlinewidth": 0,
             "ticks": ""
            },
            "type": "choropleth"
           }
          ],
          "contour": [
           {
            "colorbar": {
             "outlinewidth": 0,
             "ticks": ""
            },
            "colorscale": [
             [
              0,
              "#0d0887"
             ],
             [
              0.1111111111111111,
              "#46039f"
             ],
             [
              0.2222222222222222,
              "#7201a8"
             ],
             [
              0.3333333333333333,
              "#9c179e"
             ],
             [
              0.4444444444444444,
              "#bd3786"
             ],
             [
              0.5555555555555556,
              "#d8576b"
             ],
             [
              0.6666666666666666,
              "#ed7953"
             ],
             [
              0.7777777777777778,
              "#fb9f3a"
             ],
             [
              0.8888888888888888,
              "#fdca26"
             ],
             [
              1,
              "#f0f921"
             ]
            ],
            "type": "contour"
           }
          ],
          "contourcarpet": [
           {
            "colorbar": {
             "outlinewidth": 0,
             "ticks": ""
            },
            "type": "contourcarpet"
           }
          ],
          "heatmap": [
           {
            "colorbar": {
             "outlinewidth": 0,
             "ticks": ""
            },
            "colorscale": [
             [
              0,
              "#0d0887"
             ],
             [
              0.1111111111111111,
              "#46039f"
             ],
             [
              0.2222222222222222,
              "#7201a8"
             ],
             [
              0.3333333333333333,
              "#9c179e"
             ],
             [
              0.4444444444444444,
              "#bd3786"
             ],
             [
              0.5555555555555556,
              "#d8576b"
             ],
             [
              0.6666666666666666,
              "#ed7953"
             ],
             [
              0.7777777777777778,
              "#fb9f3a"
             ],
             [
              0.8888888888888888,
              "#fdca26"
             ],
             [
              1,
              "#f0f921"
             ]
            ],
            "type": "heatmap"
           }
          ],
          "heatmapgl": [
           {
            "colorbar": {
             "outlinewidth": 0,
             "ticks": ""
            },
            "colorscale": [
             [
              0,
              "#0d0887"
             ],
             [
              0.1111111111111111,
              "#46039f"
             ],
             [
              0.2222222222222222,
              "#7201a8"
             ],
             [
              0.3333333333333333,
              "#9c179e"
             ],
             [
              0.4444444444444444,
              "#bd3786"
             ],
             [
              0.5555555555555556,
              "#d8576b"
             ],
             [
              0.6666666666666666,
              "#ed7953"
             ],
             [
              0.7777777777777778,
              "#fb9f3a"
             ],
             [
              0.8888888888888888,
              "#fdca26"
             ],
             [
              1,
              "#f0f921"
             ]
            ],
            "type": "heatmapgl"
           }
          ],
          "histogram": [
           {
            "marker": {
             "pattern": {
              "fillmode": "overlay",
              "size": 10,
              "solidity": 0.2
             }
            },
            "type": "histogram"
           }
          ],
          "histogram2d": [
           {
            "colorbar": {
             "outlinewidth": 0,
             "ticks": ""
            },
            "colorscale": [
             [
              0,
              "#0d0887"
             ],
             [
              0.1111111111111111,
              "#46039f"
             ],
             [
              0.2222222222222222,
              "#7201a8"
             ],
             [
              0.3333333333333333,
              "#9c179e"
             ],
             [
              0.4444444444444444,
              "#bd3786"
             ],
             [
              0.5555555555555556,
              "#d8576b"
             ],
             [
              0.6666666666666666,
              "#ed7953"
             ],
             [
              0.7777777777777778,
              "#fb9f3a"
             ],
             [
              0.8888888888888888,
              "#fdca26"
             ],
             [
              1,
              "#f0f921"
             ]
            ],
            "type": "histogram2d"
           }
          ],
          "histogram2dcontour": [
           {
            "colorbar": {
             "outlinewidth": 0,
             "ticks": ""
            },
            "colorscale": [
             [
              0,
              "#0d0887"
             ],
             [
              0.1111111111111111,
              "#46039f"
             ],
             [
              0.2222222222222222,
              "#7201a8"
             ],
             [
              0.3333333333333333,
              "#9c179e"
             ],
             [
              0.4444444444444444,
              "#bd3786"
             ],
             [
              0.5555555555555556,
              "#d8576b"
             ],
             [
              0.6666666666666666,
              "#ed7953"
             ],
             [
              0.7777777777777778,
              "#fb9f3a"
             ],
             [
              0.8888888888888888,
              "#fdca26"
             ],
             [
              1,
              "#f0f921"
             ]
            ],
            "type": "histogram2dcontour"
           }
          ],
          "mesh3d": [
           {
            "colorbar": {
             "outlinewidth": 0,
             "ticks": ""
            },
            "type": "mesh3d"
           }
          ],
          "parcoords": [
           {
            "line": {
             "colorbar": {
              "outlinewidth": 0,
              "ticks": ""
             }
            },
            "type": "parcoords"
           }
          ],
          "pie": [
           {
            "automargin": true,
            "type": "pie"
           }
          ],
          "scatter": [
           {
            "marker": {
             "colorbar": {
              "outlinewidth": 0,
              "ticks": ""
             }
            },
            "type": "scatter"
           }
          ],
          "scatter3d": [
           {
            "line": {
             "colorbar": {
              "outlinewidth": 0,
              "ticks": ""
             }
            },
            "marker": {
             "colorbar": {
              "outlinewidth": 0,
              "ticks": ""
             }
            },
            "type": "scatter3d"
           }
          ],
          "scattercarpet": [
           {
            "marker": {
             "colorbar": {
              "outlinewidth": 0,
              "ticks": ""
             }
            },
            "type": "scattercarpet"
           }
          ],
          "scattergeo": [
           {
            "marker": {
             "colorbar": {
              "outlinewidth": 0,
              "ticks": ""
             }
            },
            "type": "scattergeo"
           }
          ],
          "scattergl": [
           {
            "marker": {
             "colorbar": {
              "outlinewidth": 0,
              "ticks": ""
             }
            },
            "type": "scattergl"
           }
          ],
          "scattermapbox": [
           {
            "marker": {
             "colorbar": {
              "outlinewidth": 0,
              "ticks": ""
             }
            },
            "type": "scattermapbox"
           }
          ],
          "scatterpolar": [
           {
            "marker": {
             "colorbar": {
              "outlinewidth": 0,
              "ticks": ""
             }
            },
            "type": "scatterpolar"
           }
          ],
          "scatterpolargl": [
           {
            "marker": {
             "colorbar": {
              "outlinewidth": 0,
              "ticks": ""
             }
            },
            "type": "scatterpolargl"
           }
          ],
          "scatterternary": [
           {
            "marker": {
             "colorbar": {
              "outlinewidth": 0,
              "ticks": ""
             }
            },
            "type": "scatterternary"
           }
          ],
          "surface": [
           {
            "colorbar": {
             "outlinewidth": 0,
             "ticks": ""
            },
            "colorscale": [
             [
              0,
              "#0d0887"
             ],
             [
              0.1111111111111111,
              "#46039f"
             ],
             [
              0.2222222222222222,
              "#7201a8"
             ],
             [
              0.3333333333333333,
              "#9c179e"
             ],
             [
              0.4444444444444444,
              "#bd3786"
             ],
             [
              0.5555555555555556,
              "#d8576b"
             ],
             [
              0.6666666666666666,
              "#ed7953"
             ],
             [
              0.7777777777777778,
              "#fb9f3a"
             ],
             [
              0.8888888888888888,
              "#fdca26"
             ],
             [
              1,
              "#f0f921"
             ]
            ],
            "type": "surface"
           }
          ],
          "table": [
           {
            "cells": {
             "fill": {
              "color": "#EBF0F8"
             },
             "line": {
              "color": "white"
             }
            },
            "header": {
             "fill": {
              "color": "#C8D4E3"
             },
             "line": {
              "color": "white"
             }
            },
            "type": "table"
           }
          ]
         },
         "layout": {
          "annotationdefaults": {
           "arrowcolor": "#2a3f5f",
           "arrowhead": 0,
           "arrowwidth": 1
          },
          "autotypenumbers": "strict",
          "coloraxis": {
           "colorbar": {
            "outlinewidth": 0,
            "ticks": ""
           }
          },
          "colorscale": {
           "diverging": [
            [
             0,
             "#8e0152"
            ],
            [
             0.1,
             "#c51b7d"
            ],
            [
             0.2,
             "#de77ae"
            ],
            [
             0.3,
             "#f1b6da"
            ],
            [
             0.4,
             "#fde0ef"
            ],
            [
             0.5,
             "#f7f7f7"
            ],
            [
             0.6,
             "#e6f5d0"
            ],
            [
             0.7,
             "#b8e186"
            ],
            [
             0.8,
             "#7fbc41"
            ],
            [
             0.9,
             "#4d9221"
            ],
            [
             1,
             "#276419"
            ]
           ],
           "sequential": [
            [
             0,
             "#0d0887"
            ],
            [
             0.1111111111111111,
             "#46039f"
            ],
            [
             0.2222222222222222,
             "#7201a8"
            ],
            [
             0.3333333333333333,
             "#9c179e"
            ],
            [
             0.4444444444444444,
             "#bd3786"
            ],
            [
             0.5555555555555556,
             "#d8576b"
            ],
            [
             0.6666666666666666,
             "#ed7953"
            ],
            [
             0.7777777777777778,
             "#fb9f3a"
            ],
            [
             0.8888888888888888,
             "#fdca26"
            ],
            [
             1,
             "#f0f921"
            ]
           ],
           "sequentialminus": [
            [
             0,
             "#0d0887"
            ],
            [
             0.1111111111111111,
             "#46039f"
            ],
            [
             0.2222222222222222,
             "#7201a8"
            ],
            [
             0.3333333333333333,
             "#9c179e"
            ],
            [
             0.4444444444444444,
             "#bd3786"
            ],
            [
             0.5555555555555556,
             "#d8576b"
            ],
            [
             0.6666666666666666,
             "#ed7953"
            ],
            [
             0.7777777777777778,
             "#fb9f3a"
            ],
            [
             0.8888888888888888,
             "#fdca26"
            ],
            [
             1,
             "#f0f921"
            ]
           ]
          },
          "colorway": [
           "#636efa",
           "#EF553B",
           "#00cc96",
           "#ab63fa",
           "#FFA15A",
           "#19d3f3",
           "#FF6692",
           "#B6E880",
           "#FF97FF",
           "#FECB52"
          ],
          "font": {
           "color": "#2a3f5f"
          },
          "geo": {
           "bgcolor": "white",
           "lakecolor": "white",
           "landcolor": "#E5ECF6",
           "showlakes": true,
           "showland": true,
           "subunitcolor": "white"
          },
          "hoverlabel": {
           "align": "left"
          },
          "hovermode": "closest",
          "mapbox": {
           "style": "light"
          },
          "paper_bgcolor": "white",
          "plot_bgcolor": "#E5ECF6",
          "polar": {
           "angularaxis": {
            "gridcolor": "white",
            "linecolor": "white",
            "ticks": ""
           },
           "bgcolor": "#E5ECF6",
           "radialaxis": {
            "gridcolor": "white",
            "linecolor": "white",
            "ticks": ""
           }
          },
          "scene": {
           "xaxis": {
            "backgroundcolor": "#E5ECF6",
            "gridcolor": "white",
            "gridwidth": 2,
            "linecolor": "white",
            "showbackground": true,
            "ticks": "",
            "zerolinecolor": "white"
           },
           "yaxis": {
            "backgroundcolor": "#E5ECF6",
            "gridcolor": "white",
            "gridwidth": 2,
            "linecolor": "white",
            "showbackground": true,
            "ticks": "",
            "zerolinecolor": "white"
           },
           "zaxis": {
            "backgroundcolor": "#E5ECF6",
            "gridcolor": "white",
            "gridwidth": 2,
            "linecolor": "white",
            "showbackground": true,
            "ticks": "",
            "zerolinecolor": "white"
           }
          },
          "shapedefaults": {
           "line": {
            "color": "#2a3f5f"
           }
          },
          "ternary": {
           "aaxis": {
            "gridcolor": "white",
            "linecolor": "white",
            "ticks": ""
           },
           "baxis": {
            "gridcolor": "white",
            "linecolor": "white",
            "ticks": ""
           },
           "bgcolor": "#E5ECF6",
           "caxis": {
            "gridcolor": "white",
            "linecolor": "white",
            "ticks": ""
           }
          },
          "title": {
           "x": 0.05
          },
          "xaxis": {
           "automargin": true,
           "gridcolor": "white",
           "linecolor": "white",
           "ticks": "",
           "title": {
            "standoff": 15
           },
           "zerolinecolor": "white",
           "zerolinewidth": 2
          },
          "yaxis": {
           "automargin": true,
           "gridcolor": "white",
           "linecolor": "white",
           "ticks": "",
           "title": {
            "standoff": 15
           },
           "zerolinecolor": "white",
           "zerolinewidth": 2
          }
         }
        },
        "title": {
         "text": "Vendas 1° Trismestre de 2019"
        },
        "width": 900,
        "xaxis": {
         "anchor": "y",
         "categoryarray": [
          "Atacado",
          "Farma",
          "Posto",
          "Proximidade",
          "Varejo"
         ],
         "categoryorder": "array",
         "domain": [
          0,
          1
         ],
         "title": {
          "text": "ÁREA RESPONSÁVEL"
         }
        },
        "yaxis": {
         "anchor": "x",
         "domain": [
          0,
          1
         ],
         "title": {
          "text": "VALOR TOTAL DE VENDAS"
         }
        }
       }
      },
      "text/html": [
       "<div>                            <div id=\"f348cc67-fc3b-4447-915b-e75b504fd84c\" class=\"plotly-graph-div\" style=\"height:600px; width:900px;\"></div>            <script type=\"text/javascript\">                require([\"plotly\"], function(Plotly) {                    window.PLOTLYENV=window.PLOTLYENV || {};                                    if (document.getElementById(\"f348cc67-fc3b-4447-915b-e75b504fd84c\")) {                    Plotly.newPlot(                        \"f348cc67-fc3b-4447-915b-e75b504fd84c\",                        [{\"alignmentgroup\":\"True\",\"hovertemplate\":\"\\u00c1REA RESPONS\\u00c1VEL=%{x}<br>VALOR TOTAL DE VENDAS=%{y}<extra></extra>\",\"legendgroup\":\"Atacado\",\"marker\":{\"color\":\"#636efa\",\"pattern\":{\"shape\":\"\"}},\"name\":\"Atacado\",\"offsetgroup\":\"Atacado\",\"orientation\":\"v\",\"showlegend\":true,\"textposition\":\"auto\",\"type\":\"bar\",\"x\":[\"Atacado\"],\"xaxis\":\"x\",\"y\":[80384884.6],\"yaxis\":\"y\"},{\"alignmentgroup\":\"True\",\"hovertemplate\":\"\\u00c1REA RESPONS\\u00c1VEL=%{x}<br>VALOR TOTAL DE VENDAS=%{y}<extra></extra>\",\"legendgroup\":\"Farma\",\"marker\":{\"color\":\"#EF553B\",\"pattern\":{\"shape\":\"\"}},\"name\":\"Farma\",\"offsetgroup\":\"Farma\",\"orientation\":\"v\",\"showlegend\":true,\"textposition\":\"auto\",\"type\":\"bar\",\"x\":[\"Farma\"],\"xaxis\":\"x\",\"y\":[81776691.73000002],\"yaxis\":\"y\"},{\"alignmentgroup\":\"True\",\"hovertemplate\":\"\\u00c1REA RESPONS\\u00c1VEL=%{x}<br>VALOR TOTAL DE VENDAS=%{y}<extra></extra>\",\"legendgroup\":\"Posto\",\"marker\":{\"color\":\"#00cc96\",\"pattern\":{\"shape\":\"\"}},\"name\":\"Posto\",\"offsetgroup\":\"Posto\",\"orientation\":\"v\",\"showlegend\":true,\"textposition\":\"auto\",\"type\":\"bar\",\"x\":[\"Posto\"],\"xaxis\":\"x\",\"y\":[32072326.39999999],\"yaxis\":\"y\"},{\"alignmentgroup\":\"True\",\"hovertemplate\":\"\\u00c1REA RESPONS\\u00c1VEL=%{x}<br>VALOR TOTAL DE VENDAS=%{y}<extra></extra>\",\"legendgroup\":\"Proximidade\",\"marker\":{\"color\":\"#ab63fa\",\"pattern\":{\"shape\":\"\"}},\"name\":\"Proximidade\",\"offsetgroup\":\"Proximidade\",\"orientation\":\"v\",\"showlegend\":true,\"textposition\":\"auto\",\"type\":\"bar\",\"x\":[\"Proximidade\"],\"xaxis\":\"x\",\"y\":[80171122.8],\"yaxis\":\"y\"},{\"alignmentgroup\":\"True\",\"hovertemplate\":\"\\u00c1REA RESPONS\\u00c1VEL=%{x}<br>VALOR TOTAL DE VENDAS=%{y}<extra></extra>\",\"legendgroup\":\"Varejo\",\"marker\":{\"color\":\"#FFA15A\",\"pattern\":{\"shape\":\"\"}},\"name\":\"Varejo\",\"offsetgroup\":\"Varejo\",\"orientation\":\"v\",\"showlegend\":true,\"textposition\":\"auto\",\"type\":\"bar\",\"x\":[\"Varejo\"],\"xaxis\":\"x\",\"y\":[81032347.65],\"yaxis\":\"y\"}],                        {\"barmode\":\"relative\",\"height\":600,\"legend\":{\"title\":{\"text\":\"\\u00c1REA RESPONS\\u00c1VEL\"},\"tracegroupgap\":0},\"template\":{\"data\":{\"bar\":[{\"error_x\":{\"color\":\"#2a3f5f\"},\"error_y\":{\"color\":\"#2a3f5f\"},\"marker\":{\"line\":{\"color\":\"#E5ECF6\",\"width\":0.5},\"pattern\":{\"fillmode\":\"overlay\",\"size\":10,\"solidity\":0.2}},\"type\":\"bar\"}],\"barpolar\":[{\"marker\":{\"line\":{\"color\":\"#E5ECF6\",\"width\":0.5},\"pattern\":{\"fillmode\":\"overlay\",\"size\":10,\"solidity\":0.2}},\"type\":\"barpolar\"}],\"carpet\":[{\"aaxis\":{\"endlinecolor\":\"#2a3f5f\",\"gridcolor\":\"white\",\"linecolor\":\"white\",\"minorgridcolor\":\"white\",\"startlinecolor\":\"#2a3f5f\"},\"baxis\":{\"endlinecolor\":\"#2a3f5f\",\"gridcolor\":\"white\",\"linecolor\":\"white\",\"minorgridcolor\":\"white\",\"startlinecolor\":\"#2a3f5f\"},\"type\":\"carpet\"}],\"choropleth\":[{\"colorbar\":{\"outlinewidth\":0,\"ticks\":\"\"},\"type\":\"choropleth\"}],\"contour\":[{\"colorbar\":{\"outlinewidth\":0,\"ticks\":\"\"},\"colorscale\":[[0.0,\"#0d0887\"],[0.1111111111111111,\"#46039f\"],[0.2222222222222222,\"#7201a8\"],[0.3333333333333333,\"#9c179e\"],[0.4444444444444444,\"#bd3786\"],[0.5555555555555556,\"#d8576b\"],[0.6666666666666666,\"#ed7953\"],[0.7777777777777778,\"#fb9f3a\"],[0.8888888888888888,\"#fdca26\"],[1.0,\"#f0f921\"]],\"type\":\"contour\"}],\"contourcarpet\":[{\"colorbar\":{\"outlinewidth\":0,\"ticks\":\"\"},\"type\":\"contourcarpet\"}],\"heatmap\":[{\"colorbar\":{\"outlinewidth\":0,\"ticks\":\"\"},\"colorscale\":[[0.0,\"#0d0887\"],[0.1111111111111111,\"#46039f\"],[0.2222222222222222,\"#7201a8\"],[0.3333333333333333,\"#9c179e\"],[0.4444444444444444,\"#bd3786\"],[0.5555555555555556,\"#d8576b\"],[0.6666666666666666,\"#ed7953\"],[0.7777777777777778,\"#fb9f3a\"],[0.8888888888888888,\"#fdca26\"],[1.0,\"#f0f921\"]],\"type\":\"heatmap\"}],\"heatmapgl\":[{\"colorbar\":{\"outlinewidth\":0,\"ticks\":\"\"},\"colorscale\":[[0.0,\"#0d0887\"],[0.1111111111111111,\"#46039f\"],[0.2222222222222222,\"#7201a8\"],[0.3333333333333333,\"#9c179e\"],[0.4444444444444444,\"#bd3786\"],[0.5555555555555556,\"#d8576b\"],[0.6666666666666666,\"#ed7953\"],[0.7777777777777778,\"#fb9f3a\"],[0.8888888888888888,\"#fdca26\"],[1.0,\"#f0f921\"]],\"type\":\"heatmapgl\"}],\"histogram\":[{\"marker\":{\"pattern\":{\"fillmode\":\"overlay\",\"size\":10,\"solidity\":0.2}},\"type\":\"histogram\"}],\"histogram2d\":[{\"colorbar\":{\"outlinewidth\":0,\"ticks\":\"\"},\"colorscale\":[[0.0,\"#0d0887\"],[0.1111111111111111,\"#46039f\"],[0.2222222222222222,\"#7201a8\"],[0.3333333333333333,\"#9c179e\"],[0.4444444444444444,\"#bd3786\"],[0.5555555555555556,\"#d8576b\"],[0.6666666666666666,\"#ed7953\"],[0.7777777777777778,\"#fb9f3a\"],[0.8888888888888888,\"#fdca26\"],[1.0,\"#f0f921\"]],\"type\":\"histogram2d\"}],\"histogram2dcontour\":[{\"colorbar\":{\"outlinewidth\":0,\"ticks\":\"\"},\"colorscale\":[[0.0,\"#0d0887\"],[0.1111111111111111,\"#46039f\"],[0.2222222222222222,\"#7201a8\"],[0.3333333333333333,\"#9c179e\"],[0.4444444444444444,\"#bd3786\"],[0.5555555555555556,\"#d8576b\"],[0.6666666666666666,\"#ed7953\"],[0.7777777777777778,\"#fb9f3a\"],[0.8888888888888888,\"#fdca26\"],[1.0,\"#f0f921\"]],\"type\":\"histogram2dcontour\"}],\"mesh3d\":[{\"colorbar\":{\"outlinewidth\":0,\"ticks\":\"\"},\"type\":\"mesh3d\"}],\"parcoords\":[{\"line\":{\"colorbar\":{\"outlinewidth\":0,\"ticks\":\"\"}},\"type\":\"parcoords\"}],\"pie\":[{\"automargin\":true,\"type\":\"pie\"}],\"scatter\":[{\"marker\":{\"colorbar\":{\"outlinewidth\":0,\"ticks\":\"\"}},\"type\":\"scatter\"}],\"scatter3d\":[{\"line\":{\"colorbar\":{\"outlinewidth\":0,\"ticks\":\"\"}},\"marker\":{\"colorbar\":{\"outlinewidth\":0,\"ticks\":\"\"}},\"type\":\"scatter3d\"}],\"scattercarpet\":[{\"marker\":{\"colorbar\":{\"outlinewidth\":0,\"ticks\":\"\"}},\"type\":\"scattercarpet\"}],\"scattergeo\":[{\"marker\":{\"colorbar\":{\"outlinewidth\":0,\"ticks\":\"\"}},\"type\":\"scattergeo\"}],\"scattergl\":[{\"marker\":{\"colorbar\":{\"outlinewidth\":0,\"ticks\":\"\"}},\"type\":\"scattergl\"}],\"scattermapbox\":[{\"marker\":{\"colorbar\":{\"outlinewidth\":0,\"ticks\":\"\"}},\"type\":\"scattermapbox\"}],\"scatterpolar\":[{\"marker\":{\"colorbar\":{\"outlinewidth\":0,\"ticks\":\"\"}},\"type\":\"scatterpolar\"}],\"scatterpolargl\":[{\"marker\":{\"colorbar\":{\"outlinewidth\":0,\"ticks\":\"\"}},\"type\":\"scatterpolargl\"}],\"scatterternary\":[{\"marker\":{\"colorbar\":{\"outlinewidth\":0,\"ticks\":\"\"}},\"type\":\"scatterternary\"}],\"surface\":[{\"colorbar\":{\"outlinewidth\":0,\"ticks\":\"\"},\"colorscale\":[[0.0,\"#0d0887\"],[0.1111111111111111,\"#46039f\"],[0.2222222222222222,\"#7201a8\"],[0.3333333333333333,\"#9c179e\"],[0.4444444444444444,\"#bd3786\"],[0.5555555555555556,\"#d8576b\"],[0.6666666666666666,\"#ed7953\"],[0.7777777777777778,\"#fb9f3a\"],[0.8888888888888888,\"#fdca26\"],[1.0,\"#f0f921\"]],\"type\":\"surface\"}],\"table\":[{\"cells\":{\"fill\":{\"color\":\"#EBF0F8\"},\"line\":{\"color\":\"white\"}},\"header\":{\"fill\":{\"color\":\"#C8D4E3\"},\"line\":{\"color\":\"white\"}},\"type\":\"table\"}]},\"layout\":{\"annotationdefaults\":{\"arrowcolor\":\"#2a3f5f\",\"arrowhead\":0,\"arrowwidth\":1},\"autotypenumbers\":\"strict\",\"coloraxis\":{\"colorbar\":{\"outlinewidth\":0,\"ticks\":\"\"}},\"colorscale\":{\"diverging\":[[0,\"#8e0152\"],[0.1,\"#c51b7d\"],[0.2,\"#de77ae\"],[0.3,\"#f1b6da\"],[0.4,\"#fde0ef\"],[0.5,\"#f7f7f7\"],[0.6,\"#e6f5d0\"],[0.7,\"#b8e186\"],[0.8,\"#7fbc41\"],[0.9,\"#4d9221\"],[1,\"#276419\"]],\"sequential\":[[0.0,\"#0d0887\"],[0.1111111111111111,\"#46039f\"],[0.2222222222222222,\"#7201a8\"],[0.3333333333333333,\"#9c179e\"],[0.4444444444444444,\"#bd3786\"],[0.5555555555555556,\"#d8576b\"],[0.6666666666666666,\"#ed7953\"],[0.7777777777777778,\"#fb9f3a\"],[0.8888888888888888,\"#fdca26\"],[1.0,\"#f0f921\"]],\"sequentialminus\":[[0.0,\"#0d0887\"],[0.1111111111111111,\"#46039f\"],[0.2222222222222222,\"#7201a8\"],[0.3333333333333333,\"#9c179e\"],[0.4444444444444444,\"#bd3786\"],[0.5555555555555556,\"#d8576b\"],[0.6666666666666666,\"#ed7953\"],[0.7777777777777778,\"#fb9f3a\"],[0.8888888888888888,\"#fdca26\"],[1.0,\"#f0f921\"]]},\"colorway\":[\"#636efa\",\"#EF553B\",\"#00cc96\",\"#ab63fa\",\"#FFA15A\",\"#19d3f3\",\"#FF6692\",\"#B6E880\",\"#FF97FF\",\"#FECB52\"],\"font\":{\"color\":\"#2a3f5f\"},\"geo\":{\"bgcolor\":\"white\",\"lakecolor\":\"white\",\"landcolor\":\"#E5ECF6\",\"showlakes\":true,\"showland\":true,\"subunitcolor\":\"white\"},\"hoverlabel\":{\"align\":\"left\"},\"hovermode\":\"closest\",\"mapbox\":{\"style\":\"light\"},\"paper_bgcolor\":\"white\",\"plot_bgcolor\":\"#E5ECF6\",\"polar\":{\"angularaxis\":{\"gridcolor\":\"white\",\"linecolor\":\"white\",\"ticks\":\"\"},\"bgcolor\":\"#E5ECF6\",\"radialaxis\":{\"gridcolor\":\"white\",\"linecolor\":\"white\",\"ticks\":\"\"}},\"scene\":{\"xaxis\":{\"backgroundcolor\":\"#E5ECF6\",\"gridcolor\":\"white\",\"gridwidth\":2,\"linecolor\":\"white\",\"showbackground\":true,\"ticks\":\"\",\"zerolinecolor\":\"white\"},\"yaxis\":{\"backgroundcolor\":\"#E5ECF6\",\"gridcolor\":\"white\",\"gridwidth\":2,\"linecolor\":\"white\",\"showbackground\":true,\"ticks\":\"\",\"zerolinecolor\":\"white\"},\"zaxis\":{\"backgroundcolor\":\"#E5ECF6\",\"gridcolor\":\"white\",\"gridwidth\":2,\"linecolor\":\"white\",\"showbackground\":true,\"ticks\":\"\",\"zerolinecolor\":\"white\"}},\"shapedefaults\":{\"line\":{\"color\":\"#2a3f5f\"}},\"ternary\":{\"aaxis\":{\"gridcolor\":\"white\",\"linecolor\":\"white\",\"ticks\":\"\"},\"baxis\":{\"gridcolor\":\"white\",\"linecolor\":\"white\",\"ticks\":\"\"},\"bgcolor\":\"#E5ECF6\",\"caxis\":{\"gridcolor\":\"white\",\"linecolor\":\"white\",\"ticks\":\"\"}},\"title\":{\"x\":0.05},\"xaxis\":{\"automargin\":true,\"gridcolor\":\"white\",\"linecolor\":\"white\",\"ticks\":\"\",\"title\":{\"standoff\":15},\"zerolinecolor\":\"white\",\"zerolinewidth\":2},\"yaxis\":{\"automargin\":true,\"gridcolor\":\"white\",\"linecolor\":\"white\",\"ticks\":\"\",\"title\":{\"standoff\":15},\"zerolinecolor\":\"white\",\"zerolinewidth\":2}}},\"title\":{\"text\":\"Vendas 1\\u00b0 Trismestre de 2019\"},\"width\":900,\"xaxis\":{\"anchor\":\"y\",\"categoryarray\":[\"Atacado\",\"Farma\",\"Posto\",\"Proximidade\",\"Varejo\"],\"categoryorder\":\"array\",\"domain\":[0.0,1.0],\"title\":{\"text\":\"\\u00c1REA RESPONS\\u00c1VEL\"}},\"yaxis\":{\"anchor\":\"x\",\"domain\":[0.0,1.0],\"title\":{\"text\":\"VALOR TOTAL DE VENDAS\"}}},                        {\"responsive\": true}                    ).then(function(){\n",
       "                            \n",
       "var gd = document.getElementById('f348cc67-fc3b-4447-915b-e75b504fd84c');\n",
       "var x = new MutationObserver(function (mutations, observer) {{\n",
       "        var display = window.getComputedStyle(gd).display;\n",
       "        if (!display || display === 'none') {{\n",
       "            console.log([gd, 'removed!']);\n",
       "            Plotly.purge(gd);\n",
       "            observer.disconnect();\n",
       "        }}\n",
       "}});\n",
       "\n",
       "// Listen for the removal of the full notebook cells\n",
       "var notebookContainer = gd.closest('#notebook-container');\n",
       "if (notebookContainer) {{\n",
       "    x.observe(notebookContainer, {childList: true});\n",
       "}}\n",
       "\n",
       "// Listen for the clearing of the current output cell\n",
       "var outputEl = gd.closest('.output');\n",
       "if (outputEl) {{\n",
       "    x.observe(outputEl, {childList: true});\n",
       "}}\n",
       "\n",
       "                        })                };                });            </script>        </div>"
      ]
     },
     "metadata": {},
     "output_type": "display_data"
    }
   ],
   "source": [
    "import plotly.express as px\n",
    "fig = px.bar(totalPorArea, \n",
    "             x='ÁREA RESPONSÁVEL', \n",
    "             y='VALOR TOTAL DE VENDAS', \n",
    "             title=\"Vendas 1° Trismestre de 2019\",\n",
    "             color=totalPorArea['ÁREA RESPONSÁVEL'],\n",
    "             height=600, \n",
    "             width=900\n",
    "            )\n",
    "fig.show()"
   ]
  },
  {
   "cell_type": "code",
   "execution_count": 59,
   "id": "fa33cd30",
   "metadata": {
    "ExecuteTime": {
     "end_time": "2021-08-12T12:18:31.748473Z",
     "start_time": "2021-08-12T12:18:31.631464Z"
    },
    "hidden": true
   },
   "outputs": [],
   "source": [
    "# import plotly.io as pio\n",
    "\n",
    "# pio.write_html(fig, file='_img/vendasprimTri2019.html')\n",
    "# pio.write_image(fig, file='_img/vendasprimTri2019.svg')\n"
   ]
  },
  {
   "cell_type": "markdown",
   "id": "08fd2569",
   "metadata": {
    "ExecuteTime": {
     "end_time": "2021-08-11T21:09:26.591931Z",
     "start_time": "2021-08-11T21:09:26.536934Z"
    }
   },
   "source": [
    "# Construindo visualizaçõ IMDB_movies"
   ]
  },
  {
   "cell_type": "markdown",
   "id": "e342b0a7",
   "metadata": {
    "heading_collapsed": true
   },
   "source": [
    "## Análise"
   ]
  },
  {
   "cell_type": "code",
   "execution_count": 33,
   "id": "6898a8fc",
   "metadata": {
    "ExecuteTime": {
     "end_time": "2021-08-12T12:02:31.016976Z",
     "start_time": "2021-08-12T12:02:31.002974Z"
    },
    "hidden": true
   },
   "outputs": [
    {
     "data": {
      "text/html": [
       "<div>\n",
       "<style scoped>\n",
       "    .dataframe tbody tr th:only-of-type {\n",
       "        vertical-align: middle;\n",
       "    }\n",
       "\n",
       "    .dataframe tbody tr th {\n",
       "        vertical-align: top;\n",
       "    }\n",
       "\n",
       "    .dataframe thead th {\n",
       "        text-align: right;\n",
       "    }\n",
       "</style>\n",
       "<table border=\"1\" class=\"dataframe\">\n",
       "  <thead>\n",
       "    <tr style=\"text-align: right;\">\n",
       "      <th></th>\n",
       "      <th>id</th>\n",
       "      <th>title</th>\n",
       "      <th>genre</th>\n",
       "      <th>director</th>\n",
       "      <th>actors</th>\n",
       "      <th>year</th>\n",
       "      <th>runtime</th>\n",
       "      <th>rating</th>\n",
       "      <th>votes</th>\n",
       "      <th>revenueMillions</th>\n",
       "      <th>metascore</th>\n",
       "    </tr>\n",
       "  </thead>\n",
       "  <tbody>\n",
       "    <tr>\n",
       "      <th>0</th>\n",
       "      <td>1</td>\n",
       "      <td>Guardians of the Galaxy</td>\n",
       "      <td>Action,Adventure,Sci-Fi</td>\n",
       "      <td>James Gunn</td>\n",
       "      <td>Chris Pratt, Vin Diesel, Bradley Cooper, Zoe S...</td>\n",
       "      <td>2014</td>\n",
       "      <td>121</td>\n",
       "      <td>8</td>\n",
       "      <td>757074</td>\n",
       "      <td>333.0</td>\n",
       "      <td>76.0</td>\n",
       "    </tr>\n",
       "    <tr>\n",
       "      <th>1</th>\n",
       "      <td>2</td>\n",
       "      <td>Prometheus</td>\n",
       "      <td>Adventure,Mystery,Sci-Fi</td>\n",
       "      <td>Ridley Scott</td>\n",
       "      <td>Noomi Rapace, Logan Marshall-Green, Michael Fa...</td>\n",
       "      <td>2012</td>\n",
       "      <td>124</td>\n",
       "      <td>7</td>\n",
       "      <td>485820</td>\n",
       "      <td>126.0</td>\n",
       "      <td>65.0</td>\n",
       "    </tr>\n",
       "    <tr>\n",
       "      <th>2</th>\n",
       "      <td>3</td>\n",
       "      <td>Split</td>\n",
       "      <td>Horror,Thriller</td>\n",
       "      <td>M. Night Shyamalan</td>\n",
       "      <td>James McAvoy, Anya Taylor-Joy, Haley Lu Richar...</td>\n",
       "      <td>2016</td>\n",
       "      <td>117</td>\n",
       "      <td>7</td>\n",
       "      <td>157606</td>\n",
       "      <td>138.0</td>\n",
       "      <td>62.0</td>\n",
       "    </tr>\n",
       "    <tr>\n",
       "      <th>3</th>\n",
       "      <td>4</td>\n",
       "      <td>Sing</td>\n",
       "      <td>Animation,Comedy,Family</td>\n",
       "      <td>Christophe Lourdelet</td>\n",
       "      <td>Matthew McConaughey,Reese Witherspoon, Seth Ma...</td>\n",
       "      <td>2016</td>\n",
       "      <td>108</td>\n",
       "      <td>7</td>\n",
       "      <td>60545</td>\n",
       "      <td>270.0</td>\n",
       "      <td>59.0</td>\n",
       "    </tr>\n",
       "    <tr>\n",
       "      <th>4</th>\n",
       "      <td>5</td>\n",
       "      <td>Suicide Squad</td>\n",
       "      <td>Action,Adventure,Fantasy</td>\n",
       "      <td>David Ayer</td>\n",
       "      <td>Will Smith, Jared Leto, Margot Robbie, Viola D...</td>\n",
       "      <td>2016</td>\n",
       "      <td>123</td>\n",
       "      <td>6</td>\n",
       "      <td>393727</td>\n",
       "      <td>325.0</td>\n",
       "      <td>40.0</td>\n",
       "    </tr>\n",
       "  </tbody>\n",
       "</table>\n",
       "</div>"
      ],
      "text/plain": [
       "   id                    title                     genre  \\\n",
       "0   1  Guardians of the Galaxy   Action,Adventure,Sci-Fi   \n",
       "1   2               Prometheus  Adventure,Mystery,Sci-Fi   \n",
       "2   3                    Split           Horror,Thriller   \n",
       "3   4                     Sing   Animation,Comedy,Family   \n",
       "4   5            Suicide Squad  Action,Adventure,Fantasy   \n",
       "\n",
       "               director                                             actors  \\\n",
       "0            James Gunn  Chris Pratt, Vin Diesel, Bradley Cooper, Zoe S...   \n",
       "1          Ridley Scott  Noomi Rapace, Logan Marshall-Green, Michael Fa...   \n",
       "2    M. Night Shyamalan  James McAvoy, Anya Taylor-Joy, Haley Lu Richar...   \n",
       "3  Christophe Lourdelet  Matthew McConaughey,Reese Witherspoon, Seth Ma...   \n",
       "4            David Ayer  Will Smith, Jared Leto, Margot Robbie, Viola D...   \n",
       "\n",
       "   year  runtime  rating   votes  revenueMillions  metascore  \n",
       "0  2014      121       8  757074            333.0       76.0  \n",
       "1  2012      124       7  485820            126.0       65.0  \n",
       "2  2016      117       7  157606            138.0       62.0  \n",
       "3  2016      108       7   60545            270.0       59.0  \n",
       "4  2016      123       6  393727            325.0       40.0  "
      ]
     },
     "execution_count": 33,
     "metadata": {},
     "output_type": "execute_result"
    }
   ],
   "source": [
    "data = IMDB_movies\n",
    "data.head()"
   ]
  },
  {
   "cell_type": "code",
   "execution_count": 34,
   "id": "e77c703a",
   "metadata": {
    "ExecuteTime": {
     "end_time": "2021-08-12T12:02:31.032976Z",
     "start_time": "2021-08-12T12:02:31.018977Z"
    },
    "hidden": true
   },
   "outputs": [
    {
     "name": "stdout",
     "output_type": "stream",
     "text": [
      "<class 'pandas.core.frame.DataFrame'>\n",
      "RangeIndex: 1000 entries, 0 to 999\n",
      "Data columns (total 11 columns):\n",
      " #   Column           Non-Null Count  Dtype  \n",
      "---  ------           --------------  -----  \n",
      " 0   id               1000 non-null   int64  \n",
      " 1   title            1000 non-null   object \n",
      " 2   genre            1000 non-null   object \n",
      " 3   director         1000 non-null   object \n",
      " 4   actors           1000 non-null   object \n",
      " 5   year             1000 non-null   int64  \n",
      " 6   runtime          1000 non-null   int64  \n",
      " 7   rating           1000 non-null   int64  \n",
      " 8   votes            1000 non-null   int64  \n",
      " 9   revenueMillions  872 non-null    float64\n",
      " 10  metascore        936 non-null    float64\n",
      "dtypes: float64(2), int64(5), object(4)\n",
      "memory usage: 86.1+ KB\n"
     ]
    }
   ],
   "source": [
    "data.info()"
   ]
  },
  {
   "cell_type": "code",
   "execution_count": 35,
   "id": "a258ac44",
   "metadata": {
    "ExecuteTime": {
     "end_time": "2021-08-12T12:02:31.048978Z",
     "start_time": "2021-08-12T12:02:31.033978Z"
    },
    "hidden": true
   },
   "outputs": [
    {
     "data": {
      "text/plain": [
       "id                   0\n",
       "title                0\n",
       "genre                0\n",
       "director             0\n",
       "actors               0\n",
       "year                 0\n",
       "runtime              0\n",
       "rating               0\n",
       "votes                0\n",
       "revenueMillions    128\n",
       "metascore           64\n",
       "dtype: int64"
      ]
     },
     "execution_count": 35,
     "metadata": {},
     "output_type": "execute_result"
    }
   ],
   "source": [
    "# colunas com valores nulos\n",
    "data.isnull().sum()"
   ]
  },
  {
   "cell_type": "code",
   "execution_count": 36,
   "id": "af6e127e",
   "metadata": {
    "ExecuteTime": {
     "end_time": "2021-08-12T12:02:31.064979Z",
     "start_time": "2021-08-12T12:02:31.050979Z"
    },
    "hidden": true
   },
   "outputs": [
    {
     "data": {
      "text/plain": [
       "0"
      ]
     },
     "execution_count": 36,
     "metadata": {},
     "output_type": "execute_result"
    }
   ],
   "source": [
    "# valores duplicados ? \n",
    "data.duplicated().sum()"
   ]
  },
  {
   "cell_type": "markdown",
   "id": "ec57267c",
   "metadata": {
    "ExecuteTime": {
     "end_time": "2021-08-11T21:26:04.662890Z",
     "start_time": "2021-08-11T21:26:04.648891Z"
    },
    "heading_collapsed": true
   },
   "source": [
    "## Filmes a partir de 2016"
   ]
  },
  {
   "cell_type": "code",
   "execution_count": 37,
   "id": "b4d3fc4e",
   "metadata": {
    "ExecuteTime": {
     "end_time": "2021-08-12T12:02:31.080981Z",
     "start_time": "2021-08-12T12:02:31.066984Z"
    },
    "hidden": true
   },
   "outputs": [
    {
     "name": "stdout",
     "output_type": "stream",
     "text": [
      "Ano mais recente: 2016\n",
      "Ano mais antigo: 2006\n"
     ]
    }
   ],
   "source": [
    "print(f\"Ano mais recente: {data['year'].max()}\")\n",
    "print(f\"Ano mais antigo: {data['year'].min()}\")"
   ]
  },
  {
   "cell_type": "markdown",
   "id": "59c17eac",
   "metadata": {
    "hidden": true
   },
   "source": [
    "Filtrando apenas o ano de 2016"
   ]
  },
  {
   "cell_type": "code",
   "execution_count": 38,
   "id": "3a371335",
   "metadata": {
    "ExecuteTime": {
     "end_time": "2021-08-12T12:02:31.096982Z",
     "start_time": "2021-08-12T12:02:31.083983Z"
    },
    "hidden": true
   },
   "outputs": [
    {
     "data": {
      "text/plain": [
       "(297, 11)"
      ]
     },
     "execution_count": 38,
     "metadata": {},
     "output_type": "execute_result"
    }
   ],
   "source": [
    "data2016 = data.loc[data['year'] == 2016]\n",
    "data2016.shape"
   ]
  },
  {
   "cell_type": "code",
   "execution_count": 39,
   "id": "edca6fcb",
   "metadata": {
    "ExecuteTime": {
     "end_time": "2021-08-12T12:02:31.112983Z",
     "start_time": "2021-08-12T12:02:31.098983Z"
    },
    "hidden": true
   },
   "outputs": [],
   "source": [
    "# 5 filmes mais votados de 2016\n",
    "filmesMaisVotados = data2016[['title','votes']].sort_values('votes', ascending=False).head()\n",
    "primeiroGrafico = filmesMaisVotados\n",
    "primeiroGrafico = primeiroGrafico.sort_values('votes')"
   ]
  },
  {
   "cell_type": "code",
   "execution_count": 40,
   "id": "64905943",
   "metadata": {
    "ExecuteTime": {
     "end_time": "2021-08-12T12:02:31.128985Z",
     "start_time": "2021-08-12T12:02:31.114985Z"
    },
    "hidden": true
   },
   "outputs": [
    {
     "data": {
      "text/html": [
       "<div>\n",
       "<style scoped>\n",
       "    .dataframe tbody tr th:only-of-type {\n",
       "        vertical-align: middle;\n",
       "    }\n",
       "\n",
       "    .dataframe tbody tr th {\n",
       "        vertical-align: top;\n",
       "    }\n",
       "\n",
       "    .dataframe thead th {\n",
       "        text-align: right;\n",
       "    }\n",
       "</style>\n",
       "<table border=\"1\" class=\"dataframe\">\n",
       "  <thead>\n",
       "    <tr style=\"text-align: right;\">\n",
       "      <th></th>\n",
       "      <th>director</th>\n",
       "      <th>rating</th>\n",
       "    </tr>\n",
       "  </thead>\n",
       "  <tbody>\n",
       "    <tr>\n",
       "      <th>0</th>\n",
       "      <td>Aamir Khan</td>\n",
       "      <td>9.0</td>\n",
       "    </tr>\n",
       "    <tr>\n",
       "      <th>392</th>\n",
       "      <td>Makoto Shinkai</td>\n",
       "      <td>9.0</td>\n",
       "    </tr>\n",
       "    <tr>\n",
       "      <th>465</th>\n",
       "      <td>Nitesh Tiwari</td>\n",
       "      <td>9.0</td>\n",
       "    </tr>\n",
       "    <tr>\n",
       "      <th>470</th>\n",
       "      <td>Olivier Nakache</td>\n",
       "      <td>9.0</td>\n",
       "    </tr>\n",
       "    <tr>\n",
       "      <th>108</th>\n",
       "      <td>Christopher Nolan</td>\n",
       "      <td>9.0</td>\n",
       "    </tr>\n",
       "    <tr>\n",
       "      <th>194</th>\n",
       "      <td>Florian Henckel von Donnersmarck</td>\n",
       "      <td>9.0</td>\n",
       "    </tr>\n",
       "  </tbody>\n",
       "</table>\n",
       "</div>"
      ],
      "text/plain": [
       "                             director  rating\n",
       "0                          Aamir Khan     9.0\n",
       "392                    Makoto Shinkai     9.0\n",
       "465                     Nitesh Tiwari     9.0\n",
       "470                   Olivier Nakache     9.0\n",
       "108                 Christopher Nolan     9.0\n",
       "194  Florian Henckel von Donnersmarck     9.0"
      ]
     },
     "execution_count": 40,
     "metadata": {},
     "output_type": "execute_result"
    }
   ],
   "source": [
    "df = data[['director','rating']].groupby('director').mean().reset_index().sort_values('rating', ascending=False)\n",
    "df.loc[df['rating'] == 9]"
   ]
  },
  {
   "cell_type": "code",
   "execution_count": 41,
   "id": "7c7f5c82",
   "metadata": {
    "ExecuteTime": {
     "end_time": "2021-08-12T12:02:31.144985Z",
     "start_time": "2021-08-12T12:02:31.130986Z"
    },
    "hidden": true
   },
   "outputs": [
    {
     "data": {
      "text/html": [
       "<div>\n",
       "<style scoped>\n",
       "    .dataframe tbody tr th:only-of-type {\n",
       "        vertical-align: middle;\n",
       "    }\n",
       "\n",
       "    .dataframe tbody tr th {\n",
       "        vertical-align: top;\n",
       "    }\n",
       "\n",
       "    .dataframe thead th {\n",
       "        text-align: right;\n",
       "    }\n",
       "</style>\n",
       "<table border=\"1\" class=\"dataframe\">\n",
       "  <thead>\n",
       "    <tr style=\"text-align: right;\">\n",
       "      <th></th>\n",
       "      <th>director</th>\n",
       "      <th>title</th>\n",
       "    </tr>\n",
       "  </thead>\n",
       "  <tbody>\n",
       "    <tr>\n",
       "      <th>518</th>\n",
       "      <td>Ridley Scott</td>\n",
       "      <td>8</td>\n",
       "    </tr>\n",
       "    <tr>\n",
       "      <th>391</th>\n",
       "      <td>M. Night Shyamalan</td>\n",
       "      <td>6</td>\n",
       "    </tr>\n",
       "    <tr>\n",
       "      <th>155</th>\n",
       "      <td>David Yates</td>\n",
       "      <td>6</td>\n",
       "    </tr>\n",
       "    <tr>\n",
       "      <th>422</th>\n",
       "      <td>Michael Bay</td>\n",
       "      <td>6</td>\n",
       "    </tr>\n",
       "    <tr>\n",
       "      <th>488</th>\n",
       "      <td>Paul W.S. Anderson</td>\n",
       "      <td>6</td>\n",
       "    </tr>\n",
       "  </tbody>\n",
       "</table>\n",
       "</div>"
      ],
      "text/plain": [
       "               director  title\n",
       "518        Ridley Scott      8\n",
       "391  M. Night Shyamalan      6\n",
       "155         David Yates      6\n",
       "422         Michael Bay      6\n",
       "488  Paul W.S. Anderson      6"
      ]
     },
     "execution_count": 41,
     "metadata": {},
     "output_type": "execute_result"
    }
   ],
   "source": [
    "# O diretor que mais publicou filmes\n",
    "data[['title','director']].groupby('director').count().reset_index().sort_values('title',ascending=False).head()"
   ]
  },
  {
   "cell_type": "code",
   "execution_count": 42,
   "id": "93148874",
   "metadata": {
    "ExecuteTime": {
     "end_time": "2021-08-12T12:02:31.160987Z",
     "start_time": "2021-08-12T12:02:31.145987Z"
    },
    "hidden": true
   },
   "outputs": [
    {
     "data": {
      "text/html": [
       "<div>\n",
       "<style scoped>\n",
       "    .dataframe tbody tr th:only-of-type {\n",
       "        vertical-align: middle;\n",
       "    }\n",
       "\n",
       "    .dataframe tbody tr th {\n",
       "        vertical-align: top;\n",
       "    }\n",
       "\n",
       "    .dataframe thead th {\n",
       "        text-align: right;\n",
       "    }\n",
       "</style>\n",
       "<table border=\"1\" class=\"dataframe\">\n",
       "  <thead>\n",
       "    <tr style=\"text-align: right;\">\n",
       "      <th></th>\n",
       "      <th>director</th>\n",
       "      <th>title</th>\n",
       "      <th>votes</th>\n",
       "      <th>rating</th>\n",
       "      <th>year</th>\n",
       "    </tr>\n",
       "  </thead>\n",
       "  <tbody>\n",
       "    <tr>\n",
       "      <th>54</th>\n",
       "      <td>Christopher Nolan</td>\n",
       "      <td>The Dark Knight</td>\n",
       "      <td>1791916</td>\n",
       "      <td>9</td>\n",
       "      <td>2008</td>\n",
       "    </tr>\n",
       "    <tr>\n",
       "      <th>80</th>\n",
       "      <td>Christopher Nolan</td>\n",
       "      <td>Inception</td>\n",
       "      <td>1583625</td>\n",
       "      <td>9</td>\n",
       "      <td>2010</td>\n",
       "    </tr>\n",
       "    <tr>\n",
       "      <th>124</th>\n",
       "      <td>Christopher Nolan</td>\n",
       "      <td>The Dark Knight Rises</td>\n",
       "      <td>1222645</td>\n",
       "      <td>9</td>\n",
       "      <td>2012</td>\n",
       "    </tr>\n",
       "    <tr>\n",
       "      <th>36</th>\n",
       "      <td>Christopher Nolan</td>\n",
       "      <td>Interstellar</td>\n",
       "      <td>1047747</td>\n",
       "      <td>9</td>\n",
       "      <td>2014</td>\n",
       "    </tr>\n",
       "    <tr>\n",
       "      <th>76</th>\n",
       "      <td>Joss Whedon</td>\n",
       "      <td>The Avengers</td>\n",
       "      <td>1045588</td>\n",
       "      <td>8</td>\n",
       "      <td>2012</td>\n",
       "    </tr>\n",
       "  </tbody>\n",
       "</table>\n",
       "</div>"
      ],
      "text/plain": [
       "              director                  title    votes  rating  year\n",
       "54   Christopher Nolan        The Dark Knight  1791916       9  2008\n",
       "80   Christopher Nolan              Inception  1583625       9  2010\n",
       "124  Christopher Nolan  The Dark Knight Rises  1222645       9  2012\n",
       "36   Christopher Nolan           Interstellar  1047747       9  2014\n",
       "76         Joss Whedon           The Avengers  1045588       8  2012"
      ]
     },
     "execution_count": 42,
     "metadata": {},
     "output_type": "execute_result"
    }
   ],
   "source": [
    "# O diretor com filmes mais votados\n",
    "data[['director','title','votes','rating','year']].sort_values('votes',ascending=False).head()"
   ]
  },
  {
   "cell_type": "code",
   "execution_count": 43,
   "id": "d57937f2",
   "metadata": {
    "ExecuteTime": {
     "end_time": "2021-08-12T12:02:31.191989Z",
     "start_time": "2021-08-12T12:02:31.162988Z"
    },
    "hidden": true
   },
   "outputs": [
    {
     "data": {
      "text/html": [
       "<div>\n",
       "<style scoped>\n",
       "    .dataframe tbody tr th:only-of-type {\n",
       "        vertical-align: middle;\n",
       "    }\n",
       "\n",
       "    .dataframe tbody tr th {\n",
       "        vertical-align: top;\n",
       "    }\n",
       "\n",
       "    .dataframe thead th {\n",
       "        text-align: right;\n",
       "    }\n",
       "</style>\n",
       "<table border=\"1\" class=\"dataframe\">\n",
       "  <thead>\n",
       "    <tr style=\"text-align: right;\">\n",
       "      <th></th>\n",
       "      <th>director</th>\n",
       "      <th>title</th>\n",
       "      <th>votes</th>\n",
       "      <th>rating</th>\n",
       "      <th>year</th>\n",
       "      <th>genre</th>\n",
       "    </tr>\n",
       "  </thead>\n",
       "  <tbody>\n",
       "    <tr>\n",
       "      <th>36</th>\n",
       "      <td>Christopher Nolan</td>\n",
       "      <td>Interstellar</td>\n",
       "      <td>1047747</td>\n",
       "      <td>9</td>\n",
       "      <td>2014</td>\n",
       "      <td>Adventure,Drama,Sci-Fi</td>\n",
       "    </tr>\n",
       "    <tr>\n",
       "      <th>54</th>\n",
       "      <td>Christopher Nolan</td>\n",
       "      <td>The Dark Knight</td>\n",
       "      <td>1791916</td>\n",
       "      <td>9</td>\n",
       "      <td>2008</td>\n",
       "      <td>Action,Crime,Drama</td>\n",
       "    </tr>\n",
       "    <tr>\n",
       "      <th>64</th>\n",
       "      <td>Christopher Nolan</td>\n",
       "      <td>The Prestige</td>\n",
       "      <td>913152</td>\n",
       "      <td>9</td>\n",
       "      <td>2006</td>\n",
       "      <td>Drama,Mystery,Sci-Fi</td>\n",
       "    </tr>\n",
       "    <tr>\n",
       "      <th>80</th>\n",
       "      <td>Christopher Nolan</td>\n",
       "      <td>Inception</td>\n",
       "      <td>1583625</td>\n",
       "      <td>9</td>\n",
       "      <td>2010</td>\n",
       "      <td>Action,Adventure,Sci-Fi</td>\n",
       "    </tr>\n",
       "    <tr>\n",
       "      <th>124</th>\n",
       "      <td>Christopher Nolan</td>\n",
       "      <td>The Dark Knight Rises</td>\n",
       "      <td>1222645</td>\n",
       "      <td>9</td>\n",
       "      <td>2012</td>\n",
       "      <td>Action,Thriller</td>\n",
       "    </tr>\n",
       "    <tr>\n",
       "      <th>1</th>\n",
       "      <td>Ridley Scott</td>\n",
       "      <td>Prometheus</td>\n",
       "      <td>485820</td>\n",
       "      <td>7</td>\n",
       "      <td>2012</td>\n",
       "      <td>Adventure,Mystery,Sci-Fi</td>\n",
       "    </tr>\n",
       "    <tr>\n",
       "      <th>102</th>\n",
       "      <td>Ridley Scott</td>\n",
       "      <td>The Martian</td>\n",
       "      <td>556097</td>\n",
       "      <td>8</td>\n",
       "      <td>2015</td>\n",
       "      <td>Adventure,Drama,Sci-Fi</td>\n",
       "    </tr>\n",
       "    <tr>\n",
       "      <th>387</th>\n",
       "      <td>Ridley Scott</td>\n",
       "      <td>Robin Hood</td>\n",
       "      <td>221117</td>\n",
       "      <td>7</td>\n",
       "      <td>2010</td>\n",
       "      <td>Action,Adventure,Drama</td>\n",
       "    </tr>\n",
       "    <tr>\n",
       "      <th>470</th>\n",
       "      <td>Ridley Scott</td>\n",
       "      <td>American Gangster</td>\n",
       "      <td>337835</td>\n",
       "      <td>8</td>\n",
       "      <td>2007</td>\n",
       "      <td>Biography,Crime,Drama</td>\n",
       "    </tr>\n",
       "    <tr>\n",
       "      <th>516</th>\n",
       "      <td>Ridley Scott</td>\n",
       "      <td>Exodus: Gods and Kings</td>\n",
       "      <td>137299</td>\n",
       "      <td>6</td>\n",
       "      <td>2014</td>\n",
       "      <td>Action,Adventure,Drama</td>\n",
       "    </tr>\n",
       "    <tr>\n",
       "      <th>521</th>\n",
       "      <td>Ridley Scott</td>\n",
       "      <td>The Counselor</td>\n",
       "      <td>84927</td>\n",
       "      <td>5</td>\n",
       "      <td>2013</td>\n",
       "      <td>Crime,Drama,Thriller</td>\n",
       "    </tr>\n",
       "    <tr>\n",
       "      <th>530</th>\n",
       "      <td>Ridley Scott</td>\n",
       "      <td>A Good Year</td>\n",
       "      <td>74674</td>\n",
       "      <td>7</td>\n",
       "      <td>2006</td>\n",
       "      <td>Comedy,Drama,Romance</td>\n",
       "    </tr>\n",
       "    <tr>\n",
       "      <th>737</th>\n",
       "      <td>Ridley Scott</td>\n",
       "      <td>Body of Lies</td>\n",
       "      <td>182305</td>\n",
       "      <td>7</td>\n",
       "      <td>2008</td>\n",
       "      <td>Action,Drama,Romance</td>\n",
       "    </tr>\n",
       "  </tbody>\n",
       "</table>\n",
       "</div>"
      ],
      "text/plain": [
       "              director                   title    votes  rating  year  \\\n",
       "36   Christopher Nolan            Interstellar  1047747       9  2014   \n",
       "54   Christopher Nolan         The Dark Knight  1791916       9  2008   \n",
       "64   Christopher Nolan            The Prestige   913152       9  2006   \n",
       "80   Christopher Nolan               Inception  1583625       9  2010   \n",
       "124  Christopher Nolan   The Dark Knight Rises  1222645       9  2012   \n",
       "1         Ridley Scott              Prometheus   485820       7  2012   \n",
       "102       Ridley Scott             The Martian   556097       8  2015   \n",
       "387       Ridley Scott              Robin Hood   221117       7  2010   \n",
       "470       Ridley Scott       American Gangster   337835       8  2007   \n",
       "516       Ridley Scott  Exodus: Gods and Kings   137299       6  2014   \n",
       "521       Ridley Scott           The Counselor    84927       5  2013   \n",
       "530       Ridley Scott             A Good Year    74674       7  2006   \n",
       "737       Ridley Scott            Body of Lies   182305       7  2008   \n",
       "\n",
       "                        genre  \n",
       "36     Adventure,Drama,Sci-Fi  \n",
       "54         Action,Crime,Drama  \n",
       "64       Drama,Mystery,Sci-Fi  \n",
       "80    Action,Adventure,Sci-Fi  \n",
       "124           Action,Thriller  \n",
       "1    Adventure,Mystery,Sci-Fi  \n",
       "102    Adventure,Drama,Sci-Fi  \n",
       "387    Action,Adventure,Drama  \n",
       "470     Biography,Crime,Drama  \n",
       "516    Action,Adventure,Drama  \n",
       "521      Crime,Drama,Thriller  \n",
       "530      Comedy,Drama,Romance  \n",
       "737      Action,Drama,Romance  "
      ]
     },
     "execution_count": 43,
     "metadata": {},
     "output_type": "execute_result"
    }
   ],
   "source": [
    "# Comparando o histórico de votos do diretor que mais publicou filmes com mais votado \n",
    "df1 = data[['director','title','votes','rating','year','genre']].loc[data['director'] == 'Christopher Nolan']\n",
    "df2 = data[['director','title','votes','rating','year','genre']].loc[data['director'] == 'Ridley Scott'] \n",
    "segundoGrafico = pd.concat([df1,df2])\n",
    "segundoGrafico"
   ]
  },
  {
   "cell_type": "markdown",
   "id": "21b038c6",
   "metadata": {
    "heading_collapsed": true
   },
   "source": [
    "## Gráficos"
   ]
  },
  {
   "cell_type": "markdown",
   "id": "8d270537",
   "metadata": {
    "ExecuteTime": {
     "end_time": "2021-08-12T06:46:51.255328Z",
     "start_time": "2021-08-12T06:46:51.242340Z"
    },
    "hidden": true
   },
   "source": [
    "#### Gráfico 1 : Porque escolhi esse gráfico : \n",
    "\n",
    "> Queria saber qual foi o filme mais votado. <br>Se fosse uma competição, o filme Deadpool ganharia disparado com pouco mais de 600 mil votos."
   ]
  },
  {
   "cell_type": "code",
   "execution_count": 52,
   "id": "8e297c3b",
   "metadata": {
    "ExecuteTime": {
     "end_time": "2021-08-12T12:15:37.984457Z",
     "start_time": "2021-08-12T12:15:37.912463Z"
    },
    "hidden": true
   },
   "outputs": [
    {
     "data": {
      "application/vnd.plotly.v1+json": {
       "config": {
        "plotlyServerURL": "https://plot.ly"
       },
       "data": [
        {
         "alignmentgroup": "True",
         "hovertemplate": "votes=%{x}<br>title=%{y}<br>color=%{marker.color}<extra></extra>",
         "legendgroup": "",
         "marker": {
          "color": [
           1,
           2,
           3,
           4,
           5
          ],
          "coloraxis": "coloraxis",
          "pattern": {
           "shape": ""
          }
         },
         "name": "",
         "offsetgroup": "",
         "orientation": "h",
         "showlegend": false,
         "textposition": "auto",
         "type": "bar",
         "x": [
          340798,
          393727,
          411656,
          472307,
          627797
         ],
         "xaxis": "x",
         "y": [
          "Arrival",
          "Suicide Squad",
          "Captain America: Civil War",
          "Batman v Superman: Dawn of Justice",
          "Deadpool"
         ],
         "yaxis": "y"
        }
       ],
       "layout": {
        "barmode": "relative",
        "coloraxis": {
         "colorbar": {
          "title": {
           "text": "color"
          }
         },
         "colorscale": [
          [
           0,
           "#0d0887"
          ],
          [
           0.1111111111111111,
           "#46039f"
          ],
          [
           0.2222222222222222,
           "#7201a8"
          ],
          [
           0.3333333333333333,
           "#9c179e"
          ],
          [
           0.4444444444444444,
           "#bd3786"
          ],
          [
           0.5555555555555556,
           "#d8576b"
          ],
          [
           0.6666666666666666,
           "#ed7953"
          ],
          [
           0.7777777777777778,
           "#fb9f3a"
          ],
          [
           0.8888888888888888,
           "#fdca26"
          ],
          [
           1,
           "#f0f921"
          ]
         ]
        },
        "height": 600,
        "legend": {
         "tracegroupgap": 0
        },
        "template": {
         "data": {
          "bar": [
           {
            "error_x": {
             "color": "#2a3f5f"
            },
            "error_y": {
             "color": "#2a3f5f"
            },
            "marker": {
             "line": {
              "color": "#E5ECF6",
              "width": 0.5
             },
             "pattern": {
              "fillmode": "overlay",
              "size": 10,
              "solidity": 0.2
             }
            },
            "type": "bar"
           }
          ],
          "barpolar": [
           {
            "marker": {
             "line": {
              "color": "#E5ECF6",
              "width": 0.5
             },
             "pattern": {
              "fillmode": "overlay",
              "size": 10,
              "solidity": 0.2
             }
            },
            "type": "barpolar"
           }
          ],
          "carpet": [
           {
            "aaxis": {
             "endlinecolor": "#2a3f5f",
             "gridcolor": "white",
             "linecolor": "white",
             "minorgridcolor": "white",
             "startlinecolor": "#2a3f5f"
            },
            "baxis": {
             "endlinecolor": "#2a3f5f",
             "gridcolor": "white",
             "linecolor": "white",
             "minorgridcolor": "white",
             "startlinecolor": "#2a3f5f"
            },
            "type": "carpet"
           }
          ],
          "choropleth": [
           {
            "colorbar": {
             "outlinewidth": 0,
             "ticks": ""
            },
            "type": "choropleth"
           }
          ],
          "contour": [
           {
            "colorbar": {
             "outlinewidth": 0,
             "ticks": ""
            },
            "colorscale": [
             [
              0,
              "#0d0887"
             ],
             [
              0.1111111111111111,
              "#46039f"
             ],
             [
              0.2222222222222222,
              "#7201a8"
             ],
             [
              0.3333333333333333,
              "#9c179e"
             ],
             [
              0.4444444444444444,
              "#bd3786"
             ],
             [
              0.5555555555555556,
              "#d8576b"
             ],
             [
              0.6666666666666666,
              "#ed7953"
             ],
             [
              0.7777777777777778,
              "#fb9f3a"
             ],
             [
              0.8888888888888888,
              "#fdca26"
             ],
             [
              1,
              "#f0f921"
             ]
            ],
            "type": "contour"
           }
          ],
          "contourcarpet": [
           {
            "colorbar": {
             "outlinewidth": 0,
             "ticks": ""
            },
            "type": "contourcarpet"
           }
          ],
          "heatmap": [
           {
            "colorbar": {
             "outlinewidth": 0,
             "ticks": ""
            },
            "colorscale": [
             [
              0,
              "#0d0887"
             ],
             [
              0.1111111111111111,
              "#46039f"
             ],
             [
              0.2222222222222222,
              "#7201a8"
             ],
             [
              0.3333333333333333,
              "#9c179e"
             ],
             [
              0.4444444444444444,
              "#bd3786"
             ],
             [
              0.5555555555555556,
              "#d8576b"
             ],
             [
              0.6666666666666666,
              "#ed7953"
             ],
             [
              0.7777777777777778,
              "#fb9f3a"
             ],
             [
              0.8888888888888888,
              "#fdca26"
             ],
             [
              1,
              "#f0f921"
             ]
            ],
            "type": "heatmap"
           }
          ],
          "heatmapgl": [
           {
            "colorbar": {
             "outlinewidth": 0,
             "ticks": ""
            },
            "colorscale": [
             [
              0,
              "#0d0887"
             ],
             [
              0.1111111111111111,
              "#46039f"
             ],
             [
              0.2222222222222222,
              "#7201a8"
             ],
             [
              0.3333333333333333,
              "#9c179e"
             ],
             [
              0.4444444444444444,
              "#bd3786"
             ],
             [
              0.5555555555555556,
              "#d8576b"
             ],
             [
              0.6666666666666666,
              "#ed7953"
             ],
             [
              0.7777777777777778,
              "#fb9f3a"
             ],
             [
              0.8888888888888888,
              "#fdca26"
             ],
             [
              1,
              "#f0f921"
             ]
            ],
            "type": "heatmapgl"
           }
          ],
          "histogram": [
           {
            "marker": {
             "pattern": {
              "fillmode": "overlay",
              "size": 10,
              "solidity": 0.2
             }
            },
            "type": "histogram"
           }
          ],
          "histogram2d": [
           {
            "colorbar": {
             "outlinewidth": 0,
             "ticks": ""
            },
            "colorscale": [
             [
              0,
              "#0d0887"
             ],
             [
              0.1111111111111111,
              "#46039f"
             ],
             [
              0.2222222222222222,
              "#7201a8"
             ],
             [
              0.3333333333333333,
              "#9c179e"
             ],
             [
              0.4444444444444444,
              "#bd3786"
             ],
             [
              0.5555555555555556,
              "#d8576b"
             ],
             [
              0.6666666666666666,
              "#ed7953"
             ],
             [
              0.7777777777777778,
              "#fb9f3a"
             ],
             [
              0.8888888888888888,
              "#fdca26"
             ],
             [
              1,
              "#f0f921"
             ]
            ],
            "type": "histogram2d"
           }
          ],
          "histogram2dcontour": [
           {
            "colorbar": {
             "outlinewidth": 0,
             "ticks": ""
            },
            "colorscale": [
             [
              0,
              "#0d0887"
             ],
             [
              0.1111111111111111,
              "#46039f"
             ],
             [
              0.2222222222222222,
              "#7201a8"
             ],
             [
              0.3333333333333333,
              "#9c179e"
             ],
             [
              0.4444444444444444,
              "#bd3786"
             ],
             [
              0.5555555555555556,
              "#d8576b"
             ],
             [
              0.6666666666666666,
              "#ed7953"
             ],
             [
              0.7777777777777778,
              "#fb9f3a"
             ],
             [
              0.8888888888888888,
              "#fdca26"
             ],
             [
              1,
              "#f0f921"
             ]
            ],
            "type": "histogram2dcontour"
           }
          ],
          "mesh3d": [
           {
            "colorbar": {
             "outlinewidth": 0,
             "ticks": ""
            },
            "type": "mesh3d"
           }
          ],
          "parcoords": [
           {
            "line": {
             "colorbar": {
              "outlinewidth": 0,
              "ticks": ""
             }
            },
            "type": "parcoords"
           }
          ],
          "pie": [
           {
            "automargin": true,
            "type": "pie"
           }
          ],
          "scatter": [
           {
            "marker": {
             "colorbar": {
              "outlinewidth": 0,
              "ticks": ""
             }
            },
            "type": "scatter"
           }
          ],
          "scatter3d": [
           {
            "line": {
             "colorbar": {
              "outlinewidth": 0,
              "ticks": ""
             }
            },
            "marker": {
             "colorbar": {
              "outlinewidth": 0,
              "ticks": ""
             }
            },
            "type": "scatter3d"
           }
          ],
          "scattercarpet": [
           {
            "marker": {
             "colorbar": {
              "outlinewidth": 0,
              "ticks": ""
             }
            },
            "type": "scattercarpet"
           }
          ],
          "scattergeo": [
           {
            "marker": {
             "colorbar": {
              "outlinewidth": 0,
              "ticks": ""
             }
            },
            "type": "scattergeo"
           }
          ],
          "scattergl": [
           {
            "marker": {
             "colorbar": {
              "outlinewidth": 0,
              "ticks": ""
             }
            },
            "type": "scattergl"
           }
          ],
          "scattermapbox": [
           {
            "marker": {
             "colorbar": {
              "outlinewidth": 0,
              "ticks": ""
             }
            },
            "type": "scattermapbox"
           }
          ],
          "scatterpolar": [
           {
            "marker": {
             "colorbar": {
              "outlinewidth": 0,
              "ticks": ""
             }
            },
            "type": "scatterpolar"
           }
          ],
          "scatterpolargl": [
           {
            "marker": {
             "colorbar": {
              "outlinewidth": 0,
              "ticks": ""
             }
            },
            "type": "scatterpolargl"
           }
          ],
          "scatterternary": [
           {
            "marker": {
             "colorbar": {
              "outlinewidth": 0,
              "ticks": ""
             }
            },
            "type": "scatterternary"
           }
          ],
          "surface": [
           {
            "colorbar": {
             "outlinewidth": 0,
             "ticks": ""
            },
            "colorscale": [
             [
              0,
              "#0d0887"
             ],
             [
              0.1111111111111111,
              "#46039f"
             ],
             [
              0.2222222222222222,
              "#7201a8"
             ],
             [
              0.3333333333333333,
              "#9c179e"
             ],
             [
              0.4444444444444444,
              "#bd3786"
             ],
             [
              0.5555555555555556,
              "#d8576b"
             ],
             [
              0.6666666666666666,
              "#ed7953"
             ],
             [
              0.7777777777777778,
              "#fb9f3a"
             ],
             [
              0.8888888888888888,
              "#fdca26"
             ],
             [
              1,
              "#f0f921"
             ]
            ],
            "type": "surface"
           }
          ],
          "table": [
           {
            "cells": {
             "fill": {
              "color": "#EBF0F8"
             },
             "line": {
              "color": "white"
             }
            },
            "header": {
             "fill": {
              "color": "#C8D4E3"
             },
             "line": {
              "color": "white"
             }
            },
            "type": "table"
           }
          ]
         },
         "layout": {
          "annotationdefaults": {
           "arrowcolor": "#2a3f5f",
           "arrowhead": 0,
           "arrowwidth": 1
          },
          "autotypenumbers": "strict",
          "coloraxis": {
           "colorbar": {
            "outlinewidth": 0,
            "ticks": ""
           }
          },
          "colorscale": {
           "diverging": [
            [
             0,
             "#8e0152"
            ],
            [
             0.1,
             "#c51b7d"
            ],
            [
             0.2,
             "#de77ae"
            ],
            [
             0.3,
             "#f1b6da"
            ],
            [
             0.4,
             "#fde0ef"
            ],
            [
             0.5,
             "#f7f7f7"
            ],
            [
             0.6,
             "#e6f5d0"
            ],
            [
             0.7,
             "#b8e186"
            ],
            [
             0.8,
             "#7fbc41"
            ],
            [
             0.9,
             "#4d9221"
            ],
            [
             1,
             "#276419"
            ]
           ],
           "sequential": [
            [
             0,
             "#0d0887"
            ],
            [
             0.1111111111111111,
             "#46039f"
            ],
            [
             0.2222222222222222,
             "#7201a8"
            ],
            [
             0.3333333333333333,
             "#9c179e"
            ],
            [
             0.4444444444444444,
             "#bd3786"
            ],
            [
             0.5555555555555556,
             "#d8576b"
            ],
            [
             0.6666666666666666,
             "#ed7953"
            ],
            [
             0.7777777777777778,
             "#fb9f3a"
            ],
            [
             0.8888888888888888,
             "#fdca26"
            ],
            [
             1,
             "#f0f921"
            ]
           ],
           "sequentialminus": [
            [
             0,
             "#0d0887"
            ],
            [
             0.1111111111111111,
             "#46039f"
            ],
            [
             0.2222222222222222,
             "#7201a8"
            ],
            [
             0.3333333333333333,
             "#9c179e"
            ],
            [
             0.4444444444444444,
             "#bd3786"
            ],
            [
             0.5555555555555556,
             "#d8576b"
            ],
            [
             0.6666666666666666,
             "#ed7953"
            ],
            [
             0.7777777777777778,
             "#fb9f3a"
            ],
            [
             0.8888888888888888,
             "#fdca26"
            ],
            [
             1,
             "#f0f921"
            ]
           ]
          },
          "colorway": [
           "#636efa",
           "#EF553B",
           "#00cc96",
           "#ab63fa",
           "#FFA15A",
           "#19d3f3",
           "#FF6692",
           "#B6E880",
           "#FF97FF",
           "#FECB52"
          ],
          "font": {
           "color": "#2a3f5f"
          },
          "geo": {
           "bgcolor": "white",
           "lakecolor": "white",
           "landcolor": "#E5ECF6",
           "showlakes": true,
           "showland": true,
           "subunitcolor": "white"
          },
          "hoverlabel": {
           "align": "left"
          },
          "hovermode": "closest",
          "mapbox": {
           "style": "light"
          },
          "paper_bgcolor": "white",
          "plot_bgcolor": "#E5ECF6",
          "polar": {
           "angularaxis": {
            "gridcolor": "white",
            "linecolor": "white",
            "ticks": ""
           },
           "bgcolor": "#E5ECF6",
           "radialaxis": {
            "gridcolor": "white",
            "linecolor": "white",
            "ticks": ""
           }
          },
          "scene": {
           "xaxis": {
            "backgroundcolor": "#E5ECF6",
            "gridcolor": "white",
            "gridwidth": 2,
            "linecolor": "white",
            "showbackground": true,
            "ticks": "",
            "zerolinecolor": "white"
           },
           "yaxis": {
            "backgroundcolor": "#E5ECF6",
            "gridcolor": "white",
            "gridwidth": 2,
            "linecolor": "white",
            "showbackground": true,
            "ticks": "",
            "zerolinecolor": "white"
           },
           "zaxis": {
            "backgroundcolor": "#E5ECF6",
            "gridcolor": "white",
            "gridwidth": 2,
            "linecolor": "white",
            "showbackground": true,
            "ticks": "",
            "zerolinecolor": "white"
           }
          },
          "shapedefaults": {
           "line": {
            "color": "#2a3f5f"
           }
          },
          "ternary": {
           "aaxis": {
            "gridcolor": "white",
            "linecolor": "white",
            "ticks": ""
           },
           "baxis": {
            "gridcolor": "white",
            "linecolor": "white",
            "ticks": ""
           },
           "bgcolor": "#E5ECF6",
           "caxis": {
            "gridcolor": "white",
            "linecolor": "white",
            "ticks": ""
           }
          },
          "title": {
           "x": 0.05
          },
          "xaxis": {
           "automargin": true,
           "gridcolor": "white",
           "linecolor": "white",
           "ticks": "",
           "title": {
            "standoff": 15
           },
           "zerolinecolor": "white",
           "zerolinewidth": 2
          },
          "yaxis": {
           "automargin": true,
           "gridcolor": "white",
           "linecolor": "white",
           "ticks": "",
           "title": {
            "standoff": 15
           },
           "zerolinecolor": "white",
           "zerolinewidth": 2
          }
         }
        },
        "title": {
         "text": "Os 5 Filmes Mais Votados de 2016"
        },
        "width": 900,
        "xaxis": {
         "anchor": "y",
         "domain": [
          0,
          1
         ],
         "title": {
          "text": "votes"
         }
        },
        "yaxis": {
         "anchor": "x",
         "domain": [
          0,
          1
         ],
         "title": {
          "text": "title"
         }
        }
       }
      },
      "text/html": [
       "<div>                            <div id=\"9c2ccbc6-7cdd-481d-a458-d2d2d6a2ecf4\" class=\"plotly-graph-div\" style=\"height:600px; width:900px;\"></div>            <script type=\"text/javascript\">                require([\"plotly\"], function(Plotly) {                    window.PLOTLYENV=window.PLOTLYENV || {};                                    if (document.getElementById(\"9c2ccbc6-7cdd-481d-a458-d2d2d6a2ecf4\")) {                    Plotly.newPlot(                        \"9c2ccbc6-7cdd-481d-a458-d2d2d6a2ecf4\",                        [{\"alignmentgroup\":\"True\",\"hovertemplate\":\"votes=%{x}<br>title=%{y}<br>color=%{marker.color}<extra></extra>\",\"legendgroup\":\"\",\"marker\":{\"color\":[1,2,3,4,5],\"coloraxis\":\"coloraxis\",\"pattern\":{\"shape\":\"\"}},\"name\":\"\",\"offsetgroup\":\"\",\"orientation\":\"h\",\"showlegend\":false,\"textposition\":\"auto\",\"type\":\"bar\",\"x\":[340798,393727,411656,472307,627797],\"xaxis\":\"x\",\"y\":[\"Arrival\",\"Suicide Squad\",\"Captain America: Civil War\",\"Batman v Superman: Dawn of Justice\",\"Deadpool\"],\"yaxis\":\"y\"}],                        {\"barmode\":\"relative\",\"coloraxis\":{\"colorbar\":{\"title\":{\"text\":\"color\"}},\"colorscale\":[[0.0,\"#0d0887\"],[0.1111111111111111,\"#46039f\"],[0.2222222222222222,\"#7201a8\"],[0.3333333333333333,\"#9c179e\"],[0.4444444444444444,\"#bd3786\"],[0.5555555555555556,\"#d8576b\"],[0.6666666666666666,\"#ed7953\"],[0.7777777777777778,\"#fb9f3a\"],[0.8888888888888888,\"#fdca26\"],[1.0,\"#f0f921\"]]},\"height\":600,\"legend\":{\"tracegroupgap\":0},\"template\":{\"data\":{\"bar\":[{\"error_x\":{\"color\":\"#2a3f5f\"},\"error_y\":{\"color\":\"#2a3f5f\"},\"marker\":{\"line\":{\"color\":\"#E5ECF6\",\"width\":0.5},\"pattern\":{\"fillmode\":\"overlay\",\"size\":10,\"solidity\":0.2}},\"type\":\"bar\"}],\"barpolar\":[{\"marker\":{\"line\":{\"color\":\"#E5ECF6\",\"width\":0.5},\"pattern\":{\"fillmode\":\"overlay\",\"size\":10,\"solidity\":0.2}},\"type\":\"barpolar\"}],\"carpet\":[{\"aaxis\":{\"endlinecolor\":\"#2a3f5f\",\"gridcolor\":\"white\",\"linecolor\":\"white\",\"minorgridcolor\":\"white\",\"startlinecolor\":\"#2a3f5f\"},\"baxis\":{\"endlinecolor\":\"#2a3f5f\",\"gridcolor\":\"white\",\"linecolor\":\"white\",\"minorgridcolor\":\"white\",\"startlinecolor\":\"#2a3f5f\"},\"type\":\"carpet\"}],\"choropleth\":[{\"colorbar\":{\"outlinewidth\":0,\"ticks\":\"\"},\"type\":\"choropleth\"}],\"contour\":[{\"colorbar\":{\"outlinewidth\":0,\"ticks\":\"\"},\"colorscale\":[[0.0,\"#0d0887\"],[0.1111111111111111,\"#46039f\"],[0.2222222222222222,\"#7201a8\"],[0.3333333333333333,\"#9c179e\"],[0.4444444444444444,\"#bd3786\"],[0.5555555555555556,\"#d8576b\"],[0.6666666666666666,\"#ed7953\"],[0.7777777777777778,\"#fb9f3a\"],[0.8888888888888888,\"#fdca26\"],[1.0,\"#f0f921\"]],\"type\":\"contour\"}],\"contourcarpet\":[{\"colorbar\":{\"outlinewidth\":0,\"ticks\":\"\"},\"type\":\"contourcarpet\"}],\"heatmap\":[{\"colorbar\":{\"outlinewidth\":0,\"ticks\":\"\"},\"colorscale\":[[0.0,\"#0d0887\"],[0.1111111111111111,\"#46039f\"],[0.2222222222222222,\"#7201a8\"],[0.3333333333333333,\"#9c179e\"],[0.4444444444444444,\"#bd3786\"],[0.5555555555555556,\"#d8576b\"],[0.6666666666666666,\"#ed7953\"],[0.7777777777777778,\"#fb9f3a\"],[0.8888888888888888,\"#fdca26\"],[1.0,\"#f0f921\"]],\"type\":\"heatmap\"}],\"heatmapgl\":[{\"colorbar\":{\"outlinewidth\":0,\"ticks\":\"\"},\"colorscale\":[[0.0,\"#0d0887\"],[0.1111111111111111,\"#46039f\"],[0.2222222222222222,\"#7201a8\"],[0.3333333333333333,\"#9c179e\"],[0.4444444444444444,\"#bd3786\"],[0.5555555555555556,\"#d8576b\"],[0.6666666666666666,\"#ed7953\"],[0.7777777777777778,\"#fb9f3a\"],[0.8888888888888888,\"#fdca26\"],[1.0,\"#f0f921\"]],\"type\":\"heatmapgl\"}],\"histogram\":[{\"marker\":{\"pattern\":{\"fillmode\":\"overlay\",\"size\":10,\"solidity\":0.2}},\"type\":\"histogram\"}],\"histogram2d\":[{\"colorbar\":{\"outlinewidth\":0,\"ticks\":\"\"},\"colorscale\":[[0.0,\"#0d0887\"],[0.1111111111111111,\"#46039f\"],[0.2222222222222222,\"#7201a8\"],[0.3333333333333333,\"#9c179e\"],[0.4444444444444444,\"#bd3786\"],[0.5555555555555556,\"#d8576b\"],[0.6666666666666666,\"#ed7953\"],[0.7777777777777778,\"#fb9f3a\"],[0.8888888888888888,\"#fdca26\"],[1.0,\"#f0f921\"]],\"type\":\"histogram2d\"}],\"histogram2dcontour\":[{\"colorbar\":{\"outlinewidth\":0,\"ticks\":\"\"},\"colorscale\":[[0.0,\"#0d0887\"],[0.1111111111111111,\"#46039f\"],[0.2222222222222222,\"#7201a8\"],[0.3333333333333333,\"#9c179e\"],[0.4444444444444444,\"#bd3786\"],[0.5555555555555556,\"#d8576b\"],[0.6666666666666666,\"#ed7953\"],[0.7777777777777778,\"#fb9f3a\"],[0.8888888888888888,\"#fdca26\"],[1.0,\"#f0f921\"]],\"type\":\"histogram2dcontour\"}],\"mesh3d\":[{\"colorbar\":{\"outlinewidth\":0,\"ticks\":\"\"},\"type\":\"mesh3d\"}],\"parcoords\":[{\"line\":{\"colorbar\":{\"outlinewidth\":0,\"ticks\":\"\"}},\"type\":\"parcoords\"}],\"pie\":[{\"automargin\":true,\"type\":\"pie\"}],\"scatter\":[{\"marker\":{\"colorbar\":{\"outlinewidth\":0,\"ticks\":\"\"}},\"type\":\"scatter\"}],\"scatter3d\":[{\"line\":{\"colorbar\":{\"outlinewidth\":0,\"ticks\":\"\"}},\"marker\":{\"colorbar\":{\"outlinewidth\":0,\"ticks\":\"\"}},\"type\":\"scatter3d\"}],\"scattercarpet\":[{\"marker\":{\"colorbar\":{\"outlinewidth\":0,\"ticks\":\"\"}},\"type\":\"scattercarpet\"}],\"scattergeo\":[{\"marker\":{\"colorbar\":{\"outlinewidth\":0,\"ticks\":\"\"}},\"type\":\"scattergeo\"}],\"scattergl\":[{\"marker\":{\"colorbar\":{\"outlinewidth\":0,\"ticks\":\"\"}},\"type\":\"scattergl\"}],\"scattermapbox\":[{\"marker\":{\"colorbar\":{\"outlinewidth\":0,\"ticks\":\"\"}},\"type\":\"scattermapbox\"}],\"scatterpolar\":[{\"marker\":{\"colorbar\":{\"outlinewidth\":0,\"ticks\":\"\"}},\"type\":\"scatterpolar\"}],\"scatterpolargl\":[{\"marker\":{\"colorbar\":{\"outlinewidth\":0,\"ticks\":\"\"}},\"type\":\"scatterpolargl\"}],\"scatterternary\":[{\"marker\":{\"colorbar\":{\"outlinewidth\":0,\"ticks\":\"\"}},\"type\":\"scatterternary\"}],\"surface\":[{\"colorbar\":{\"outlinewidth\":0,\"ticks\":\"\"},\"colorscale\":[[0.0,\"#0d0887\"],[0.1111111111111111,\"#46039f\"],[0.2222222222222222,\"#7201a8\"],[0.3333333333333333,\"#9c179e\"],[0.4444444444444444,\"#bd3786\"],[0.5555555555555556,\"#d8576b\"],[0.6666666666666666,\"#ed7953\"],[0.7777777777777778,\"#fb9f3a\"],[0.8888888888888888,\"#fdca26\"],[1.0,\"#f0f921\"]],\"type\":\"surface\"}],\"table\":[{\"cells\":{\"fill\":{\"color\":\"#EBF0F8\"},\"line\":{\"color\":\"white\"}},\"header\":{\"fill\":{\"color\":\"#C8D4E3\"},\"line\":{\"color\":\"white\"}},\"type\":\"table\"}]},\"layout\":{\"annotationdefaults\":{\"arrowcolor\":\"#2a3f5f\",\"arrowhead\":0,\"arrowwidth\":1},\"autotypenumbers\":\"strict\",\"coloraxis\":{\"colorbar\":{\"outlinewidth\":0,\"ticks\":\"\"}},\"colorscale\":{\"diverging\":[[0,\"#8e0152\"],[0.1,\"#c51b7d\"],[0.2,\"#de77ae\"],[0.3,\"#f1b6da\"],[0.4,\"#fde0ef\"],[0.5,\"#f7f7f7\"],[0.6,\"#e6f5d0\"],[0.7,\"#b8e186\"],[0.8,\"#7fbc41\"],[0.9,\"#4d9221\"],[1,\"#276419\"]],\"sequential\":[[0.0,\"#0d0887\"],[0.1111111111111111,\"#46039f\"],[0.2222222222222222,\"#7201a8\"],[0.3333333333333333,\"#9c179e\"],[0.4444444444444444,\"#bd3786\"],[0.5555555555555556,\"#d8576b\"],[0.6666666666666666,\"#ed7953\"],[0.7777777777777778,\"#fb9f3a\"],[0.8888888888888888,\"#fdca26\"],[1.0,\"#f0f921\"]],\"sequentialminus\":[[0.0,\"#0d0887\"],[0.1111111111111111,\"#46039f\"],[0.2222222222222222,\"#7201a8\"],[0.3333333333333333,\"#9c179e\"],[0.4444444444444444,\"#bd3786\"],[0.5555555555555556,\"#d8576b\"],[0.6666666666666666,\"#ed7953\"],[0.7777777777777778,\"#fb9f3a\"],[0.8888888888888888,\"#fdca26\"],[1.0,\"#f0f921\"]]},\"colorway\":[\"#636efa\",\"#EF553B\",\"#00cc96\",\"#ab63fa\",\"#FFA15A\",\"#19d3f3\",\"#FF6692\",\"#B6E880\",\"#FF97FF\",\"#FECB52\"],\"font\":{\"color\":\"#2a3f5f\"},\"geo\":{\"bgcolor\":\"white\",\"lakecolor\":\"white\",\"landcolor\":\"#E5ECF6\",\"showlakes\":true,\"showland\":true,\"subunitcolor\":\"white\"},\"hoverlabel\":{\"align\":\"left\"},\"hovermode\":\"closest\",\"mapbox\":{\"style\":\"light\"},\"paper_bgcolor\":\"white\",\"plot_bgcolor\":\"#E5ECF6\",\"polar\":{\"angularaxis\":{\"gridcolor\":\"white\",\"linecolor\":\"white\",\"ticks\":\"\"},\"bgcolor\":\"#E5ECF6\",\"radialaxis\":{\"gridcolor\":\"white\",\"linecolor\":\"white\",\"ticks\":\"\"}},\"scene\":{\"xaxis\":{\"backgroundcolor\":\"#E5ECF6\",\"gridcolor\":\"white\",\"gridwidth\":2,\"linecolor\":\"white\",\"showbackground\":true,\"ticks\":\"\",\"zerolinecolor\":\"white\"},\"yaxis\":{\"backgroundcolor\":\"#E5ECF6\",\"gridcolor\":\"white\",\"gridwidth\":2,\"linecolor\":\"white\",\"showbackground\":true,\"ticks\":\"\",\"zerolinecolor\":\"white\"},\"zaxis\":{\"backgroundcolor\":\"#E5ECF6\",\"gridcolor\":\"white\",\"gridwidth\":2,\"linecolor\":\"white\",\"showbackground\":true,\"ticks\":\"\",\"zerolinecolor\":\"white\"}},\"shapedefaults\":{\"line\":{\"color\":\"#2a3f5f\"}},\"ternary\":{\"aaxis\":{\"gridcolor\":\"white\",\"linecolor\":\"white\",\"ticks\":\"\"},\"baxis\":{\"gridcolor\":\"white\",\"linecolor\":\"white\",\"ticks\":\"\"},\"bgcolor\":\"#E5ECF6\",\"caxis\":{\"gridcolor\":\"white\",\"linecolor\":\"white\",\"ticks\":\"\"}},\"title\":{\"x\":0.05},\"xaxis\":{\"automargin\":true,\"gridcolor\":\"white\",\"linecolor\":\"white\",\"ticks\":\"\",\"title\":{\"standoff\":15},\"zerolinecolor\":\"white\",\"zerolinewidth\":2},\"yaxis\":{\"automargin\":true,\"gridcolor\":\"white\",\"linecolor\":\"white\",\"ticks\":\"\",\"title\":{\"standoff\":15},\"zerolinecolor\":\"white\",\"zerolinewidth\":2}}},\"title\":{\"text\":\"Os 5 Filmes Mais Votados de 2016\"},\"width\":900,\"xaxis\":{\"anchor\":\"y\",\"domain\":[0.0,1.0],\"title\":{\"text\":\"votes\"}},\"yaxis\":{\"anchor\":\"x\",\"domain\":[0.0,1.0],\"title\":{\"text\":\"title\"}}},                        {\"responsive\": true}                    ).then(function(){\n",
       "                            \n",
       "var gd = document.getElementById('9c2ccbc6-7cdd-481d-a458-d2d2d6a2ecf4');\n",
       "var x = new MutationObserver(function (mutations, observer) {{\n",
       "        var display = window.getComputedStyle(gd).display;\n",
       "        if (!display || display === 'none') {{\n",
       "            console.log([gd, 'removed!']);\n",
       "            Plotly.purge(gd);\n",
       "            observer.disconnect();\n",
       "        }}\n",
       "}});\n",
       "\n",
       "// Listen for the removal of the full notebook cells\n",
       "var notebookContainer = gd.closest('#notebook-container');\n",
       "if (notebookContainer) {{\n",
       "    x.observe(notebookContainer, {childList: true});\n",
       "}}\n",
       "\n",
       "// Listen for the clearing of the current output cell\n",
       "var outputEl = gd.closest('.output');\n",
       "if (outputEl) {{\n",
       "    x.observe(outputEl, {childList: true});\n",
       "}}\n",
       "\n",
       "                        })                };                });            </script>        </div>"
      ]
     },
     "metadata": {},
     "output_type": "display_data"
    }
   ],
   "source": [
    "import plotly.express as px\n",
    "\n",
    "fig = px.bar(primeiroGrafico.sort_values('votes'), x='votes',y='title',\n",
    "             orientation='h', \n",
    "             title='Os 5 Filmes Mais Votados de 2016',\n",
    "             color=[1,2,3,4,5], \n",
    "             height=600, \n",
    "             width=900)\n",
    "fig.show()"
   ]
  },
  {
   "cell_type": "code",
   "execution_count": 53,
   "id": "ad69ec75",
   "metadata": {
    "ExecuteTime": {
     "end_time": "2021-08-12T12:15:39.311563Z",
     "start_time": "2021-08-12T12:15:38.942546Z"
    },
    "hidden": true
   },
   "outputs": [],
   "source": [
    "# import plotly.io as pio\n",
    "\n",
    "# pio.write_html(fig, file='_img/Os 5 Filmes Mais Votados de 2016.html')\n",
    "# pio.write_image(fig, file='_img/Os 5 Filmes Mais Votados de 2016.svg')\n"
   ]
  },
  {
   "cell_type": "markdown",
   "id": "ee64d695",
   "metadata": {
    "hidden": true
   },
   "source": [
    "#### Gráfico 2 : Porque escolhi esse gráfico : \n",
    ">Queria visualizar qual foi o diretor que mais publicou filmes e se isso garantia uma boa avaliação e votos ao longo do tempo.<br>\n",
    ">A partir dessa visualização, vejo que mesmo o diretor Ridley Scott tenha publicado mais filmes ao longo dos anos, não alcançou um número de votos e de avaliações consideráveis quando comparado com o diretor Christopher Nolan"
   ]
  },
  {
   "cell_type": "code",
   "execution_count": 54,
   "id": "0f60888b",
   "metadata": {
    "ExecuteTime": {
     "end_time": "2021-08-12T12:16:49.885255Z",
     "start_time": "2021-08-12T12:16:49.784250Z"
    },
    "hidden": true
   },
   "outputs": [
    {
     "data": {
      "application/vnd.plotly.v1+json": {
       "config": {
        "plotlyServerURL": "https://plot.ly"
       },
       "data": [
        {
         "alignmentgroup": "True",
         "customdata": [
          [
           9,
           "Interstellar"
          ],
          [
           9,
           "The Dark Knight"
          ],
          [
           9,
           "The Prestige"
          ],
          [
           9,
           "Inception"
          ],
          [
           9,
           "The Dark Knight Rises"
          ]
         ],
         "hovertemplate": "director=Christopher Nolan<br>year=%{x}<br>votes=%{y}<br>rating=%{customdata[0]}<br>title=%{customdata[1]}<extra></extra>",
         "legendgroup": "Christopher Nolan",
         "marker": {
          "color": "#636efa",
          "pattern": {
           "shape": ""
          }
         },
         "name": "Christopher Nolan",
         "offsetgroup": "Christopher Nolan",
         "orientation": "v",
         "showlegend": true,
         "textposition": "auto",
         "type": "bar",
         "x": [
          2014,
          2008,
          2006,
          2010,
          2012
         ],
         "xaxis": "x",
         "y": [
          1047747,
          1791916,
          913152,
          1583625,
          1222645
         ],
         "yaxis": "y"
        },
        {
         "alignmentgroup": "True",
         "customdata": [
          [
           7,
           "Prometheus"
          ],
          [
           8,
           "The Martian"
          ],
          [
           7,
           "Robin Hood"
          ],
          [
           8,
           "American Gangster"
          ],
          [
           6,
           "Exodus: Gods and Kings"
          ],
          [
           5,
           "The Counselor"
          ],
          [
           7,
           "A Good Year"
          ],
          [
           7,
           "Body of Lies"
          ]
         ],
         "hovertemplate": "director=Ridley Scott<br>year=%{x}<br>votes=%{y}<br>rating=%{customdata[0]}<br>title=%{customdata[1]}<extra></extra>",
         "legendgroup": "Ridley Scott",
         "marker": {
          "color": "#EF553B",
          "pattern": {
           "shape": ""
          }
         },
         "name": "Ridley Scott",
         "offsetgroup": "Ridley Scott",
         "orientation": "v",
         "showlegend": true,
         "textposition": "auto",
         "type": "bar",
         "x": [
          2012,
          2015,
          2010,
          2007,
          2014,
          2013,
          2006,
          2008
         ],
         "xaxis": "x",
         "y": [
          485820,
          556097,
          221117,
          337835,
          137299,
          84927,
          74674,
          182305
         ],
         "yaxis": "y"
        }
       ],
       "layout": {
        "barmode": "relative",
        "height": 600,
        "legend": {
         "title": {
          "text": "director"
         },
         "tracegroupgap": 0
        },
        "template": {
         "data": {
          "bar": [
           {
            "error_x": {
             "color": "#2a3f5f"
            },
            "error_y": {
             "color": "#2a3f5f"
            },
            "marker": {
             "line": {
              "color": "#E5ECF6",
              "width": 0.5
             },
             "pattern": {
              "fillmode": "overlay",
              "size": 10,
              "solidity": 0.2
             }
            },
            "type": "bar"
           }
          ],
          "barpolar": [
           {
            "marker": {
             "line": {
              "color": "#E5ECF6",
              "width": 0.5
             },
             "pattern": {
              "fillmode": "overlay",
              "size": 10,
              "solidity": 0.2
             }
            },
            "type": "barpolar"
           }
          ],
          "carpet": [
           {
            "aaxis": {
             "endlinecolor": "#2a3f5f",
             "gridcolor": "white",
             "linecolor": "white",
             "minorgridcolor": "white",
             "startlinecolor": "#2a3f5f"
            },
            "baxis": {
             "endlinecolor": "#2a3f5f",
             "gridcolor": "white",
             "linecolor": "white",
             "minorgridcolor": "white",
             "startlinecolor": "#2a3f5f"
            },
            "type": "carpet"
           }
          ],
          "choropleth": [
           {
            "colorbar": {
             "outlinewidth": 0,
             "ticks": ""
            },
            "type": "choropleth"
           }
          ],
          "contour": [
           {
            "colorbar": {
             "outlinewidth": 0,
             "ticks": ""
            },
            "colorscale": [
             [
              0,
              "#0d0887"
             ],
             [
              0.1111111111111111,
              "#46039f"
             ],
             [
              0.2222222222222222,
              "#7201a8"
             ],
             [
              0.3333333333333333,
              "#9c179e"
             ],
             [
              0.4444444444444444,
              "#bd3786"
             ],
             [
              0.5555555555555556,
              "#d8576b"
             ],
             [
              0.6666666666666666,
              "#ed7953"
             ],
             [
              0.7777777777777778,
              "#fb9f3a"
             ],
             [
              0.8888888888888888,
              "#fdca26"
             ],
             [
              1,
              "#f0f921"
             ]
            ],
            "type": "contour"
           }
          ],
          "contourcarpet": [
           {
            "colorbar": {
             "outlinewidth": 0,
             "ticks": ""
            },
            "type": "contourcarpet"
           }
          ],
          "heatmap": [
           {
            "colorbar": {
             "outlinewidth": 0,
             "ticks": ""
            },
            "colorscale": [
             [
              0,
              "#0d0887"
             ],
             [
              0.1111111111111111,
              "#46039f"
             ],
             [
              0.2222222222222222,
              "#7201a8"
             ],
             [
              0.3333333333333333,
              "#9c179e"
             ],
             [
              0.4444444444444444,
              "#bd3786"
             ],
             [
              0.5555555555555556,
              "#d8576b"
             ],
             [
              0.6666666666666666,
              "#ed7953"
             ],
             [
              0.7777777777777778,
              "#fb9f3a"
             ],
             [
              0.8888888888888888,
              "#fdca26"
             ],
             [
              1,
              "#f0f921"
             ]
            ],
            "type": "heatmap"
           }
          ],
          "heatmapgl": [
           {
            "colorbar": {
             "outlinewidth": 0,
             "ticks": ""
            },
            "colorscale": [
             [
              0,
              "#0d0887"
             ],
             [
              0.1111111111111111,
              "#46039f"
             ],
             [
              0.2222222222222222,
              "#7201a8"
             ],
             [
              0.3333333333333333,
              "#9c179e"
             ],
             [
              0.4444444444444444,
              "#bd3786"
             ],
             [
              0.5555555555555556,
              "#d8576b"
             ],
             [
              0.6666666666666666,
              "#ed7953"
             ],
             [
              0.7777777777777778,
              "#fb9f3a"
             ],
             [
              0.8888888888888888,
              "#fdca26"
             ],
             [
              1,
              "#f0f921"
             ]
            ],
            "type": "heatmapgl"
           }
          ],
          "histogram": [
           {
            "marker": {
             "pattern": {
              "fillmode": "overlay",
              "size": 10,
              "solidity": 0.2
             }
            },
            "type": "histogram"
           }
          ],
          "histogram2d": [
           {
            "colorbar": {
             "outlinewidth": 0,
             "ticks": ""
            },
            "colorscale": [
             [
              0,
              "#0d0887"
             ],
             [
              0.1111111111111111,
              "#46039f"
             ],
             [
              0.2222222222222222,
              "#7201a8"
             ],
             [
              0.3333333333333333,
              "#9c179e"
             ],
             [
              0.4444444444444444,
              "#bd3786"
             ],
             [
              0.5555555555555556,
              "#d8576b"
             ],
             [
              0.6666666666666666,
              "#ed7953"
             ],
             [
              0.7777777777777778,
              "#fb9f3a"
             ],
             [
              0.8888888888888888,
              "#fdca26"
             ],
             [
              1,
              "#f0f921"
             ]
            ],
            "type": "histogram2d"
           }
          ],
          "histogram2dcontour": [
           {
            "colorbar": {
             "outlinewidth": 0,
             "ticks": ""
            },
            "colorscale": [
             [
              0,
              "#0d0887"
             ],
             [
              0.1111111111111111,
              "#46039f"
             ],
             [
              0.2222222222222222,
              "#7201a8"
             ],
             [
              0.3333333333333333,
              "#9c179e"
             ],
             [
              0.4444444444444444,
              "#bd3786"
             ],
             [
              0.5555555555555556,
              "#d8576b"
             ],
             [
              0.6666666666666666,
              "#ed7953"
             ],
             [
              0.7777777777777778,
              "#fb9f3a"
             ],
             [
              0.8888888888888888,
              "#fdca26"
             ],
             [
              1,
              "#f0f921"
             ]
            ],
            "type": "histogram2dcontour"
           }
          ],
          "mesh3d": [
           {
            "colorbar": {
             "outlinewidth": 0,
             "ticks": ""
            },
            "type": "mesh3d"
           }
          ],
          "parcoords": [
           {
            "line": {
             "colorbar": {
              "outlinewidth": 0,
              "ticks": ""
             }
            },
            "type": "parcoords"
           }
          ],
          "pie": [
           {
            "automargin": true,
            "type": "pie"
           }
          ],
          "scatter": [
           {
            "marker": {
             "colorbar": {
              "outlinewidth": 0,
              "ticks": ""
             }
            },
            "type": "scatter"
           }
          ],
          "scatter3d": [
           {
            "line": {
             "colorbar": {
              "outlinewidth": 0,
              "ticks": ""
             }
            },
            "marker": {
             "colorbar": {
              "outlinewidth": 0,
              "ticks": ""
             }
            },
            "type": "scatter3d"
           }
          ],
          "scattercarpet": [
           {
            "marker": {
             "colorbar": {
              "outlinewidth": 0,
              "ticks": ""
             }
            },
            "type": "scattercarpet"
           }
          ],
          "scattergeo": [
           {
            "marker": {
             "colorbar": {
              "outlinewidth": 0,
              "ticks": ""
             }
            },
            "type": "scattergeo"
           }
          ],
          "scattergl": [
           {
            "marker": {
             "colorbar": {
              "outlinewidth": 0,
              "ticks": ""
             }
            },
            "type": "scattergl"
           }
          ],
          "scattermapbox": [
           {
            "marker": {
             "colorbar": {
              "outlinewidth": 0,
              "ticks": ""
             }
            },
            "type": "scattermapbox"
           }
          ],
          "scatterpolar": [
           {
            "marker": {
             "colorbar": {
              "outlinewidth": 0,
              "ticks": ""
             }
            },
            "type": "scatterpolar"
           }
          ],
          "scatterpolargl": [
           {
            "marker": {
             "colorbar": {
              "outlinewidth": 0,
              "ticks": ""
             }
            },
            "type": "scatterpolargl"
           }
          ],
          "scatterternary": [
           {
            "marker": {
             "colorbar": {
              "outlinewidth": 0,
              "ticks": ""
             }
            },
            "type": "scatterternary"
           }
          ],
          "surface": [
           {
            "colorbar": {
             "outlinewidth": 0,
             "ticks": ""
            },
            "colorscale": [
             [
              0,
              "#0d0887"
             ],
             [
              0.1111111111111111,
              "#46039f"
             ],
             [
              0.2222222222222222,
              "#7201a8"
             ],
             [
              0.3333333333333333,
              "#9c179e"
             ],
             [
              0.4444444444444444,
              "#bd3786"
             ],
             [
              0.5555555555555556,
              "#d8576b"
             ],
             [
              0.6666666666666666,
              "#ed7953"
             ],
             [
              0.7777777777777778,
              "#fb9f3a"
             ],
             [
              0.8888888888888888,
              "#fdca26"
             ],
             [
              1,
              "#f0f921"
             ]
            ],
            "type": "surface"
           }
          ],
          "table": [
           {
            "cells": {
             "fill": {
              "color": "#EBF0F8"
             },
             "line": {
              "color": "white"
             }
            },
            "header": {
             "fill": {
              "color": "#C8D4E3"
             },
             "line": {
              "color": "white"
             }
            },
            "type": "table"
           }
          ]
         },
         "layout": {
          "annotationdefaults": {
           "arrowcolor": "#2a3f5f",
           "arrowhead": 0,
           "arrowwidth": 1
          },
          "autotypenumbers": "strict",
          "coloraxis": {
           "colorbar": {
            "outlinewidth": 0,
            "ticks": ""
           }
          },
          "colorscale": {
           "diverging": [
            [
             0,
             "#8e0152"
            ],
            [
             0.1,
             "#c51b7d"
            ],
            [
             0.2,
             "#de77ae"
            ],
            [
             0.3,
             "#f1b6da"
            ],
            [
             0.4,
             "#fde0ef"
            ],
            [
             0.5,
             "#f7f7f7"
            ],
            [
             0.6,
             "#e6f5d0"
            ],
            [
             0.7,
             "#b8e186"
            ],
            [
             0.8,
             "#7fbc41"
            ],
            [
             0.9,
             "#4d9221"
            ],
            [
             1,
             "#276419"
            ]
           ],
           "sequential": [
            [
             0,
             "#0d0887"
            ],
            [
             0.1111111111111111,
             "#46039f"
            ],
            [
             0.2222222222222222,
             "#7201a8"
            ],
            [
             0.3333333333333333,
             "#9c179e"
            ],
            [
             0.4444444444444444,
             "#bd3786"
            ],
            [
             0.5555555555555556,
             "#d8576b"
            ],
            [
             0.6666666666666666,
             "#ed7953"
            ],
            [
             0.7777777777777778,
             "#fb9f3a"
            ],
            [
             0.8888888888888888,
             "#fdca26"
            ],
            [
             1,
             "#f0f921"
            ]
           ],
           "sequentialminus": [
            [
             0,
             "#0d0887"
            ],
            [
             0.1111111111111111,
             "#46039f"
            ],
            [
             0.2222222222222222,
             "#7201a8"
            ],
            [
             0.3333333333333333,
             "#9c179e"
            ],
            [
             0.4444444444444444,
             "#bd3786"
            ],
            [
             0.5555555555555556,
             "#d8576b"
            ],
            [
             0.6666666666666666,
             "#ed7953"
            ],
            [
             0.7777777777777778,
             "#fb9f3a"
            ],
            [
             0.8888888888888888,
             "#fdca26"
            ],
            [
             1,
             "#f0f921"
            ]
           ]
          },
          "colorway": [
           "#636efa",
           "#EF553B",
           "#00cc96",
           "#ab63fa",
           "#FFA15A",
           "#19d3f3",
           "#FF6692",
           "#B6E880",
           "#FF97FF",
           "#FECB52"
          ],
          "font": {
           "color": "#2a3f5f"
          },
          "geo": {
           "bgcolor": "white",
           "lakecolor": "white",
           "landcolor": "#E5ECF6",
           "showlakes": true,
           "showland": true,
           "subunitcolor": "white"
          },
          "hoverlabel": {
           "align": "left"
          },
          "hovermode": "closest",
          "mapbox": {
           "style": "light"
          },
          "paper_bgcolor": "white",
          "plot_bgcolor": "#E5ECF6",
          "polar": {
           "angularaxis": {
            "gridcolor": "white",
            "linecolor": "white",
            "ticks": ""
           },
           "bgcolor": "#E5ECF6",
           "radialaxis": {
            "gridcolor": "white",
            "linecolor": "white",
            "ticks": ""
           }
          },
          "scene": {
           "xaxis": {
            "backgroundcolor": "#E5ECF6",
            "gridcolor": "white",
            "gridwidth": 2,
            "linecolor": "white",
            "showbackground": true,
            "ticks": "",
            "zerolinecolor": "white"
           },
           "yaxis": {
            "backgroundcolor": "#E5ECF6",
            "gridcolor": "white",
            "gridwidth": 2,
            "linecolor": "white",
            "showbackground": true,
            "ticks": "",
            "zerolinecolor": "white"
           },
           "zaxis": {
            "backgroundcolor": "#E5ECF6",
            "gridcolor": "white",
            "gridwidth": 2,
            "linecolor": "white",
            "showbackground": true,
            "ticks": "",
            "zerolinecolor": "white"
           }
          },
          "shapedefaults": {
           "line": {
            "color": "#2a3f5f"
           }
          },
          "ternary": {
           "aaxis": {
            "gridcolor": "white",
            "linecolor": "white",
            "ticks": ""
           },
           "baxis": {
            "gridcolor": "white",
            "linecolor": "white",
            "ticks": ""
           },
           "bgcolor": "#E5ECF6",
           "caxis": {
            "gridcolor": "white",
            "linecolor": "white",
            "ticks": ""
           }
          },
          "title": {
           "x": 0.05
          },
          "xaxis": {
           "automargin": true,
           "gridcolor": "white",
           "linecolor": "white",
           "ticks": "",
           "title": {
            "standoff": 15
           },
           "zerolinecolor": "white",
           "zerolinewidth": 2
          },
          "yaxis": {
           "automargin": true,
           "gridcolor": "white",
           "linecolor": "white",
           "ticks": "",
           "title": {
            "standoff": 15
           },
           "zerolinecolor": "white",
           "zerolinewidth": 2
          }
         }
        },
        "title": {
         "text": "Diretor Mais Votado x Diretor Com Mais Filmes"
        },
        "width": 900,
        "xaxis": {
         "anchor": "y",
         "domain": [
          0,
          1
         ],
         "title": {
          "text": "year"
         }
        },
        "yaxis": {
         "anchor": "x",
         "domain": [
          0,
          1
         ],
         "title": {
          "text": "votes"
         }
        }
       }
      },
      "text/html": [
       "<div>                            <div id=\"8a4dc8a4-5f3e-474d-83ac-c35059606194\" class=\"plotly-graph-div\" style=\"height:600px; width:900px;\"></div>            <script type=\"text/javascript\">                require([\"plotly\"], function(Plotly) {                    window.PLOTLYENV=window.PLOTLYENV || {};                                    if (document.getElementById(\"8a4dc8a4-5f3e-474d-83ac-c35059606194\")) {                    Plotly.newPlot(                        \"8a4dc8a4-5f3e-474d-83ac-c35059606194\",                        [{\"alignmentgroup\":\"True\",\"customdata\":[[9,\"Interstellar\"],[9,\"The Dark Knight\"],[9,\"The Prestige\"],[9,\"Inception\"],[9,\"The Dark Knight Rises\"]],\"hovertemplate\":\"director=Christopher Nolan<br>year=%{x}<br>votes=%{y}<br>rating=%{customdata[0]}<br>title=%{customdata[1]}<extra></extra>\",\"legendgroup\":\"Christopher Nolan\",\"marker\":{\"color\":\"#636efa\",\"pattern\":{\"shape\":\"\"}},\"name\":\"Christopher Nolan\",\"offsetgroup\":\"Christopher Nolan\",\"orientation\":\"v\",\"showlegend\":true,\"textposition\":\"auto\",\"type\":\"bar\",\"x\":[2014,2008,2006,2010,2012],\"xaxis\":\"x\",\"y\":[1047747,1791916,913152,1583625,1222645],\"yaxis\":\"y\"},{\"alignmentgroup\":\"True\",\"customdata\":[[7,\"Prometheus\"],[8,\"The Martian\"],[7,\"Robin Hood\"],[8,\"American Gangster\"],[6,\"Exodus: Gods and Kings\"],[5,\"The Counselor\"],[7,\"A Good Year\"],[7,\"Body of Lies\"]],\"hovertemplate\":\"director=Ridley Scott<br>year=%{x}<br>votes=%{y}<br>rating=%{customdata[0]}<br>title=%{customdata[1]}<extra></extra>\",\"legendgroup\":\"Ridley Scott\",\"marker\":{\"color\":\"#EF553B\",\"pattern\":{\"shape\":\"\"}},\"name\":\"Ridley Scott\",\"offsetgroup\":\"Ridley Scott\",\"orientation\":\"v\",\"showlegend\":true,\"textposition\":\"auto\",\"type\":\"bar\",\"x\":[2012,2015,2010,2007,2014,2013,2006,2008],\"xaxis\":\"x\",\"y\":[485820,556097,221117,337835,137299,84927,74674,182305],\"yaxis\":\"y\"}],                        {\"barmode\":\"relative\",\"height\":600,\"legend\":{\"title\":{\"text\":\"director\"},\"tracegroupgap\":0},\"template\":{\"data\":{\"bar\":[{\"error_x\":{\"color\":\"#2a3f5f\"},\"error_y\":{\"color\":\"#2a3f5f\"},\"marker\":{\"line\":{\"color\":\"#E5ECF6\",\"width\":0.5},\"pattern\":{\"fillmode\":\"overlay\",\"size\":10,\"solidity\":0.2}},\"type\":\"bar\"}],\"barpolar\":[{\"marker\":{\"line\":{\"color\":\"#E5ECF6\",\"width\":0.5},\"pattern\":{\"fillmode\":\"overlay\",\"size\":10,\"solidity\":0.2}},\"type\":\"barpolar\"}],\"carpet\":[{\"aaxis\":{\"endlinecolor\":\"#2a3f5f\",\"gridcolor\":\"white\",\"linecolor\":\"white\",\"minorgridcolor\":\"white\",\"startlinecolor\":\"#2a3f5f\"},\"baxis\":{\"endlinecolor\":\"#2a3f5f\",\"gridcolor\":\"white\",\"linecolor\":\"white\",\"minorgridcolor\":\"white\",\"startlinecolor\":\"#2a3f5f\"},\"type\":\"carpet\"}],\"choropleth\":[{\"colorbar\":{\"outlinewidth\":0,\"ticks\":\"\"},\"type\":\"choropleth\"}],\"contour\":[{\"colorbar\":{\"outlinewidth\":0,\"ticks\":\"\"},\"colorscale\":[[0.0,\"#0d0887\"],[0.1111111111111111,\"#46039f\"],[0.2222222222222222,\"#7201a8\"],[0.3333333333333333,\"#9c179e\"],[0.4444444444444444,\"#bd3786\"],[0.5555555555555556,\"#d8576b\"],[0.6666666666666666,\"#ed7953\"],[0.7777777777777778,\"#fb9f3a\"],[0.8888888888888888,\"#fdca26\"],[1.0,\"#f0f921\"]],\"type\":\"contour\"}],\"contourcarpet\":[{\"colorbar\":{\"outlinewidth\":0,\"ticks\":\"\"},\"type\":\"contourcarpet\"}],\"heatmap\":[{\"colorbar\":{\"outlinewidth\":0,\"ticks\":\"\"},\"colorscale\":[[0.0,\"#0d0887\"],[0.1111111111111111,\"#46039f\"],[0.2222222222222222,\"#7201a8\"],[0.3333333333333333,\"#9c179e\"],[0.4444444444444444,\"#bd3786\"],[0.5555555555555556,\"#d8576b\"],[0.6666666666666666,\"#ed7953\"],[0.7777777777777778,\"#fb9f3a\"],[0.8888888888888888,\"#fdca26\"],[1.0,\"#f0f921\"]],\"type\":\"heatmap\"}],\"heatmapgl\":[{\"colorbar\":{\"outlinewidth\":0,\"ticks\":\"\"},\"colorscale\":[[0.0,\"#0d0887\"],[0.1111111111111111,\"#46039f\"],[0.2222222222222222,\"#7201a8\"],[0.3333333333333333,\"#9c179e\"],[0.4444444444444444,\"#bd3786\"],[0.5555555555555556,\"#d8576b\"],[0.6666666666666666,\"#ed7953\"],[0.7777777777777778,\"#fb9f3a\"],[0.8888888888888888,\"#fdca26\"],[1.0,\"#f0f921\"]],\"type\":\"heatmapgl\"}],\"histogram\":[{\"marker\":{\"pattern\":{\"fillmode\":\"overlay\",\"size\":10,\"solidity\":0.2}},\"type\":\"histogram\"}],\"histogram2d\":[{\"colorbar\":{\"outlinewidth\":0,\"ticks\":\"\"},\"colorscale\":[[0.0,\"#0d0887\"],[0.1111111111111111,\"#46039f\"],[0.2222222222222222,\"#7201a8\"],[0.3333333333333333,\"#9c179e\"],[0.4444444444444444,\"#bd3786\"],[0.5555555555555556,\"#d8576b\"],[0.6666666666666666,\"#ed7953\"],[0.7777777777777778,\"#fb9f3a\"],[0.8888888888888888,\"#fdca26\"],[1.0,\"#f0f921\"]],\"type\":\"histogram2d\"}],\"histogram2dcontour\":[{\"colorbar\":{\"outlinewidth\":0,\"ticks\":\"\"},\"colorscale\":[[0.0,\"#0d0887\"],[0.1111111111111111,\"#46039f\"],[0.2222222222222222,\"#7201a8\"],[0.3333333333333333,\"#9c179e\"],[0.4444444444444444,\"#bd3786\"],[0.5555555555555556,\"#d8576b\"],[0.6666666666666666,\"#ed7953\"],[0.7777777777777778,\"#fb9f3a\"],[0.8888888888888888,\"#fdca26\"],[1.0,\"#f0f921\"]],\"type\":\"histogram2dcontour\"}],\"mesh3d\":[{\"colorbar\":{\"outlinewidth\":0,\"ticks\":\"\"},\"type\":\"mesh3d\"}],\"parcoords\":[{\"line\":{\"colorbar\":{\"outlinewidth\":0,\"ticks\":\"\"}},\"type\":\"parcoords\"}],\"pie\":[{\"automargin\":true,\"type\":\"pie\"}],\"scatter\":[{\"marker\":{\"colorbar\":{\"outlinewidth\":0,\"ticks\":\"\"}},\"type\":\"scatter\"}],\"scatter3d\":[{\"line\":{\"colorbar\":{\"outlinewidth\":0,\"ticks\":\"\"}},\"marker\":{\"colorbar\":{\"outlinewidth\":0,\"ticks\":\"\"}},\"type\":\"scatter3d\"}],\"scattercarpet\":[{\"marker\":{\"colorbar\":{\"outlinewidth\":0,\"ticks\":\"\"}},\"type\":\"scattercarpet\"}],\"scattergeo\":[{\"marker\":{\"colorbar\":{\"outlinewidth\":0,\"ticks\":\"\"}},\"type\":\"scattergeo\"}],\"scattergl\":[{\"marker\":{\"colorbar\":{\"outlinewidth\":0,\"ticks\":\"\"}},\"type\":\"scattergl\"}],\"scattermapbox\":[{\"marker\":{\"colorbar\":{\"outlinewidth\":0,\"ticks\":\"\"}},\"type\":\"scattermapbox\"}],\"scatterpolar\":[{\"marker\":{\"colorbar\":{\"outlinewidth\":0,\"ticks\":\"\"}},\"type\":\"scatterpolar\"}],\"scatterpolargl\":[{\"marker\":{\"colorbar\":{\"outlinewidth\":0,\"ticks\":\"\"}},\"type\":\"scatterpolargl\"}],\"scatterternary\":[{\"marker\":{\"colorbar\":{\"outlinewidth\":0,\"ticks\":\"\"}},\"type\":\"scatterternary\"}],\"surface\":[{\"colorbar\":{\"outlinewidth\":0,\"ticks\":\"\"},\"colorscale\":[[0.0,\"#0d0887\"],[0.1111111111111111,\"#46039f\"],[0.2222222222222222,\"#7201a8\"],[0.3333333333333333,\"#9c179e\"],[0.4444444444444444,\"#bd3786\"],[0.5555555555555556,\"#d8576b\"],[0.6666666666666666,\"#ed7953\"],[0.7777777777777778,\"#fb9f3a\"],[0.8888888888888888,\"#fdca26\"],[1.0,\"#f0f921\"]],\"type\":\"surface\"}],\"table\":[{\"cells\":{\"fill\":{\"color\":\"#EBF0F8\"},\"line\":{\"color\":\"white\"}},\"header\":{\"fill\":{\"color\":\"#C8D4E3\"},\"line\":{\"color\":\"white\"}},\"type\":\"table\"}]},\"layout\":{\"annotationdefaults\":{\"arrowcolor\":\"#2a3f5f\",\"arrowhead\":0,\"arrowwidth\":1},\"autotypenumbers\":\"strict\",\"coloraxis\":{\"colorbar\":{\"outlinewidth\":0,\"ticks\":\"\"}},\"colorscale\":{\"diverging\":[[0,\"#8e0152\"],[0.1,\"#c51b7d\"],[0.2,\"#de77ae\"],[0.3,\"#f1b6da\"],[0.4,\"#fde0ef\"],[0.5,\"#f7f7f7\"],[0.6,\"#e6f5d0\"],[0.7,\"#b8e186\"],[0.8,\"#7fbc41\"],[0.9,\"#4d9221\"],[1,\"#276419\"]],\"sequential\":[[0.0,\"#0d0887\"],[0.1111111111111111,\"#46039f\"],[0.2222222222222222,\"#7201a8\"],[0.3333333333333333,\"#9c179e\"],[0.4444444444444444,\"#bd3786\"],[0.5555555555555556,\"#d8576b\"],[0.6666666666666666,\"#ed7953\"],[0.7777777777777778,\"#fb9f3a\"],[0.8888888888888888,\"#fdca26\"],[1.0,\"#f0f921\"]],\"sequentialminus\":[[0.0,\"#0d0887\"],[0.1111111111111111,\"#46039f\"],[0.2222222222222222,\"#7201a8\"],[0.3333333333333333,\"#9c179e\"],[0.4444444444444444,\"#bd3786\"],[0.5555555555555556,\"#d8576b\"],[0.6666666666666666,\"#ed7953\"],[0.7777777777777778,\"#fb9f3a\"],[0.8888888888888888,\"#fdca26\"],[1.0,\"#f0f921\"]]},\"colorway\":[\"#636efa\",\"#EF553B\",\"#00cc96\",\"#ab63fa\",\"#FFA15A\",\"#19d3f3\",\"#FF6692\",\"#B6E880\",\"#FF97FF\",\"#FECB52\"],\"font\":{\"color\":\"#2a3f5f\"},\"geo\":{\"bgcolor\":\"white\",\"lakecolor\":\"white\",\"landcolor\":\"#E5ECF6\",\"showlakes\":true,\"showland\":true,\"subunitcolor\":\"white\"},\"hoverlabel\":{\"align\":\"left\"},\"hovermode\":\"closest\",\"mapbox\":{\"style\":\"light\"},\"paper_bgcolor\":\"white\",\"plot_bgcolor\":\"#E5ECF6\",\"polar\":{\"angularaxis\":{\"gridcolor\":\"white\",\"linecolor\":\"white\",\"ticks\":\"\"},\"bgcolor\":\"#E5ECF6\",\"radialaxis\":{\"gridcolor\":\"white\",\"linecolor\":\"white\",\"ticks\":\"\"}},\"scene\":{\"xaxis\":{\"backgroundcolor\":\"#E5ECF6\",\"gridcolor\":\"white\",\"gridwidth\":2,\"linecolor\":\"white\",\"showbackground\":true,\"ticks\":\"\",\"zerolinecolor\":\"white\"},\"yaxis\":{\"backgroundcolor\":\"#E5ECF6\",\"gridcolor\":\"white\",\"gridwidth\":2,\"linecolor\":\"white\",\"showbackground\":true,\"ticks\":\"\",\"zerolinecolor\":\"white\"},\"zaxis\":{\"backgroundcolor\":\"#E5ECF6\",\"gridcolor\":\"white\",\"gridwidth\":2,\"linecolor\":\"white\",\"showbackground\":true,\"ticks\":\"\",\"zerolinecolor\":\"white\"}},\"shapedefaults\":{\"line\":{\"color\":\"#2a3f5f\"}},\"ternary\":{\"aaxis\":{\"gridcolor\":\"white\",\"linecolor\":\"white\",\"ticks\":\"\"},\"baxis\":{\"gridcolor\":\"white\",\"linecolor\":\"white\",\"ticks\":\"\"},\"bgcolor\":\"#E5ECF6\",\"caxis\":{\"gridcolor\":\"white\",\"linecolor\":\"white\",\"ticks\":\"\"}},\"title\":{\"x\":0.05},\"xaxis\":{\"automargin\":true,\"gridcolor\":\"white\",\"linecolor\":\"white\",\"ticks\":\"\",\"title\":{\"standoff\":15},\"zerolinecolor\":\"white\",\"zerolinewidth\":2},\"yaxis\":{\"automargin\":true,\"gridcolor\":\"white\",\"linecolor\":\"white\",\"ticks\":\"\",\"title\":{\"standoff\":15},\"zerolinecolor\":\"white\",\"zerolinewidth\":2}}},\"title\":{\"text\":\"Diretor Mais Votado x Diretor Com Mais Filmes\"},\"width\":900,\"xaxis\":{\"anchor\":\"y\",\"domain\":[0.0,1.0],\"title\":{\"text\":\"year\"}},\"yaxis\":{\"anchor\":\"x\",\"domain\":[0.0,1.0],\"title\":{\"text\":\"votes\"}}},                        {\"responsive\": true}                    ).then(function(){\n",
       "                            \n",
       "var gd = document.getElementById('8a4dc8a4-5f3e-474d-83ac-c35059606194');\n",
       "var x = new MutationObserver(function (mutations, observer) {{\n",
       "        var display = window.getComputedStyle(gd).display;\n",
       "        if (!display || display === 'none') {{\n",
       "            console.log([gd, 'removed!']);\n",
       "            Plotly.purge(gd);\n",
       "            observer.disconnect();\n",
       "        }}\n",
       "}});\n",
       "\n",
       "// Listen for the removal of the full notebook cells\n",
       "var notebookContainer = gd.closest('#notebook-container');\n",
       "if (notebookContainer) {{\n",
       "    x.observe(notebookContainer, {childList: true});\n",
       "}}\n",
       "\n",
       "// Listen for the clearing of the current output cell\n",
       "var outputEl = gd.closest('.output');\n",
       "if (outputEl) {{\n",
       "    x.observe(outputEl, {childList: true});\n",
       "}}\n",
       "\n",
       "                        })                };                });            </script>        </div>"
      ]
     },
     "metadata": {},
     "output_type": "display_data"
    }
   ],
   "source": [
    "import plotly.express as px\n",
    "df = px.data.tips()\n",
    "fig = px.bar(segundoGrafico, x=\"year\", y=\"votes\",\n",
    "             title='Diretor Mais Votado x Diretor Com Mais Filmes',\n",
    "             color='director',hover_data=[\"rating\", \"title\"],\n",
    "             height=600, \n",
    "             width=900)\n",
    "fig.show()"
   ]
  },
  {
   "cell_type": "code",
   "execution_count": 55,
   "id": "6dc23057-f9a3-4b2b-a303-698555386447",
   "metadata": {
    "ExecuteTime": {
     "end_time": "2021-08-12T12:16:52.263447Z",
     "start_time": "2021-08-12T12:16:52.104450Z"
    },
    "hidden": true
   },
   "outputs": [],
   "source": [
    "# import plotly.io as pio\n",
    "\n",
    "# pio.write_html(fig, file='_img/Diretor Mais Votado x Diretor Com Mais Filmes.html')\n",
    "# pio.write_image(fig, file='_img/Diretor Mais Votado x Diretor Com Mais Filmes.svg')\n"
   ]
  },
  {
   "cell_type": "markdown",
   "id": "6c839866",
   "metadata": {},
   "source": [
    "# Considerações da última revisão :\n",
    ">Salvei os gráficos de visualização deste notebook na pasta \"_img\" para garantir que consigam visualizar as imagens.<br>As imagens de extensão .html, devem apresentar informações hover, enquanto as svg não irão apresentar esta informação."
   ]
  }
 ],
 "metadata": {
  "kernelspec": {
   "display_name": "Python 3",
   "language": "python",
   "name": "python3"
  },
  "language_info": {
   "codemirror_mode": {
    "name": "ipython",
    "version": 3
   },
   "file_extension": ".py",
   "mimetype": "text/x-python",
   "name": "python",
   "nbconvert_exporter": "python",
   "pygments_lexer": "ipython3",
   "version": "3.8.8"
  },
  "toc": {
   "base_numbering": 1,
   "nav_menu": {},
   "number_sections": true,
   "sideBar": true,
   "skip_h1_title": false,
   "title_cell": "Table of Contents",
   "title_sidebar": "Contents",
   "toc_cell": false,
   "toc_position": {
    "height": "calc(100% - 180px)",
    "left": "10px",
    "top": "150px",
    "width": "165px"
   },
   "toc_section_display": true,
   "toc_window_display": true
  },
  "varInspector": {
   "cols": {
    "lenName": 16,
    "lenType": 16,
    "lenVar": 40
   },
   "kernels_config": {
    "python": {
     "delete_cmd_postfix": "",
     "delete_cmd_prefix": "del ",
     "library": "var_list.py",
     "varRefreshCmd": "print(var_dic_list())"
    },
    "r": {
     "delete_cmd_postfix": ") ",
     "delete_cmd_prefix": "rm(",
     "library": "var_list.r",
     "varRefreshCmd": "cat(var_dic_list()) "
    }
   },
   "types_to_exclude": [
    "module",
    "function",
    "builtin_function_or_method",
    "instance",
    "_Feature"
   ],
   "window_display": false
  }
 },
 "nbformat": 4,
 "nbformat_minor": 5
}
